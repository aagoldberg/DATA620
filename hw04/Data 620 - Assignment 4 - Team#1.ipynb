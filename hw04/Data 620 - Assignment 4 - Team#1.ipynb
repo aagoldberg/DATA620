{
 "cells": [
  {
   "cell_type": "markdown",
   "metadata": {},
   "source": [
    "# DATA 620, Assignment 4: High Frequency Words\n",
    "#### June 26, 2017\n",
    "\n",
    "### Group 1 Members:\n",
    "\n",
    "* Mauricio Alarcon\n",
    "* Sekhar Mekala\n",
    "* Aadi Kalloo\n",
    "* Srinivasa Illapani\n",
    "* Param Singh"
   ]
  },
  {
   "cell_type": "code",
   "execution_count": 1,
   "metadata": {
    "collapsed": false
   },
   "outputs": [],
   "source": [
    "import nltk, re, pprint\n",
    "from nltk import word_tokenize\n",
    "from nltk.corpus import stopwords\n",
    "import pandas as pd\n",
    "import matplotlib.pyplot as plt\n",
    "%matplotlib inline"
   ]
  },
  {
   "cell_type": "markdown",
   "metadata": {},
   "source": [
    "## Introduction\n",
    "\n",
    "For this study of high frequency words using *NLTK* we have elected to download * A Tale of Two Cities* by Charles Dickens. This text is available from Project Gutenberg and we access the file using the link in the code below. \n"
   ]
  },
  {
   "cell_type": "code",
   "execution_count": 2,
   "metadata": {
    "collapsed": false
   },
   "outputs": [],
   "source": [
    "import urllib2\n",
    "url = 'https://www.gutenberg.org/files/98/98-0.txt'\n",
    "response = urllib2.urlopen(url)\n",
    "\n",
    "raw = response.read().decode('utf8')"
   ]
  },
  {
   "cell_type": "code",
   "execution_count": 3,
   "metadata": {
    "collapsed": false
   },
   "outputs": [
    {
     "data": {
      "text/plain": [
       "792974"
      ]
     },
     "execution_count": 3,
     "metadata": {},
     "output_type": "execute_result"
    }
   ],
   "source": [
    "len(raw)"
   ]
  },
  {
   "cell_type": "code",
   "execution_count": 4,
   "metadata": {
    "collapsed": false
   },
   "outputs": [
    {
     "data": {
      "text/plain": [
       "u'\\ufeffThe Project Gutenberg EBook of A Tale of Two Cities, by Charles Dickens\\r\\n\\r'"
      ]
     },
     "execution_count": 4,
     "metadata": {},
     "output_type": "execute_result"
    }
   ],
   "source": [
    "raw[:75]"
   ]
  },
  {
   "cell_type": "markdown",
   "metadata": {},
   "source": [
    "The variable raw contains a string with 792,974 characters. This is the raw content of the book, including many details we are not interested in such as whitespace, line breaks and blank lines. Notice the \\r and \\n in the opening line of the file, which is how Python displays the special carriage return and line feed characters. For our language processing, we want to break up the string into words and punctuation. This step is called tokenization, and it produces our familiar structure, a list of words and punctuation."
   ]
  },
  {
   "cell_type": "markdown",
   "metadata": {},
   "source": [
    "## Identify the corpus text, Tokenization\n",
    "\n",
    "Project Gutenberg texts contain extra data in the header and footer of the text. We need to limit the corpus to just the text of the book and do so with the code below. This must be done by hand since each book has a slightly different header and footer text.\n",
    "\n",
    "Token - Each word is a token when a sentence is \"tokenized\" into words."
    "\n",
    "The find() and rfind() ("reverse find") methods help us get the right index values to use for slicing the string."
   ]
  },
  {
   "cell_type": "code",
   "execution_count": 5,
   "metadata": {
    "collapsed": false,
    "scrolled": false
   },
   "outputs": [
    {
     "data": {
      "text/plain": [
       "2646"
      ]
     },
     "execution_count": 5,
     "metadata": {},
     "output_type": "execute_result"
    }
   ],
   "source": [
    "raw.find(\"I. The Period\")\n"
   ]
  },
  {
   "cell_type": "code",
   "execution_count": 6,
   "metadata": {
    "collapsed": false
   },
   "outputs": [
    {
     "data": {
      "text/plain": [
       "773848"
      ]
     },
     "execution_count": 6,
     "metadata": {},
     "output_type": "execute_result"
    }
   ],
   "source": [
    "raw.rfind(\"End of the Project Gutenberg EBook of A Tale of Two Cities, by Charles Dickens\")"
   ]
  },
  {
   "cell_type": "code",
   "execution_count": 7,
   "metadata": {
    "collapsed": true
   },
   "outputs": [],
   "source": [
    "raw = raw[2646:773848]"
   ]
  },
  {
   "cell_type": "code",
   "execution_count": 8,
   "metadata": {
    "collapsed": false
   },
   "outputs": [
    {
     "name": "stdout",
     "output_type": "stream",
     "text": [
      "[nltk_data] Downloading package punkt to\n",
      "[nltk_data]     C:\\Users\\purna.illapani\\AppData\\Roaming\\nltk_data...\n",
      "[nltk_data]   Package punkt is already up-to-date!\n"
     ]
    }
   ],
   "source": [
    "nltk.download('punkt')\n",
    "tokens = word_tokenize(raw)\n",
    "len(tokens)\n",
    "tokens[:10]\n",
    "\n",
    "words = [w for w in tokens if w.isalpha()]\n",
    "words = [w.lower() for w in words]"
   ]
  },
  {
   "cell_type": "code",
   "execution_count": 9,
   "metadata": {
    "collapsed": false
   },
   "outputs": [
    {
     "data": {
      "text/plain": [
       "166500"
      ]
     },
     "execution_count": 9,
     "metadata": {},
     "output_type": "execute_result"
    }
   ],
   "source": [
    "len(tokens)"
   ]
  },
  {
   "cell_type": "markdown",
   "metadata": {},
   "source": [
    "## Total Unique Words\n",
    "We have elected to count the total number of unique words. To start with, just count the number of unique words in all of their variants. And use the WordNet Lemmatizer to reduce the words in the text to their root lemma (for example - run, runs, ran and running are forms of the same lexeme, with run as the lemma). This also compressed the text to a smaller set."
   ]
  },
  {
   "cell_type": "markdown",
   "metadata": {},
   "source": [
    "### Using all Variations of a Word\n",
    "We find that using all variations of a word gives us 9526 unique words in the text."
   ]
  },
  {
   "cell_type": "code",
   "execution_count": 10,
   "metadata": {
    "collapsed": false
   },
   "outputs": [
    {
     "data": {
      "text/plain": [
       "9526"
      ]
     },
     "execution_count": 10,
     "metadata": {},
     "output_type": "execute_result"
    }
   ],
   "source": [
    "len(set(words))"
   ]
  },
  {
   "cell_type": "markdown",
   "metadata": {},
   "source": [
    "## Top 200 Words\n",
    "We next use the built in frequency distribution function in *NLTK* to count the frequency of each word in the text. We then built a plot of these 100 words. We also decided to remove the most common stop words and plot a graph of these words as well. We see from this second graph that Holmes occurs more than 450 times in the text."
   ]
  },
  {
   "cell_type": "code",
   "execution_count": 11,
   "metadata": {
    "collapsed": false
   },
   "outputs": [
    {
     "data": {
      "text/html": [
       "<div>\n",
       "<table border=\"1\" class=\"dataframe\">\n",
       "  <thead>\n",
       "    <tr style=\"text-align: right;\">\n",
       "      <th></th>\n",
       "      <th>Word</th>\n",
       "      <th>Count</th>\n",
       "    </tr>\n",
       "  </thead>\n",
       "  <tbody>\n",
       "    <tr>\n",
       "      <th>0</th>\n",
       "      <td>the</td>\n",
       "      <td>8022</td>\n",
       "    </tr>\n",
       "    <tr>\n",
       "      <th>1</th>\n",
       "      <td>and</td>\n",
       "      <td>4980</td>\n",
       "    </tr>\n",
       "    <tr>\n",
       "      <th>2</th>\n",
       "      <td>of</td>\n",
       "      <td>4005</td>\n",
       "    </tr>\n",
       "    <tr>\n",
       "      <th>3</th>\n",
       "      <td>to</td>\n",
       "      <td>3474</td>\n",
       "    </tr>\n",
       "    <tr>\n",
       "      <th>4</th>\n",
       "      <td>a</td>\n",
       "      <td>2937</td>\n",
       "    </tr>\n",
       "  </tbody>\n",
       "</table>\n",
       "</div>"
      ],
      "text/plain": [
       "  Word  Count\n",
       "0  the   8022\n",
       "1  and   4980\n",
       "2   of   4005\n",
       "3   to   3474\n",
       "4    a   2937"
      ]
     },
     "execution_count": 11,
     "metadata": {},
     "output_type": "execute_result"
    }
   ],
   "source": [
    "fd = nltk.FreqDist(words)\n",
    "top_words = fd.most_common(200)\n",
    "top_wordsdf = pd.DataFrame(top_words, columns = ['Word', 'Count'])\n",
    "top_wordsdf.head(5)"
   ]
  },
  {
   "cell_type": "code",
   "execution_count": 12,
   "metadata": {
    "collapsed": false
   },
   "outputs": [
    {
     "data": {
      "text/html": [
       "<div>\n",
       "<table border=\"1\" class=\"dataframe\">\n",
       "  <thead>\n",
       "    <tr style=\"text-align: right;\">\n",
       "      <th></th>\n",
       "      <th>Word</th>\n",
       "      <th>Count</th>\n",
       "    </tr>\n",
       "  </thead>\n",
       "  <tbody>\n",
       "    <tr>\n",
       "      <th>195</th>\n",
       "      <td>tell</td>\n",
       "      <td>92</td>\n",
       "    </tr>\n",
       "    <tr>\n",
       "      <th>196</th>\n",
       "      <td>tellson</td>\n",
       "      <td>92</td>\n",
       "    </tr>\n",
       "    <tr>\n",
       "      <th>197</th>\n",
       "      <td>men</td>\n",
       "      <td>91</td>\n",
       "    </tr>\n",
       "    <tr>\n",
       "      <th>198</th>\n",
       "      <td>take</td>\n",
       "      <td>90</td>\n",
       "    </tr>\n",
       "    <tr>\n",
       "      <th>199</th>\n",
       "      <td>better</td>\n",
       "      <td>89</td>\n",
       "    </tr>\n",
       "  </tbody>\n",
       "</table>\n",
       "</div>"
      ],
      "text/plain": [
       "        Word  Count\n",
       "195     tell     92\n",
       "196  tellson     92\n",
       "197      men     91\n",
       "198     take     90\n",
       "199   better     89"
      ]
     },
     "execution_count": 12,
     "metadata": {},
     "output_type": "execute_result"
    }
   ],
   "source": [
    "top_wordsdf.tail(5)"
   ]
  },
  {
   "cell_type": "markdown",
   "metadata": {},
   "source": [
    "# Plot of the 50 Most Common Words"
   ]
  },
  {
   "cell_type": "code",
   "execution_count": 23,
   "metadata": {
    "collapsed": false
   },
   "outputs": [
    {
     "data": {
      "image/png": "iVBORw0KGgoAAAANSUhEUgAAAtgAAAGSCAYAAADZ+LaSAAAABHNCSVQICAgIfAhkiAAAAAlwSFlz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\nTQAAAAdJREFUgvx/z1rlL4jQ4UUAAAAASUVORK5CYII=\n",
      "text/plain": [
       "<matplotlib.figure.Figure at 0x12d41b90>"
      ]
     },
     "metadata": {},
     "output_type": "display_data"
    }
   ],
   "source": [
    "# plot the top 50\n",
    "plt.figure(figsize=(12, 6))\n",
    "plt.rc('xtick', labelsize=10) \n",
    "fd.plot(50)"
   ]
  },
  {
   "cell_type": "markdown",
   "metadata": {},
   "source": [
    "## Plot of the Top Words with Stop Words in English Removed\n",
    "\n",
    "One of the major forms of pre-processing is going to be filtering out useless data. In natural language processing, useless words (data), are referred to as stop words. We would not want these words taking up space in our database, or taking up valuable processing time. "
   ]
  },
  {
   "cell_type": "code",
   "execution_count": 37,
   "metadata": {
    "collapsed": false
   },
   "outputs": [
    {
     "name": "stdout",
     "output_type": "stream",
     "text": [
      "[nltk_data] Downloading package stopwords to\n",
      "[nltk_data]     C:\\Users\\purna.illapani\\AppData\\Roaming\\nltk_data...\n",
      "[nltk_data]   Package stopwords is already up-to-date!\n"
     ]
    }
   ],
   "source": [
    "nltk.download('stopwords')\n",
    "stoplist = stopwords.words('english')\n",
    "uwords = [w for w in words if w not in stoplist]\n",
    "ufd = nltk.FreqDist(uwords)\n"
   ]
  },
  {
   "cell_type": "code",
   "execution_count": 38,
   "metadata": {
    "collapsed": false,
    "scrolled": true
   },
   "outputs": [
    {
     "data": {
      "image/png": "iVBORw0KGgoAAAANSUhEUgAAAtIAAAFsCAYAAADhQl4yAAAABHNCSVQICAgIfAhkiAAAAAlwSFlz\nAAALEgAACxIB0t1+/AAAIABJREFUeJzs3XuclnWd//HXZwBBFB1AOchBPCVSJigeI7VM85B42LTW\ncisrt9zWDtaKldnWr0y3rW2t1sq2PJVpieeUzPBQaqmgLXhW5CCgAqOgghw+vz++1+19zzAz9wzM\nfV2f+5738/GYx8x9MzP3CwaG71z35/pe5u6IiIiIiEj3NBUdICIiIiJSj7SQFhERERHZBFpIi4iI\niIhsAi2kRUREREQ2gRbSIiIiIiKbQAtpEREREZFNUNOFtJm9xcxmmdlD2euXzexMMxtsZjPM7HEz\nu83Mtq34mHPM7Ekze9TMjqhln4iIiIjIprK89pE2syZgIbA/8BlgmbtfaGZnA4PdfZqZTQCuBPYF\nRgO3A7u5NrsWERERkWDyHO14D/C0uy8AjgMuze6/FDg+e3sqcJW7r3P3ecCTwH45NoqIiIiIdEme\nC+kPAL/K3h7u7ksB3H0JMCy7fxSwoOJjFmX3iYiIiIiEkstC2sz6kY42X5Pd1XZUQ6MbIiIiIlJX\n+ub0OEcBD7r7S9ntpWY23N2XmtkI4IXs/kXAmIqPG53d18quu+7qq1atYunSpQDssssuDBo0iNmz\nZwMwceJEAN3Wbd3Wbd3Wbd3Wbd3W7U26PXz4cACWLl2KuxvtcfeavwC/Bj5ScfsC4Ozs7bOB72Rv\nTwBmAVsAOwFPkZ0Q2ebzeQTnnXde0QkhGtxjdERocI/REaHBPUZHhAb3GB0RGtxjdERocI/REaHB\nPUaHGsoidERocHfP1p3trnFrfkTazAaSTjQ8veLuC4Crzew04Dng5Gx1PNfMrgbmAmuBM7LfQCul\nnxCKtnr16qITQjRAjI4IDRCjI0IDxOiI0AAxOiI0QIyOCA0QoyNCA8ToUENZhI4IDdXUfCHt7q8B\n27e5bzlpcd3e+58PnF/rLhERERGRzVGXVzYszUYX7cgjjyw6IUQDxOiI0AAxOiI0QIyOCA0QoyNC\nA8ToiNAAMToiNECMDjWUReiI0FBNbhdk6Ulm1t7Eh4iIiIhIjzKzDk82rMsj0qWzKovW0tJSdEKI\nBojREaEBYnREaIAYHREaIEZHhAaI0RGhAWJ0RGiAGB1qKIvQEaGhmrpcSIuIiIiIFE2jHSIiIiIi\nHWi40Q4RERERkaLV5UJaM9KxGiBGR4QGiNERoQFidERogBgdERogRkeEBojREaEBYnSooSxCR4SG\naupyIS0iIiIiUjTNSIuIiIiIdEAz0iIiIiIiPawuF9KakY7VADE6IjRAjI4IDRCjI0IDxOiI0AAx\nOiI0QIyOCA0Qo0MNZRE6IjRUU5cLaRERERGRomlGWkRERESkAw05I/3qq0UXiIiIiEhvVpcL6YkT\nJ3LrrUVXxJjdidAAMToiNECMjggNEKMjQgPE6IjQADE6IjRAjI4IDRCjQw1lEToiNFRTlwtpgOnT\niy4QERERkd6sbmekt9nGefFF2GKLomtEREREpFE15Iz0K6/AHXcUXSEiIiIivVVdLqRL+0gXPd4R\nYXYnQgPE6IjQADE6IjRAjI4IDRCjI0IDxOiI0AAxOiI0QIwONZRF6IjQUE1dLqRLrrsO1q8vukJE\nREREeqO6nZHeeWfnmWfg7rthypSii0RERESkETXkjPQJJ6TX115bbIeIiIiI9E51uZCeOHEiJ56Y\n3p4+HYo6qB5hdidCA8ToiNAAMToiNECMjggNEKMjQgPE6IjQADE6IjRAjA41lEXoiNBQTV0upAEO\nOABGjIB582D27KJrRERERKS3qdsZaXfn05+Giy+Gr34VvvnNoqtEREREpNE05Iw00Gq8Q0REREQk\nT3W5kC7tI33oodDcDHPmwBNP5N8RYXYnQgPE6IjQADE6IjRAjI4IDRCjI0IDxOiI0AAxOiI0QIwO\nNZRF6IjQUE1dLqRL+vWDY49Nb+uotIiIiIjkqa5npCEtoE88EfbbD+6/v+AwEREREWkonc1I1/1C\n+rXXYLvt4PXXYcECGD264DgRERERaRgNd7JhaUYaYOBAOPLI9PZ11+XbEWF2J0IDxOiI0AAxOiI0\nQIyOCA0QoyNCA8ToiNAAMToiNECMDjWUReiI0FBNXS6k29LuHSIiIiKSt7of7QBYsQKGDUtXOFyy\nJI16iIiIiIhsroYb7Whr8GB497th/Xq48caia0RERESkN6jLhXTljHRJEeMdEWZ3IjRAjI4IDRCj\nI0IDxOiI0AAxOiI0QIyOCA0QoyNCA8ToUENZhI4IDdXU5UK6PccdB2YwYwasXFl0jYiIiIg0uoaY\nkS6ZMgX+/Ge4+mo46aQCwkRERESkoTT8jHTJCSek19deW2yHiIiIiDS+mi+kzWxbM7vGzB41szlm\ntr+ZDTazGWb2uJndZmbbVrz/OWb2ZPb+R7T3OdubkYbyQvrmm2HNmhr8ZtqIMLsToQFidERogBgd\nERogRkeEBojREaEBYnREaIAYHREaIEaHGsoidERoqCaPI9I/AG5x9z2AvYDHgGnA7e6+O3AHcA6A\nmU0ATgb2AI4Cfmxm7R5Kb8/OO8Nee6UZ6T/+sYd/FyIiIiIiFWo6I21m2wCz3H2XNvc/Bhzi7kvN\nbAQw093Hm9k0wN39guz9fg983d3vb/Px7c5IA3zjG3DeefDxj8Mll9TidyUiIiIivUWRM9I7AS+Z\n2S/M7CEz+6mZDQSGu/tSAHdfAgzL3n8UsKDi4xdl93VZabzj+uvTvtIiIiIiIrVQ64V0X2Bv4Efu\nvjfwKmmso+3h5G4dFu9oRhrgbW+DXXeFl16Ce+7pZm03RZjdidAAMToiNECMjggNEKMjQgPE6IjQ\nADE6IjRAjI4IDRCjQw1lEToiNFTTt8affyGwwN0fyG7/jrSQXmpmwytGO17Ifn0RMKbi40dn97Wy\nzTbbMG3aNAYMGADA5MmTmTJlCs3NzZjBJz7RwlVXwfTpzRxySPkL0dzcDPTc7ZJaff56ur1q1arC\ne0qK/vNYtWpVoY8f5esR5XaEr0elov88ItyO8PezpOg/jwh/PyN8PaLc1tcj1u2ivh6zZ89m5syZ\nrF69mmpqvo+0md0JfNLdnzCz84CB2S8td/cLzOxsYLC7T8tONrwS2J800vEHYLe2A9GdzUgD3Hcf\nHHggjB0L8+alC7WIiIiIiHRXZzPSeSyk9wIuAfoBzwAfA/oAV5OOPj8HnOzuLdn7nwN8HFgLfNbd\nZ7TzOTtdSG/YAGPGwPPPwwMPwD779PBvSkRERER6hUIvyOLuD7v7vu4+0d1PdPeX3X25u7/H3Xd3\n9yNKi+js/c93913dfY/2FtHQ+Yw0QFMTHH98eruWF2dp+xRhESI0QIyOCA0QoyNCA8ToiNAAMToi\nNECMjggNEKMjQgPE6FBDWYSOCA3VNNSVDSudeGJ6PX16sR0iIiIi0phqPtpRC9VGOwDWroXhw2HF\nCpg7F/bYI6c4EREREWkYhY52FKVfP5g6Nb2to9IiIiIi0tPqciFdbUa6pNbjHRFmdyI0QIyOCA0Q\noyNCA8ToiNAAMToiNECMjggNEKMjQgPE6FBDWYSOCA3V1OVCuqsOPxy22irt3DF/ftE1IiIiItJI\nGnZGuuSkk+C3v4Uf/ADOPLPGYSIiIiLSUHrljHTJCSek17XcBk9EREREep+6XEh3dUYa4Jhj0omH\nd98NL77Ysx0RZnciNECMjggNEKMjQgPE6IjQADE6IjRAjI4IDRCjI0IDxOhQQ1mEjggN1dTlQro7\ntt0WDjssXe3whhuKrhERERGRRtHwM9IAP/sZnH46HH003HxzDcNEREREpKF0NiPdKxbSS5fCyJFp\nxOPFF2GbbWoYJyIiIiINo+FONuzOjDSkKxxOmQJvvAG33NJzHRFmdyI0QIyOCA0QoyNCA8ToiNAA\nMToiNECMjggNEKMjQgPE6FBDWYSOCA3V1OVCelPU+uIsIiIiItK79IrRDoB582CnnWDrrdN4x4AB\ntWkTERERkcbRcKMdm2LcONh7b1i1Cm6/vegaEREREal3dbmQ7u6MdElPX5wlwuxOhAaI0RGhAWJ0\nRGiAGB0RGiBGR4QGiNERoQFidERogBgdaiiL0BGhoZq6XEhvqtKc9A03wLp1xbaIiIiISH3rNTPS\nAO4wfjw88QTccQe86101iBMRERGRhqEZ6YxZ+ah0T413iIiIiEjvVJcL6U2dkYbynPT06emy4Zsj\nwuxOhAaI0RGhAWJ0RGiAGB0RGiBGR4QGiNERoQFidERogBgdaiiL0BGhoZq6XEhvjsmTYfRoWLQI\nHnig6BoRERERqVe9aka65Mwz4aKLYNo0OP/8HgwTERERkYaiGek2KrfBq8OfI0REREQkgLpcSG/O\njDTAO98JQ4em3TsefXTTP0+E2Z0IDRCjI0IDxOiI0AAxOiI0QIyOCA0QoyNCA8ToiNAAMTrUUBah\nI0JDNXW5kN5cffvC1Knpbe3eISIiIiKbolfOSAPcdBMceyxMmgQPPdRDYSIiIiLSUDqbke61C+nV\nq2H77WHVKnj2WRg3rmfaRERERKRxNNzJhps7Iw0wYAAcfXR6e/r0TfscEWZ3IjRAjI4IDRCjI0ID\nxOiI0AAxOiI0QIyOCA0QoyNCA8ToUENZhI4IDdXU5UK6p1RenEVEREREpDt67WgHwCuvpPGOtWth\n8WIYPrwH4kRERESkYTTcaEdP2WYbOPzwtJf0DTcUXSMiIiIi9aQuF9I9MSNdUnlxlu6KMLsToQFi\ndERogBgdERogRkeEBojREaEBYnREaIAYHREaIEaHGsoidERoqKYuF9I9aepUaGqCP/4RXn656BoR\nERERqRe9eka65NBD4c474cor4ZRTeuzTioiIiEid04x0FSeemF7rKociIiIi0lV1uZDuyRlpgOOP\nT69//3t4/fWuf1yE2Z0IDRCjI0IDxOiI0AAxOiI0QIyOCA0QoyNCA8ToiNAAMTrUUBahI0JDNXW5\nkO5pY8fC5Mnw2mswY0bRNSIiIiJSD2o+I21m84CXgQ3AWnffz8wGA78BdgTmASe7+8vZ+58DnAas\nAz7r7hstbXt6Rhrg29+Gr3wFPvIR+OUve/RTi4iIiEid6mxGOo+F9DPAPu6+ouK+C4Bl7n6hmZ0N\nDHb3aWY2AbgS2BcYDdwO7NZ21VyLhfRjj8Eee8DgwbB0KfTr16OfXkRERETqUNEnG1o7j3MccGn2\n9qVANqXMVOAqd1/n7vOAJ4H92n7Cnp6RBhg/Pi2kV6yAu+7q2sdEmN2J0AAxOiI0QIyOCA0QoyNC\nA8ToiNAAMToiNECMjggNEKNDDWUROiI0VJPHQtqBP5jZ38zsE9l9w919KYC7LwGGZfePAhZUfOyi\n7L5cbM7FWURERESkd8ljtGOkuy82s+2BGcCZwPXuPqTifZa5+1Azuwi4191/ld1/CXCLu1/b5nP2\n+GgHwIMPppMOd9gBFixIF2oRERERkd6rs9GOvrV+cHdfnL1+0cyuI41qLDWz4e6+1MxGAC9k774I\nGFPx4aOz+1rZZZddmDZtGgMGDABg8uTJTJkyhebmZqD8VEB3b++9dzNjx8KQIS3cdx8cdNDmfT7d\n1m3d1m3d1m3d1m3drq/bs2fPZubMmaxevZpqanpE2swGAk3uvsrMtiIdkf534DBgubtf0MHJhvuT\nRjr+QDsnG06aNMlnzZpVk+bPfQ5+8AP40pfgwgs7f9+WlpY3//CLEqEhSkeEhigdERqidERoiNIR\noSFKR4SGKB0RGqJ0qCFWR4QGKPZkw+HAPWY2C7gPuDHbzu4C4HAze5y0qP4OgLvPBa4G5gK3AGfU\nZIajE6U56enToQ6vni4iIiIiOan5jHQt1GpGGmD9ehg5El58ER55BPbcsyYPIyIiIiJ1oOjt7+pK\nnz4wdWp6e/r0YltEREREJK66XEjXYh/pSieemF5X2wavNJRepAgNEKMjQgPE6IjQADE6IjRAjI4I\nDRCjI0IDxOiI0AAxOtRQFqEjQkM1dbmQrrXDDoNBg+Dhh+GZZ4quEREREZGINCPdgX/8R7jqKvju\nd+Gss2r6UCIiIiISlGakN0FXxztEREREpHeqy4V0rWekAY46Cvr3h3vvhcWL23+fCLM7ERogRkeE\nBojREaEBYnREaIAYHREaIEZHhAaI0RGhAWJ0qKEsQkeEhmrqciGdh623hiOOSHtJX3990TUiIiIi\nEo1mpDvxi1/AaaelBfVtt9X84UREREQkmM5mpLWQ7sRLL8GIEWAGL7wAgwfX/CFFREREJJCGO9kw\njxlpgO22g0MOgXXr4OabN/71CLM7ERogRkeEBojREaEBYnREaIAYHREaIEZHhAaI0RGhAWJ0qKEs\nQkeEhmrqciGdpxNOSK+1e4eIiIiIVNJoRxULF8KYMbDllmnUY+DAXB5WRERERAJouNGOPI0eDfvt\nB6+/rhMORURERKSsLhfSec1Il3R0cZYIszsRGiBGR4QGiNERoQFidERogBgdERogRkeEBojREaEB\nYnSooSxCR4SGaupyIZ230pz0TTfBG28U2yIiIiIiMWhGuove9jaYMyeNdxxxRK4PLSIiIiIF0Yx0\nDygdlZ4+vdgOEREREYmhLhfSec9IQ3lO+rrrYMOG9HaE2Z0IDRCjI0IDxOiI0AAxOiI0QIyOCA0Q\noyNCA8ToiNAAMTrUUBahI0JDNXW5kC7CxIkwbhwsWQL33Vd0jYiIiIgUTTPS3fCFL8D3vw9nnQXf\n/W7uDy8iIiIiOdOMdA+p3AavDn/+EBEREZEeVJcL6SJmpAEOPBCGDYNnn4VHHokxuxOhAWJ0RGiA\nGB0RGiBGR4QGiNERoQFidERogBgdERogRocayiJ0RGiopi4X0kXp0weOPz693fbiLCIiIiLSu2hG\nuptuvRWOOgr23DMdlRYRERGRxtXZjLQW0t30xhuw/fbwyivw5JOw666FZIiIiIhIDhruZMOiZqQB\nttgC3ve+9Pbttxc/uxNlfihCR4QGiNERoQFidERogBgdERogRkeEBojREaEBYnSooSxCR4SGaupy\nIV20yt07nnuu2BYRERERKUa3RzvMbDAwxt0LmxAucrQDYM0aeOc74W9/gx13hD/9CXbaqbAcERER\nEamRzR7tMLOZZraNmQ0BHgJ+Zmbf68nIetK/P8yYAfvvn45IH3ooPP100VUiIiIikqeujnZs6+6v\nACcCl7n7/sB7apfVuSJnpEuam+F3v2vhoINg/vy0mH7qqfw7oswPReiI0AAxOiI0QIyOCA0QoyNC\nA8ToiNAAMToiNECMDjWUReiI0FBNVxfSfc1sJHAycFMNe+rKVlul7fCmTIGFC+GQQ+CJJ4quEhER\nEZE8dGlG2szeD3wNuMfdzzCznYH/cPd/qHVgBz2Fzki3tWoVHHMM3HUXjBiRZqbHjy+6SkREREQ2\n12bvI21m73D3P1e7Ly/RFtIAr74Kxx6bFtHDh8Mdd8CECUVXiYiIiMjm6Il9pC/q4n25iDAjDa1n\nd7baCm66Cd7zHli6NM1M/9//5dtQpAgdERogRkeEBojREaEBYnREaIAYHREaIEZHhAaI0aGGsggd\nERqq6dvZL5rZgcBBwPZm9oWKX9oG6FPLsHo0cCDccAMcf3za1eNd74Lbb4e99iq6TERERER6Wqej\nHWZ2CHAo8Cng4opfWgnc6O5P1rSu465wox2VVq9OF235/e9hyJC0mJ40qegqEREREemunpiR3tHd\nw1zDL/pCGtJFW/7hH+Dmm2HwYPjDH2CffYquEhEREZHu6IkZ6f5m9lMzm2Fmd5ReerCxWyLOSLfV\nvz/87ndw3HGwYgUcdli6EmKeDXmK0BGhAWJ0RGiAGB0RGiBGR4QGiNERoQFidERogBgdaiiL0BGh\noZquLqSvAWYBXwW+VPHSJWbWZGYPmdkN2e3B2aL8cTO7zcy2rXjfc8zsSTN71MyO6PpvJZ7+/eHq\nq+GEE+Dll9OJiPfdV3SViIiIiPSEro52POjumzyYYGafB/YBtnH3qWZ2AbDM3S80s7OBwe4+zcwm\nAFcC+wKjgduB3drOcdTDaEeltWvhlFPgt7+FQYPSRVwOOqjoKhERERGppidGO240szPMbKSZDSm9\ndPHBRwNHA5dU3H0ccGn29qXA8dnbU4Gr3H2du88DngT262JjWP36wa9/DR/4AKxcCe99L9xzT9FV\nIiIiIrI5urqQ/ghplOMvwIPZywNd/NjvZx9beQh5uLsvBXD3JcCw7P5RwIKK91uU3ddKPcxIt9W3\nL1xxRToyvWoVHHkk3Hlnvg21FKEjQgPE6IjQADE6IjRAjI4IDRCjI0IDxOiI0AAxOtRQFqEjQkM1\nXVpIu/tO7bzsXO3jzOwYYKm7zwbaPSReeogu9ta1vn3hssvg1FPTlRCPPjpdCVFERERE6k+nF2Qp\nMbN/au9+d7+syoe+A5hqZkcDWwKDzOxyYImZDXf3pWY2Anghe/9FwJiKjx+d3dfKypUrmTZtGgMG\nDABg8uTJTJkyhebmZqD8E0zE2336wPe/38KoUfCd7zRzzDFw440t7LPPpn2+5ubmML+/kig9Rd0u\n3Vd0T2VLUX8eEf5+lu4r+usR4XaEr0ekv58RbpfuK7qnsqWoP48Ifz9L9+nr0bu/HrNnz2bmzJms\nXr2aarp6smHl5cAHAIcBD7n7+6t+cPlzHAKclZ1seCHpZMMLOjjZcH/SSMcfaICTDduzYQP88z/D\nJZfAgAFw/fVwRF3vUSIiIiLSeDb7ZEN3/9eKl08CewNbb0bTd4DDzexx0qL8O9njzAWuBuYCtwBn\ntLdirscZ6baamuAnP0mL6dWrYerUdCXEPBt6UoSOCA0QoyNCA8ToiNAAMToiNECMjggNEKMjQgPE\n6FBDWYSOCA3VdGm0ox2vAjt15wPc/U7gzuzt5cB7Oni/84HzN7GrrjQ1wY9/DH36pNfHH58u4vK+\n9xVdJiIiIiLVdHW040bKJwT2AfYArnb3aTVs66yn7kc7KrnD5z4H//3faau8a65JV0QUERERkWJ1\nNtrR1YX0IRU31wHPufvCHurrtkZbSENaTJ91Fnz/+2l3j9IVEUVERESkOD0xI30n8BgwCBgMvNFz\ned3XCDPSbZnBf/4nfPGLsG4dnHRSuhJing2bI0JHhAaI0RGhAWJ0RGiAGB0RGiBGR4QGiNERoQFi\ndKihLEJHhIZqurSQNrOTgb8CJwEnA/ebWZd37JCuMYMLL4Rp02D9evjgB+E3vym6SkRERETa09XR\njoeBw939hez29sDt7r5Xjfs66mm40Y5K7nDuufCtb6UTEi+/PF0RUURERETytdmjHUBTaRGdWdaN\nj5VuMoNvfhPOOy/tN33qqWkxLSIiIiJxdHUxfKuZ3WZmHzWzjwI3k/Z5LkQjzki3ZQZf/zp84xtp\nMf2Rj8Avf5lvQ3dE6IjQADE6IjRAjI4IDRCjI0IDxOiI0AAxOiI0QIwONZRF6IjQUE2n+0ib2a7A\ncHf/kpmdCEzJfule0hUIpcbOPTftM/2Vr8Bpp6UTET/xiaKrRERERKTTGWkzuwk4x93/3ub+PYFv\nu/uxNe7rqKuhZ6Tbc+GFcPbZ6e2LL05XRBQRERGR2tqcGenhbRfRANl943qgTbro3/4Nvvvd9Pan\nPpWuhCgiIiIixam2kG7u5Ne27MmQ7ugNM9LtOess+K//Sm//y7/ARRfFmR+K0BGhAWJ0RGiAGB0R\nGiBGR4QGiNERoQFidERogBgdaiiL0BGhoZpqC+kHzOyTbe80s08AD9YmSTrz2c+mBTTAmWemfabX\nry+2SURERKQ3qjYjPRyYTrqSYWnhPBnYAjjB3ZfUvLD9rl43I93W//wPnHFGenvoUDjySDj66PR6\nyJBi20REREQaRWcz0l29IMu7gLdlN+e4+x092NdtWkgnV1yR9pp+5pnyfU1NcOCBaVF9zDHw9ren\nrfREREREpPs2+4Is7v4nd78oeyl0EQ29d0a6rQ9/GB54oIXHHoPvfQ8OOyxtlffnP6ft8iZOhDFj\n4PTT4frrYdWq2rUU/WcRpQFidERogBgdERogRkeEBojREaEBYnREaIAYHWooi9ARoaEaXZ2wzpnB\n7rvD5z8Pt98Oy5bBtdfCxz8OI0fCokXws5/B8cenEZAjjoAf/ACefLLochEREZH61qXRjmg02tE1\n7jB7Ntx8c3q5//50X8luu6Xxj6OPhoMPhv79i2sVERERiWizZ6Sj0UJ607z0Etx6a1pU33YbrFhR\n/rWttoLDD0+L6qOPhlGjiusUERERiWKzZ6Sj0Yz0pjVst12aq/71r+GFF+Duu2HatHRC4quvwnXX\npXnq0aPTfPVXvgJ/+UvXttertz+LWorQEaEBYnREaIAYHREaIEZHhAaI0RGhAWJ0qKEsQkeEhmrq\nciEtm69vX5gyBc4/Hx5+GObPh5/8BKZOhYED033f/ja84x0wbBh86EPwq1+lGWwRERER0WiHtGP1\narjzTrjlljQG8vTT5V9raoIDDijPVu+1l7bXExERkcalGWnZZO7wxBPlRfVdd8HateVf32GHtKA+\n/XTYd9/iOkVERERqQTPSNRJhdqfWDdW213v+ebjkEjj99BY+9anWJzDmLcLXA2J0RGiAGB0RGiBG\nR4QGiNERoQFidERogBgdaiiL0BGhoZq6XEhLcQYNghNOSIvnRYvgoYfgC19IF4L5yU/SovvSS1tv\nsyciIiLSiDTaIT1i7lw444w0Ww1pX+of/xje+tZiu0REREQ2R8ONdkg8EybAn/4El10G22+fZqkn\nToSzz05b64mIiIg0mrpcSGtGOlYDpA4zOPVUePxx+PSn0/7TF14Ie+yR9qiu9ZMIkf4sihahAWJ0\nRGiAGB0RGiBGR4QGiNERoQFidKihLEJHhIZq6nIhLbENHpzGOu6/H/bZBxYsSHPVxx4Lzz5bdJ2I\niIhIz9CMtNTU+vVw8cXw5S/DK6/AgAHw1a/CF78I/fsXXSciIiLSOe0jLYVbsiQtnq+8Mt3efXf4\n0Y/gsMPyPyjJAAAgAElEQVSK7RIRERHpTMOdbKgZ6VgNUL1jxAi44gq44w4YPz7NUb/nPXDKKbB4\ncT4NeYnQEaEBYnREaIAYHREaIEZHhAaI0RGhAWJ0qKEsQkeEhmrqciEt9etd74KHH4Zvfxu23BJ+\n/eu0sL7oojQGIiIiIlIvNNohhXn2WTjzTLjppnR70qQ0T73ffsV2iYiIiJQ03GiHNIaddoIbb0xb\n440dC7NmwQEHUPilxkVERES6oi4X0pqRjtUAm9dx3HHpyojTpm3epcYb4c+ikRogRkeEBojREaEB\nYnREaIAYHREaIEaHGsoidERoqKYuF9LSeLbaCs4/P81PH3IIvPgifPSj6e05c4quExEREdmYZqQl\nHPe0w8dZZ6UFdd++8IUvwNe+lhbcIiIiInkpbEbazPqb2f1mNsvM/m5m52X3DzazGWb2uJndZmbb\nVnzMOWb2pJk9amZH1LJPYir6UuMiIiIiXVHThbS7rwHe5e6TgInAUWa2HzANuN3ddwfuAM4BMLMJ\nwMnAHsBRwI/NbKOfADQjHasBatPR3UuNN/KfRT02QIyOCA0QoyNCA8ToiNAAMToiNECMDjWUReiI\n0FBNzWek3f217M3+QF/AgeOAS7P7LwWOz96eClzl7uvcfR7wJKDN0Hq5ffdNi+kf/hC22QZuvhkm\nTIBvfQvWrCm6TkRERHqrms9Im1kT8CCwC/Ajdz/HzFa4++CK91nu7kPM7CLgXnf/VXb/JcAt7n5t\nm8+pGeleSpcaFxERkTwVuo+0u2/IRjtGA/uZ2VtJR6VbvVutO6Qx5HGpcREREZGu6JvXA7n7K2Y2\nEzgSWGpmw919qZmNAF7I3m0RMKbiw0Zn97Vy8MEHM23aNAYMGADA5MmTmTJlCs3NzUB5pqbWt0v3\n5fV47d1u25L345dur1q1itGjR+f2eJMmwcMPN/Of/wnXXdfCo4/C+94Hy5c3c+ihLYwYAQMGNDNu\nHIwb18Lw4bDrrs307Vv7voULF7L11lv3qq9HR7cj/P2M8PWo/DPo7V+PKH8/2/6Z9Oa/nxG+HlH+\nfurroa8HwOzZs5k5cyarV6+mmpqOdpjZdsBad3/ZzLYEbgO+AxwCLHf3C8zsbGCwu0/LTja8Etgf\nGAX8Adit7RzHpEmTfNasWTXr7qqWlpY3//B7c0PRHc8+C5//PDz3XAuzZ3fc0KcPjBlDtrje+GXU\nqLTV3uaK8DWJ0BClI0JDlI4IDVE6IjRE6YjQEKVDDbE6IjRA56MdtV5I70k6mbApe/mNu3/LzIYA\nV5OOPj8HnOzuLdnHnAN8HFgLfNbdZ7TzeTUjLRtZswbmz4d589p/ef75zj++7UJ7xx1bL7RHj+6Z\nhbaIiIjUj8IW0rWihbRsip5YaI8e3fERbS20RUREGk/DLaQ12hGrIUrH5jasWZP2qu5sod3ZP5c+\nfdJ4yN57t/DMM2keu0+ftLiufLuj1z35Ptts08K22zaz/fa8+bLFFpv8R7PJGuHvRSN1RGiI0hGh\nIUpHhIYoHWqI1RGhATpfSOv4mUimf3/Yddf00p6uLLTnz4chQ+CRR/Kqbt/EiTB7duv7tt02LaiH\nDSsvrjt6u6iFt4iISD2pyyPSGu2QiNasgYUL4bXX0mXN163r+HVnv9YT7/Pqq/Dii61fNmzo3u9H\nC28REZEGHO3QQlqkezZsgBUr0oL6hRfKi+uO3u6JhfewYbDnnnDggbDXXtCvX21+byIiIrXUcAtp\nzUjHaojSEaEhSsfmNvTUwnvixLQl4ZZbwuTJaVF94IFwwAHp4jp5iPD1iNIRoSFKR4SGKB0RGqJ0\nqCFWR4QG0Iy0iHRTUxMMHZpexo+v/v6VC+/SInvx4vKoyxNPwN13p5eScePKC2sdtRYRkXpUl0ek\nNdohUl+WLYP77oN7702v778fVq1q/T6VR60POCC9zuuotYiISEcabrRDC2mR+rZ+PcyZkxbWpZcn\nntj4/XTUWkREitZwC2nNSMdqiNIRoSFKR4SG7nZ056h16Yh1V45a1+OfRSM3ROmI0BClI0JDlA41\nxOqI0ACakRaROjB0KBxzTHqBjo9aa9ZaRESiqMsj0hrtEOmdunLUesCA1juE7LMP7LCDLt8uIiKb\npuFGO7SQFhHo+qx1UxOMHAljxsDo0eml9Hbp9ciRWmyLiMjGGm4hrRnpWA1ROiI0ROmI0FBUR+VR\n63vvBfcW/vSn6g21XmxH+JpEaIjSEaEhSkeEhigdaojVEaEBNCMtIr1I21nrlhYYOBCefx4WLEh7\nW7d9vXAhLFkCixall47oyLaIiFSqyyPSGu0QkZ72xhtdW2xX09Fi+21vg0mT0uXTRUSkfjTcaIcW\n0iJShJ5YbI8eDXvvnV4mTUqvR40Ca/dbtIiIFK3hFtKakY7VEKUjQkOUjggNUTrybmhvsf3cc/DK\nKy1Mn97Mq69u/DHbb7/x4nrnnXt+cR3h6xGlI0JDlI4IDVE61BCrI0IDaEZaRCQ3W2yR9rYeN671\n/S0t8MtfwlNPwUMPtX558UW47bb0UrLttuVFden17rtDnz45/mZERKRTdXlEWqMdItIo3NMR69Ki\netYsePBBWLp04/cdODBdcKZycf3Wt6bFu4iI1EbDjXZoIS0ijW7x4vLCurTIfu65jd+vXz/Yc8/W\ni+u3vz0tukVEZPM13EJaM9KxGqJ0RGiI0hGhIUpHhIae6li2DGbPbj0W0tEFaPbYo7yw3ntvmDgx\n7andKH8WjdAQpSNCQ5QONcTqiNAAmpEWEWkIQ4fCYYell5KVK+Hhh1svrufOTVd8nDMHrrii/L5H\nHple7757ehk/Pr0eOVK7hoiIbIq6PCKt0Q4RkY69/jr83/+1nrt+5BFYs6b99x80CN7ylvICu/Ty\nlrdoREREpOFGO7SQFhHpnrVr4emn4fHH4bHH0uvSy7JlHX/c2LEbL7B33z3th93UlF+/iEhRGm4h\nrRnpWA1ROiI0ROmI0BClI0JDlI6OGpYta72wLi20n346LcDbM3Ag7LZbeTyk8ij2oEGb1pGnCA1R\nOiI0ROlQQ6yOCA2gGWkREenE0KFw0EHppdK6dfDss60X2aWXpUvTbPbDD2/8+XbYofXiurTYHjtW\n+2CLSGOpyyPSGu0QESlWS0v7C+wnn+x4Frt//3QUe8cd02jImDGtX48erZlsEYmn4UY7tJAWEYlp\n/XqYP7/9Weznn6/+8UOGtL/I1mJbRIrScAtpzUjHaojSEaEhSkeEhigdERqidBTdsHJlOmK9eHEL\n8+Y1s2ABLFzIm68XLoQ33qj+eXpisV30n0WkjggNUTrUEKsjQgNoRlpERAIYNChdHKalBY45ZuNf\n37ABXnqp9cK6vcX28uXp5ZFHOn6sjhbbpbcHDYIA/z+LSJ2ryyPSGu0QEemdurrY7sqR7UGD0sVo\nRo6EESPKb7d9GTxYF6wR6c0abrRDC2kREelIabHd3iJ7wYL08vzzHZ8U2Vb//uWFdmcL7mHDtCuJ\nSCNquIW0ZqRjNUTpiNAQpSNCQ5SOCA1ROiI0ROlYsaIFaGbxYli8GJYs4c2327688krXPmdTU1pM\nV1twjxgBAwakj4nwZxGhIUqHGmJ1RGgAzUiLiIi0YpZmpAcPhgkTOn/f116rvthevBhefDG9z5Il\n1R9/8OC0qD744HTEe5ddYNdd08uOO8IWW/TM71NEaqsuj0hrtENERKJZuxZeeKHzxXZpQb5uXcef\np6kpLaZLi+vKRfbOO2v7P5G8NdxohxbSIiJSrzZsSLuOLFoEzzwDTz2VLsdeej1/fnqfjuyww8aL\n7NLrAM+CizSchltIa0Y6VkOUjggNUToiNETpiNAQpSNCQ5SOCA0ddaxZA/PmtV5cl14/80w68t2R\noUM7XmQPG9b+7iOR/yzU0Ls7IjSAZqRFRETqRv/+sPvu6aWt9evTriPtLbKfegqWLUsvf/3rxh+7\n9dbtL7KHDIEtt4S+fdOuI5Wv27uvqUnbAYqU1PSItJmNBi4DhgMbgJ+5+3+b2WDgN8COwDzgZHd/\nOfuYc4DTgHXAZ919RjufV6MdIiIiFdzT/HVHi+wVK3rusdourjt63Z33ibA4L518+ta3ptc77aQt\nDaXA0Q4zGwGMcPfZZrY18CBwHPAxYJm7X2hmZwOD3X2amU0ArgT2BUYDtwO7tV01ayEtIiLSPcuX\nb7y4fuqpdP/69ekEyI5eV77d2fx2oxkwAPbYo7y41gK7dwozI21m1wE/zF4Ocfel2WJ7pruPN7Np\ngLv7Bdn7/x74urvfX/l5NCMdqyFKR4SGKB0RGqJ0RGiI0hGhIUpHhIYoHd1tcO/ewruz+yp/rU+f\nFtavL+7Pwh1efrmFBx9sZs4cmDMnXbinPbVcYEf4OxGlI0IDBJmRNrNxwETgPmC4uy8FcPclZjYs\ne7dRwL0VH7You09EREQCMCuPZPSklpbidx1paYEPf7j17blz06K69Lq0wJ41K71U0hHs3ieXI9LZ\nWMdM4Jvufr2ZLXf3IRW/vszdh5rZRcC97v6r7P5LgFvc/do2n0+jHSIiIlKIzhbY7dECu74VekTa\nzPoCvwUud/frs7uXmtnwitGOF7L7FwFjKj58dHZfK7vssgvTpk1jQHaN1cmTJzNlypQ3D/+3tLQA\n6LZu67Zu67Zu67Zu1+T2QQfBhAmtf33hwhbmzYNHH21m7lxYuTLd/uMfm5k1C9xbmDMHZs9O77/f\nfi2MHQv9+zfz1rfC29/ewpgxMHhwM336wJo1LTQ1pc/fpw+89loLffrAkCHNmMX682ik27Nnz2bm\nzJmsXr2aamp+RNrMLgNecvcvVNx3AbDc3S/o4GTD/UkjHX+gnZMNNSMdqyFKR4SGKB0RGqJ0RGiI\n0hGhIUpHhIYoHREaonTUqqGlpetHsCdObHlzod2ZpqZN2y2lqzupjB3bwvLlzfTvT7svAwa0f39X\n368rR+Ij/J2AAo9Im9k7gA8BfzezWYADXwYuAK42s9OA54CTAdx9rpldDcwF1gJnaIZDRERE6llz\nMxx0UHqp1N4Cu29feOmlzk/UXL8+7Z6yYUPnF+jZHBMnwuzZtfnckBbS1Rbbb3kLHHkknHRS7To2\nV11e2VAz0iIiItJbuadFdFd3Renu+6xblxboa9Zs/LJ6dfv3d/d9urqM+9734POfr+2fZzUhdu0Q\nERERkc1nlo7o1uuJiu5psd6VBfduuxVd27mmogM2xcSJE4tOAMpD6b29AWJ0RGiAGB0RGiBGR4QG\niNERoQFidERogBgdERogRocaymrZYQb9+sGgQbDddjBqFOy8c9rZZOJE2H9/OPhg2HffFsaNq1lG\nj6jLhbSIiIiISNE0Iy0iIiIi0oHOZqR1RFpEREREZBPU5UJaM9KxGiBGR4QGiNERoQFidERogBgd\nERogRkeEBojREaEBYnSooSxCR4SGaupyIS0iIiIiUjTNSIuIiIiIdEAz0iIiIiIiPawuF9KakY7V\nADE6IjRAjI4IDRCjI0IDxOiI0AAxOiI0QIyOCA0Qo0MNZRE6IjRUU5cLaRERERGRomlGWkRERESk\nA5qRFhERERHpYXW5kNaMdKwGiNERoQFidERogBgdERogRkeEBojREaEBYnREaIAYHWooi9ARoaGa\nulxIi4iIiIgUTTPSIiIiIiId0Iy0iIiIiEgPq8uFtGakYzVAjI4IDRCjI0IDxOiI0AAxOiI0QIyO\nCA0QoyNCA8ToUENZhI4IDdXU5UJaRERERKRompEWEREREemAZqRFRERERHpYXS6kNSMdqwFidERo\ngBgdERogRkeEBojREaEBYnREaIAYHREaIEaHGsoidERoqKYuF9IiIiIiIkXTjLSIiIiISAc0Iy0i\nIiIi0sPqciGtGelYDRCjI0IDxOiI0AAxOiI0QIyOCA0QoyNCA8ToiNAAMTrUUBahI0JDNXW5kBYR\nERERKZpmpEVEREREOqAZaRERERGRHlaXC2nNSMdqgBgdERogRkeEBojREaEBYnREaIAYHREaIEZH\nhAaI0aGGsggdERqqqcuFtIiIiIhI0TQjLSIiIiLSAc1Ii4iIiIj0sLpcSGtGOlYDxOiI0AAxOiI0\nQIyOCA0QoyNCA8ToiNAAMToiNECMDjWUReiI0FBNXS6kRURERESKphlpEREREZEOaEZaRERERKSH\n1XQhbWY/N7OlZvZIxX2DzWyGmT1uZreZ2bYVv3aOmT1pZo+a2REdfV7NSMdqgBgdERogRkeEBojR\nEaEBYnREaIAYHREaIEZHhAaI0aGGsggdERqqqfUR6V8A721z3zTgdnffHbgDOAfAzCYAJwN7AEcB\nPzazdg+jr1y5smbB3XHPPfcUnRCiAWJ0RGiAGB0RGiBGR4QGiNERoQFidERogBgdERogRocayiJ0\nRGiopqYLaXe/B1jR5u7jgEuzty8Fjs/engpc5e7r3H0e8CSwX3uf9+mnn+752E3wwAMPFJ0QogFi\ndERogBgdERogRkeEBojREaEBYnREaIAYHREaIEaHGsoidERoqKaIGelh7r4UwN2XAMOy+0cBCyre\nb1F2n4iIiIhIOBFONuz29hvDhw+vRUe3rV69uuiEEA0QoyNCA8ToiNAAMToiNECMjggNEKMjQgPE\n6IjQADE61FAWoSNCQzU13/7OzHYEbnT3t2e3HwUOdfelZjYC+JO772Fm0wB39wuy97sVOM/d72/n\nc2rvOxERERHJRUfb3/XN4bEteym5AfgocAHwEeD6ivuvNLPvk0Y6dgX+2t4n7Og3IyIiIiKSl5ou\npM3sV8ChwFAzmw+cB3wHuMbMTgOeI+3UgbvPNbOrgbnAWuAMXXVFRERERKKqyysbioiIiIgULcLJ\nhiIiIiIidUcLaRERERGRTaCFdDeZ2XgzO9fMflRx++1Fd/VmZtZkZiOL7ojCzIaZ2c6VL0U39Ub6\nXiFtmVkfMzvNzPoX3RKFmY01swPNbGzRLQJmNtTMTjWzf8tu72Bmo3N67D5m9o16+/cRekbazO6m\nC/tMu/vBOeRgZicBPwKuBU5x923MbDLwHXd/Tx4NWcde7v5wXo9X8biX07Wvxz/lkIOZNQM/Bt4P\nrHX3rcxsKrCfu381j4ZIzOxI4OfACFrvlOPu3qeGj/vurryfu99Rq4b2mFk/4ABgB3f/jZltlXW8\nmsNjh/heEVX2w92G7Cq2eT5us7u35PmY7TS0uHtzAY8b7fv3SOAq4EBgGTAUuA/4oLs/n0dDm56h\nwNHASHe/0Mx2AJrcfWHeLUUxs0OA3wEPAO9w90HZfV9092NzaniJdOG+DXk8Xk+IvpD+SMXNXYDT\nSJcVfw4YS9o+73/d/byceh4l/SN/2MxWuPvg7D/r5919+zwaso4XgeeBy4Er3X1xTo9b+ee8HenP\n/0bKX49jgUvd/cyceq4iXYL+G8Dc7OuxPfAXd98tj4asYyfgW8BEYOvKX3P33I6ymNnTwH+Qvgav\n5/i4z7a5axTpP+zSf44GLHT33I6Mm9mepC011wCj3X1rMzsa+Ii7fyCHxy/0e0W0H27M7NfARe7+\nFzP7GOkH4A3Ame7+8zwaso7XgceAO7OXu9x9WV6PnzVcDlzt7jfm/LjRvn9fB8wHznH3V7MfdL8N\n7OTuU/NoqGgpZAEZ8GDhLNLv+Y8V37cGAM+5ey5XwjOz7wFPufuP83i8nhB6IV3JzO4DPu7ucyru\nm0BaSB+QU8MyYDt3dzNb7u5DzKwv6T/HYdU+vgc7+gLHAB8GjgL+AlwGXOvur+XUcBvw/9z97or7\npgDnuvt7c2p4kXS0cW3p65Hd/7K7b5tHQ/Z49wJPA1cCrf783f3OHDuWA0OL3DbSzL5MWjyf6+6v\nmdlA0g86y9z9/Bw77gF+4u6XV/yHsBXwhLuPyuHxC/1eEe2HGzN7gfQDzRtm9nfgU0ALcF3OP/QO\nAA4CDgYOAfYFngXudPfP5NRwDTAVuBdYQMVCKsejwRG+f79EOvq7tuK+/sAid98uj4aKxy1kARnw\nYOEKdx+cvV36vtUEvOjuQ3NquAfYH1jExv8+cvmBorvqaSH9MjDc3VdX3LclsDivp8nMbAZwhbtf\nVvGX7MOkI0/vy6OhnaZtgZOAM4GdgOmkBcSfa/y4L5MWCpXfBPuRFkzb1PKxKx7vKeCd7r644usx\nFpjh7uPzaMg6XgGai34qysz+A3jU3f+3wIY3f7ipuK+IZ21WAEMqF7LZ/W++XePHD/O9IsIPN6Vx\nBjMbBfy19MOMmb2S1/eLNj0DgSnAe4FPAK+7+4icHrvDRZG7/3tODRG+fz8JvL9yTNHSOQTXuvuu\neTRUPG6EBWSEg4V/Br7h7rdV/DkcAXzZ3Q/NqeEjHf2au1+aR0N35XFlw55yJ/BLMzsXWAiMAb4O\n3N3ZB/WwM4EZZvZxYKvsp/q3AEfk2PAmM9saOB74IDCaNG82n3SFyJvd/V9q+PCzgG+b2dfc/fXs\nh5p/B2bX8DHbugT4nZl9BWgyswNJTw1enGMDwF3AJODBnB+3rQOAM81sGrCk8hdy/En+VWA/oPIH\nuX1pc6Q+B/OAfUhP1QJgZvsBT+X0+JG+V3yeih9ussX0OaTxsLyeJZidPeaOwM0A2aL6lZwen+wx\nLyAdjR5FeibvLuBAd5+bV0Nei+UqInz/vhC43cx+TjoCuyPwMeDcHBtK5prZe939tor73gP8PceG\nPUjPbFZ6FsjtoBBwFnCTmd0MbGlmPyGN/ByXV0DUxXJn6umI9BDSXN2JQB9gHelEnn9195dy7BgI\nvI/0j34BcJO7r8rr8bOGY4BTSWMdfyaNdVxXOlqf/VnNd/etO/4sm90wDvgVMJk0pzyYtGg5xXM6\ngcjMjLRg+WfS12M+8BPgB3mON5jZD4EPkJ4NaLuA/VqOHYX/JG9mp5L+nd5I+vcxhvTv5V/c/fI8\nGrKO95FOvLyY9J/Dt0jjBJ909xk5NRT+vSLrmAd8qPJZKjM7CPi1u++YU8MuwDdJV639kru/YGbv\nB/Z197PzaMg6VpH+jf4cmAn8zd3X5fX4FR2HAv9EWtAvAi539z/l+PjjKPj7d9bxbuAUYAfSD3a/\ndvc/5vX4FR0HADeRfsg7mfR/6rHAce7+t5wabiAdcGh7sHBQLee02+kYBXyI8vetKzzHEy6z/9c/\nAfwj6VmTt5vZwcAId786r47uqJuFdEn2dMv2pKdc6uaszp6UzRheSicnGprZJ9z9khxaxgIjSSM2\n82v9eBGZ2S86+jV3/1ieLRFkT0f+A+k/x8XAb/M84lfRMQn4JOX/EH7m7kU/a5C7KD/cRJDNqe9L\nOip9MOkE4bmkGen/l1PDJ0jPnF1CeRb246TRm5/l0VDRMobs32lv/f5dYmmXjg9T3AKy8mBhX9IP\nnbkfLMxamkijtLlsZNDmsb8JHA78F3BxNhK2M3CNu++Td09XhF5Im9m40k/H1sleuO7+TE49he/O\nYGZ9gP8FTnf3NXk8ZsVjd2nf8bx+wLGOdyZYQzqR6rk8OiKxtCPCqbQ+0tXhQl9qI/sB8zzSyE/b\n7xVvKaCn0B9uzOwfgdnu/qiZ7Q78DFgPfNrdH8uro6JnMHAo8G7SkeEB7p7L3rVm9gRwUjuzwb/L\n+cTLwaSjrqXvFTe6+4ocH38ZabSmtIPK7DyfSWzTMqG9fw/tjHvk0VLYwUILsKWsmS0AJrn7S1Y+\n8dOA5aU59miiL6RXuvug7O0NpLM3rc27uddwj9w2PVF2Z1gMjK08USSnxy19DTp8F/L9ejxLWhhA\neTcCgBdIeyk/Qjq568mcegaRtpV68+9oXj/kZY//FdKi4D8pzxx+nnRk5Vs1fNwQ+9Oa2Te68n55\njNuY2f2kbdauAVptRVjEU9dFs7Q140HuvtTMbgQeB1YBB7t7l7bq66GO/ybt1rEbaZShtJD7i+ew\nv3jWsIz0NHXb3Sqez/HEtgNJYwyPUT4qvgdwjLvfm1PDLpR3TzkEaAbuIT078N08GipangEOc/dn\nK+47Fvipu+d2sS8zG0/aPGC4u38m+6Gzv7s/ktPjF76lrJk9D+zs7qsrTngclPWMyaOhu0IvpKOx\nOLsz/Bvpm855eS6mzaxL85R5HQk2s68C2wKVJ8x8nXQC03+RFpS7uPvhNe6YQPrhai/KP+w5QF4/\nVGQdzwKHVv75Z1+zu2o5C2ud7EJQqdYnWXU2YtOmo+bjNpZ2RRhc9PeKrGUI8EXafyYtr/1pX/F0\nUZoBpCPiI0hPXb/kOeyiUtHxddLC+V6v2AEqT2Z2Pel8jrOzEz+3Ip30uVNes7DZD3rfd/erKu77\nAGkLuH3zaGjT8xbSVm+fAbZ09y1yfvx/IH0NDvG0C9SJwA+BY/MaB7N0Eacfk/azLuQiThZgS1kz\nuwR4g3QQaDHpANn3gS3c/Yw8GrpLC+luMLObSIvXQucss6c+RpCeGn2R1vss9prLrGb/6EdWnixk\nFVutZf9BLaz100FmNhN4iPRT/LPAONI35b+4+xW1fOw2HS8A47xiL3FLO7s84znucy5gZlcAP8/z\nBLJOWm4F+gNXs/EzaXmdhPo0aau5PUnjHEdkJ2MuKuLp2mz0ZlT2+LnOBlu6ot9vSFf0Ww4MIe0g\ncoq7L8qpYQVpz/kNFff1If1gk8vXw8w+TToi/Q7SiYZ3kU4Avcfdc93NJev5GOnE5B+RTvg7Mq8j\nwdnjF37BNwuwpayZbUM6B+wooB+wGpgB/JO7r8yjobvqZvu77CSRM0hPAbV9+jyvrb3mAbeaWaG7\nM5BOiChUZ0/n1/op/Aqvkk4cqnwqch/Ki4W8jgbuBRye/RRv7v6ymX0J+D8gt4U0cCtp68NppCNe\nO5Jm+nOb8etkbj3XS4RbB/tFm9kLOf1QcSbwl2wBubTyF9z9tBwev9JBwPZ5n1PRxjdJ20OuJ+1w\nA2l7sYc7/IgaMLMRlBexy4Chlvbvze2y1NkJXAeb2Wiy3So8/8tQP0naNvVXFfedxMbbr9XSj7LH\n+9k7q+8AABMdSURBVCZpR5tcT2xr55yfS0k/1HyNtE3lHDNryvFZpWGkcUQo/9/qdGFsrgcVvqVs\n9kPUCWY2jOzET3dfUuXDClU3C2nSof13Az8lLQ6+AnyatHdyXrYibZHTj3Tme+6yowanUcDJhm20\n3Y93BOkEhStzbPgaaa/eG0hnWY8mnTzzr9mvHwb8NoeO1aS/E2uBl7Kf4FdQntnOy2dIT0c+UtHz\nG9KiLi9tL/e8PbAFaTun3C4RTvr9t5Id3clr1OYXpEXjo7SZkS7AI6R/G3kuklpx91+a2dXZ26Uf\ndO8jLebydDFp8X60t74s9cWkqw3WnJnNcvdJ2eJ5YcX9D7j75DwagM+R9gs+kzQjPY40N57nxYJG\nkw6MHQx8Nvv3eRdpRjqPAxDr2HiRWjpAN5vyiF5e3zMeJJ0oflnFfR8E/prT4wNcQPp+9SPS99D/\nJf3b+O8cGyotAwZattlEnuccdUfdjHaY2SLSxvnzrXyVrPGkq/gdkmPHbqR9L0eRvgle5e5P5PX4\nWUMhJxtWk81znZfXnF/2mHuQFvCFbbWWLRBuyRYL3yH9h7yatJf38Xm2ZD1NpGdtXip6Rjf7we+r\nwEp3/14Oj3c36T+/A2n9TAWk/7jn5PH308xWkmYNC38qMjsJ8x9Ji/u2z6TV7CqY2bMznr3d4Y4/\nef4dtQCXpbaKk+gr7jPSVQXznBcfDBxDeQ/nW9x9eV6P36ZlEun7+GeArfM4tyTgOT/jSSMMz5Iu\nrjWT7CJOnt8J8+8C5rn7s9kI0gWkAwLn5HVU2MyOJB2QaXuSp+d5zlF31NNCuvKSv4tJJ5G9Zjle\nYjY7i/cK0lHp+aQznd8HnOruN+TRkHUUcrJhNdn4zfI8vh7ZAu2PwHsLPjLfSrZgOIV0UtdllfPK\nOT3+bqQLCpT+c7w6r2/CnTT1Jc2q1/wSzJYuSmPA/5AuwFLipBGLO/L4N2PpUrsf8hwvbtFJS0dz\n2u413DGj8nuztb/jT667/GQdhV2W2sxKRxo/QHqmqNI40v/H76xlQztNRc6Kf560BeEU0pjenZSP\nSOd6cCoKK/giTtmc9nuzA5alsZ/XSaNheT1j8zTwH8Cl7l70s3ldUk8L6b8An3P3v1raPulR0u4M\nH3L3PXJq+DtwZuUJRJauUPVDd39bHg3ZYxZ+smE7s7ADSU9D7eruB+TU8Bwwvuh/bGa2LWl8or09\ng3O7JLSZnUIafbqZ8pZWxwD/7O6/6uxja9x1FOnEux2qvnPPPeYB7n5fO/fv5+41f6rU0kUFPkA6\nCtx2RrpmR4EjMbMx7r4ge7vDo395HfHLOj5JGuXY6LLU7v7TGj92aXebL2cNJaUf8q7J64hwdrTx\nKtKRz+WkMbRcZ8XN7DXSeU93VT5lb2ZfyOnZq5+6++nZ24Wf82NmB7v7Xe3cf1pe3zOsvLtOX9I2\nsmNJO2g8n+MzNstJJ8LWx+KU+lpI7wusc/dZ2VG3/yEtWr7k7nfn1LCC9JNZ5S4RfUlPoTfn0ZA9\nZoejLJ7TftaWtlqr9Cppruxcr9iLs8YNp5Hm684jjdlU/kCR59PFM0hzdNPZeM/gtjPDtex4Bvho\n5TdjM3sn6aIs43JqWEDr/5AGAgOAM9z9svY/qiYd7T5T1dFJiDV4/EKOAleTjRBUnqid18WTQvyw\nmbUUellqK+AiH+00XEd6VvWcNrPiO+V45HGjEZfs/rz+jZ7j7udnb3e4hafXeNvOip75wAlesSuY\nmX2KtE3iTjk1LCSdsP824Ovu/k4z24J0cZi8tr/7D+DRejrgUE8nG25N2jUD0kb+z5OOyOb5tPVs\n0vY4F1Tc94Xs/tzktViu0pDLP+wqSpdAP7XivrxPEIF0VGc7d38jx8dszyA2ngu+j3SSbF7a7ijz\nKvCE57SdVTZaY+nN1otGYBfSCUY15+7vyuNxusLMRpFOQj2YNBJWKa9/J9fQwQ+befO0e0xuO8i0\nY1K2WPxb6Q4z24+0B/yFOTVMoWJWPFtM/xvpCoc1VfFsZlM2k1v5b3RnIK/zCu6vaMnlYFwVpwDX\nmtmRnq4Aeibph888v5dcBPyNdIL457L73kG6cE/NVJzbAunvw2ct7T7V9pyOvHZo65Z6OiIdYXZn\nPHAjaWGygLRzx2ukTdsfzaMh6+hHOoHrVMpHVS4HvpXnYs42vsTsTXmerBLo6eJbgGme456jHXSc\nQ9q+6VxPV4XaEvh3YEXpyEuOLU3AcGBpzs8OdHb1zQ2kfyNfr9Fjhzu5Lmu5kfR96nzSHOrBpAsX\n3eLuP8up4RUC/LCZHV37KO1fnCavp/AXk0bgXq24b2vSD5y5jD8VPCteesZyLOmoeMn/b+/+gy2v\n6zqOP1+5ga6MBTEjhrBNKU7+wIV018zZkRhn1JAC8ieG0Jg/WFPXMZumyzi22lAzISkWTA6WUi46\nSFhTRFPmIgjKD4FdU2Mb5bfIghshrSGv/vh8Dve7Z+/d7h72fL7fs/f1mNm5Z7/33P1+7t0757y/\nn+/7hymB09ktao4WuKu6ENtu1m2oFtr9OaXn+0mUaYu3tzp/XcNRwI9sb+v8/UDbt0zxnG9ayvPc\nqO/93pqlQLqbu/NdSm5b09yduo4VlB3IUQB7beuCP0kfBtZQgqRRnt9ZwHW2NzRaQ+8jZodCpd/l\nPwDXsns+7JLGVu+jdYxy501pv3cw5ep+l/6s08yjVxnl+jFKfvCoBd8mSm3Bjmmdt3P+VZTveRQw\njphye3Jqu6FDLK6ra9lO6fLzkOY7Hh1CGRjUasjCUC42P03p+z66uHhMw1v42ym7wT/sHDsAuKdF\nSkM933iu+M9QLjCmniveWcMnW128DJVqW7cxrwHeRenrfRcMt+3bNEhaa/vaBY43qW+ZxCwF0r3n\n7gxF/Vk83/b2zrFDgZtsH95oDYMYMSvpRBYe0tPsBVrSX1Ba3l3Jrret3XgdS2oDOc3UIEl/SUkx\n+T3mL/I+BPzA9pJ2HWbVWHHd71B2lXZ5CnCK7T9pvK57gSNs75T0bcoQo/+i1HbslqM6pTUM5WLz\nAUoe8PdbnXOBNVxBuRtwbufYO4ET3WgUdD3nccCplE2hOymtXJvliscuF9xa4NOj480vvvvUd33L\nJGYpkP5dYD01d8f2pvpCcLbttf2uri2VntpHLxBI39zw1uAQRsy+n9LibBPwVuACSp7ZxbabDSFR\n6Rl8lBtP5hoiSfcAP+vdx5Rvs/3UKZ+7W4W/aGFji4ubIb0Z1NSOC21fKukCyuCNh4GVrXK5B3Sx\neROlL+93/98nT28NzwH+mXKnaBsld/8wynTUJj3wVXqLL2QnpXD78j5/RrH8dOpbvg88hd3rW65y\nm6m0e21mig1t/5HKaO7HcncoV9Fv7nFZffks8HeSPsD8KOi5eryVIYyY/U3Km88WSWfY3lBv3c41\nXAPAf1JSGHq1hzfHliPs/4cyzbCbo34o5Q162ro5j71M8esUL63ouZCq6zeAUc72uykF0wcB5y76\nFfve6xjGxeYngcsk/Sm774w3KUC0vbXmnZ5AqbP5HI37BVMGfZxEmZo3qvdZQ0l5eRXwZ5JOsX15\nwzUFoPne3ne0zo/uWXfS5HhR+KOUO5uDNDM70jGvprTMMd/C6U7KruzGVsU8kl5MGUzzLcZGzNq+\nutEadozSeurt68Nt/2/3eKN1vBc4mVLx3Mubc13HJ8YOHUZJe7nU9qmN1jAHnAacw3xqxwbgItsb\np3zuJbWVm+b/yVAKqcbWtFCB3eiWcasCu5sohVP3tTjfHtaxWIFZ06KyupY+h6F8htL279LOsV8F\n3mD7tbX4a4Pt1S3XtZxpvrf3L1JGYzfv7d2nPutbHq8E0jNiD0HCqN0b0C5wqxXet9PjiFlJN1Cm\nSm6V9K/A31KK7Da6Ud/kuo7BvDmPq1Xgr2+VnyxJlKBtlHs56tM79X7aQ6rCH1Ih1UAK7IZysfm6\nbl1H5/gftLpro2EMQ9lBmRT8o86xJ1A6/Dyl+7jFegI0gN7eMZkE0jNiT8Ha6Ck0DNxUmsc/mZLz\n+MX650Y3/IWS9Ergv21vVunD+jeUHbczbX+u1TqGrOadPdBqh17SRyhFS1d3jr0YeI3tdy/+lTEt\nAymwG8TFpsrQovW2/7Fz7A+BV9g+ptEaeg+Y6ibEhbbP6xxbD7zZ9jGSnkopXj+sxXoCJN1Hp7d3\nPXYg5Y5Fs85kQzCEJgJ7I4F0TKy27llH+YVfR9lZ+ZLtE6Z4zneMXvwlPcP2rdM616xZoJXSSkr6\nz4luNMJe0vcoKTbd1l4HArcPtVBkfzeEAruhkPTzwOXAG21fKekcymvXy2w/0GgNvQdMko6l5GY/\ngZIaeDhlwNnJtm+QtA54lhv1GQ9Qj729h2QoTQT2RgLpeFxq0cxLKcH0yyndGdZM8XzdvOgFOyMs\nVwu0UvoBcCOly831i37hvl3DvcCqbj6bpJXAbcttV6VPY6lgx1AKgXsrsBuSGkReBlxFyWV/uRtN\n3qznH0TApDLYazQT4W7gy248EyHmaffe3quAM2jY23sIJH2HMo9ii+b73q8B5oaa4pJAOiYi6WJK\nUcRdwL8Bm4ErbU+1K4GkGynjfbdSBn+sX+h5ti+c5jpiYZIuoXTPeJ/tR2tqydnAM22f1O/qlo8h\n5Yv3bZH6knWU3a63UTupNKwv6X0YSgxT/V0dNREY1Zcsq97eQ2kisDcSSMdE6q7KjwP/RAmkv9ii\nUKbugL+PcrV+HCVHe5xtL6mDQ+xbkp5O6ebyNOYnXt4NvMr2HX2uLZanIV5UKMNQIhY0lCYCeyOB\ndEysVp+vq39eAjwJ2Gy7SW9vSf9i+/gW54qlq7vQayi9aW8HvuLO4J6I5WYPPd7Huy616vceA1NT\nbeYofd9HO9KfAj7Uqq1tX8Zqn94JfK02EVgL/DWlicB625f0uc7FJJCOx0XSasrO8EvrxwfdaEx5\nPf9jeX62L64V8Nh+qNUaIiL2ZKzH+xOBU4CvMn/XZg1wie3X97C8GABJH6b8HnyA+Rzps4DrbG/o\nc23TNuu1TwmkYyKSPk/ZhX6Q0vpuMyW94z8aruG5lN64O4Gn2z6otsR7k+3XtlpHRMRSSdoEfLa7\nuybpZODVCaSXL0l3AM+3vb1z7FBKG8Jmm1N9WKD26UzYZSosMNzapwTSMRFJp1MC56XkH05rDV8C\nLrD9KUkP2D647kh/a39/4YmI2bTIMJQVwPahFlPF9Em6Ezh6gUD6Zts/3d/Kpm/Wa58SSMfMqoMm\nDrFtSffbPqQef+xxRMSQSLoe+CvbH+kc+23gDNvH9rey6JOkc5lP7biNElTOAdfbflefa2tpFmuf\nEkjHzKq3g37L9nWj4Ln2mzxvmr2sIyImJekY4FJgBfPDUB6hDkPpc23RH0kHUALnUfu7OylDSTbu\n78WGsy6BdMwsSSdQerGeD7wX+CDwdsqY2yv6XFtExGIyDCVg0R7nsHs3l2U3OGmWJJCOmVa7hryF\nchvsNuDjrab4RURETGoPPc5HgZlYJoOTZlkC6Zgpe+jHuov0Y42IiIhpW9H3AiL20hGdx4v2Y+1h\nXREREbHMZEc6Zlb6sUZERESfEkjHzEo/1oiIiOjTj/W9gIjH4VZg/dixtwPbelhLRERELDPZkY6Z\nlX6sERER0acE0jHT0o81IiIi+pJAOiIiIiJiAsmRjoiIiIiYQALpiIiIiIgJJJCOiIiIiJhAAumI\niAGT9PuStki6SdINkl44xXN9QdKx0/r3IyL2NxkRHhExUJJeBLwSWG37EUmHAAf0vKyIiKiyIx0R\nMVxPA+6z/QiA7ftt3yPpLEnXSrpZ0vmjJ9cd5XMkfVXSVkkvkHSJpG9K2lifs0rSv0u6SNLXJX1G\n0hPHTyzpZZKulnSdpIslrazHz6475F+T9MeNfg4REYOUQDoiYriuAI6U9A1JH5O0rh7/qO21to8G\nVkr6lc7X7LT9QuAC4DLKtM/nAadLOrg+51nAebafDTwInNk9qaSfAuaA422/ALgeeE/dEf8128+1\nvRr44FS+64iIGZFAOiJioGw/BBwLvAX4HrBJ0mnAL0u6RtLNwHHAczpf9vn68RZgi+17bf8Q2AYc\nUT93m+1r6uOLgJeMnfpFwLOBqyTdCJwGHAnsAB6W9HFJJwEP78NvNyJi5iRHOiJiwFymZm0GNku6\nBXgrZYf5F2zfJen9QDc1Y2f9+GjnMYBZ/DV/fDKXgCtsnzr+RElrgOOBVwPvqI8jIpal7EhHRAyU\npKMkPaNzaDXwjfr4fkkHAb8+wT99pKS19fEbgCvHPn8N8EuSfq6uY6WkZ0p6MvCTti8H3gMcPcG5\nIyL2G9mRjogYroOAj0r6CeAR4FZKmscOYAtwN/CVzvPHd5ZZ5HPfBNZL+gSwFTi/+xzb90k6Hfi0\npAPr8TlKPvVlneLEDZN/axERs0/lrmFERCwHklYBf2/7eX2vJSJi1iW1IyJi+ckOSkTEPpAd6YiI\niIiICWRHOiIiIiJiAgmkIyIiIiImkEA6IiIiImICCaQjIiIiIiaQQDoiIiIiYgIJpCMiIiIiJvB/\n0o64/F2xhhYAAAAASUVORK5CYII=\n",
      "text/plain": [
       "<matplotlib.figure.Figure at 0x12d68250>"
      ]
     },
     "metadata": {},
     "output_type": "display_data"
    }
   ],
   "source": [
    "plt.figure(figsize=(12, 5))\n",
    "plt.rc('xtick', labelsize=12) \n",
    "ufd.plot(20)"
   ]
  },
  {
   "cell_type": "markdown",
   "metadata": {},
   "source": [
    "## Testing Zipf's Law\n",
    "Finally we test the performance of our text in accordance to Zipf's Law by plotting the frequency of the top 100 words on a log scale. According to Zipf's Law, if the most common word occurs n times then the next most common word should occur n/2 times and so on. On a log scale graph this would be a straight line.\n",
    "\n",
    "We can see from the the graph above that this is not the case. It appears that top words \"the\" and \"and\" follow Zipf's law, we would expect to see a reduction more similar to a straight line on the log scale however the rest of the top words do not as their freqencies do not follow the n/2 pattern. This plot gives us the curved graph as seen below.\n"
   ]
  },
  {
   "cell_type": "code",
   "execution_count": 39,
   "metadata": {
    "collapsed": false
   },
   "outputs": [
    {
     "data": {
      "image/png": "iVBORw0KGgoAAAANSUhEUgAAAX8AAAF1CAYAAAAA3+oBAAAABHNCSVQICAgIfAhkiAAAAAlwSFlz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\nAVhTV+QXsHKOAAAAAElFTkSuQmCC\n",
      "text/plain": [
       "<matplotlib.figure.Figure at 0x12b93ff0>"
      ]
     },
     "metadata": {},
     "output_type": "display_data"
    }
   ],
   "source": [
    "zl_words = top_words = fd.most_common(100)\n",
    "x_vec = [i+1 for i in range(len(zl_words))]\n",
    "y_vec = [freq for (word,freq) in zl_words]\n",
    "\n",
    "plt.figure(1, figsize=(6,6))\n",
    "plt.semilogy(x_vec, y_vec)\n",
    "plt.show()"
   ]
  },
  {
   "cell_type": "markdown",
   "metadata": {},
   "source": [
    "## Conclusion\n",
    "\n",
    "Compared to all texts we think that this corpus uses the same “common” words as we would find across all corpus in the English language. However given our graph from testing Zipf’s Law, we see that the author uses the word “the” more often than one would expect and then uses the rest of his common vocabulary in similar sizes."
   ]
  }
 ],
 "metadata": {
  "anaconda-cloud": {},
  "kernelspec": {
   "display_name": "Python 2",
   "language": "python",
   "name": "python2"
  },
  "language_info": {
   "codemirror_mode": {
    "name": "ipython",
    "version": 2
   },
   "file_extension": ".py",
   "mimetype": "text/x-python",
   "name": "python",
   "nbconvert_exporter": "python",
   "pygments_lexer": "ipython2",
   "version": "2.7.11"
  }
 },
 "nbformat": 4,
 "nbformat_minor": 0
}
