{
 "cells": [
  {
   "cell_type": "markdown",
   "metadata": {},
   "source": [
    "# Web Analytics - Project-1\n",
    "\n",
    "*June 20, 2017*\n",
    "\n",
    "## Group 1 Members:\n",
    "* Mauricio Alarcon\n",
    "* Sekhar Mekala\n",
    "* Aadi Kalloo\n",
    "* Srinivasa Illapani\n",
    "* Param Singh"
   ]
  },
  {
   "cell_type": "markdown",
   "metadata": {},
   "source": [
    "## I. Background\n",
    "\n",
    "The main goal of this project is to perform analysis of a network data set which contains information about owners of hamsters and the friendships between the owners. The owners maintain the details about their  hamster(s) on a website, and the owners also maintain friendship with some of the owners on the same website. This data has a lot of potential to study relationships between people based on various attributes of hamsters they own. For instance we can identify if the gender of hamster has any relationship to the number of friends a owner can have. We can also identify if the owner of same species of hamster tend to make more friends with similar species' owners than with the owners of different species. The data for this project is present as a compressed folder at http://konect.uni-koblenz.de/networks/petster-hamster. The compressed file has 4 files described below: \n",
    "\n",
    "   * ent.petster-hamster - Contains hamster attributes such as ID, name, date joined, color,species, gender, birthday, age, hometown, favorite toy, favorite activity, favorite food.\n",
    "    \n",
    "   * out.petster-hamster - Contains mapping between IDs, representing friendship between the owners of the hamsters with respective IDs.\n",
    "    \n",
    "   * README.petster-hamster - Information about the files and citation requirements\n",
    "    \n",
    "   * meta.petster-hamster - Contains information about the data\n",
    "\n",
    "## II. Requirements\n",
    "\n",
    "For this project, we will use the files *ent.petster-hamster* and *out.petster-hamster* data sets. Specifically we want to identify if the gender of the hamster has any effect on the centrality measures of the graph. We will use degree centrality, and eigen vector centrality measures for this project. The requirements of this project are given below:\n",
    "\n",
    "1. Build a undirected graph using the file data present in *out.petster-hamster* data set. Each node will represent the hamster and each edge represents friendship between the owners of the hamster.\n",
    "\n",
    "2. Extract the gender of the hamster from *ent.petster-hamster*, and update each node of the graph.\n",
    "\n",
    "3. Get the degree centrality and eigen vector centrality measures of each nodes.\n",
    "\n",
    "4. Perform hypothesis testing of the following hypothesis. A confidence level of 95% should be used in these tests:\n",
    "\n",
    "    _Hypothesis:1_\n",
    "    \n",
    "    $H_0:$ The Degree Centrality has a uniform effect, irrespective of the gender of the hamster\n",
    "\n",
    "    $H_1:$ The Degree Centrality has some effect based on the gender of the hamster\n",
    "\n",
    "    _Hypothesis:2_\n",
    "    \n",
    "    $H_0:$ The Eigen vector Centrality has a uniform effect, irrespective of the gender of the hamster\n",
    "\n",
    "    $H_1:$ The Eigen vector Centrality has some effect based on the gender of the hamster\n",
    "\n",
    "5. Additional requirements (will be addressed later, unless we have time)\n",
    "\n",
    "Using Gephi, plot the center nodes, nodes with higher eigen vector centrality values and analyze how these nodes are distributed in the complete graph."
   ]
  },
  {
   "cell_type": "markdown",
   "metadata": {},
   "source": [
    "## III. Data cleansing\n",
    "\n",
    "Importing all the required packages for this project.The following code block will display the initial records of the two files: *ent.petster-hamster* and *out.petster-hamster* "
   ]
  },
  {
   "cell_type": "code",
   "execution_count": 1,
   "metadata": {
    "collapsed": true
   },
   "outputs": [],
   "source": [
    "##Import all the required packages\n",
    "import networkx as net\n",
    "import urllib\n",
    "import matplotlib.pyplot as plt\n",
    "import pandas as pd\n",
    "import numpy as np\n",
    "import sklearn"
   ]
  },
  {
   "cell_type": "markdown",
   "metadata": {},
   "source": [
    "The following code block will display the initial records of the file: **ent.petster-hamster**"
   ]
  },
  {
   "cell_type": "code",
   "execution_count": 19,
   "metadata": {},
   "outputs": [
    {
     "name": "stdout",
     "output_type": "stream",
     "text": [
      "%\n",
      "\n",
      "%\n",
      "\n",
      "% ent dat.name dat.joined dat.species dat.coloring dat.gender dat.birthday dat.age dat.hometown dat.favorite_toy dat.favorite_activity dat.favorite_food\n",
      "\n",
      "\"1\" \"Dexter\" \"August 1, 2006\" \"Hamster (Dwarf)\" \"Blonde\" \"Male\" \"June 20, 2006\" \"Gone to Hamster Heaven\" \"Vernon Hills, IL&nbsp; United States\" \"Toilet Paper, paper towels, etc\" \"Toilet Paper, paper towels, etc\" \"Lettuce\"\n",
      "\n",
      "\"2\" \"Tonks\" \"April 15, 2004\" \"Hamster (Syrian)\" \"Golden\" \"Female\" \"June 20, 2003\" \"Gone to Hamster Heaven\" \"Windsor Mill, MD&nbsp; United States\" \"wooden hamster bunker\" \"wooden hamster bunker\" \"just about anything\"\n",
      "\n",
      "\"3\" \"Bunny-Rabbit\" \"October 27, 2004\" \"Hamster (Syrian)\" \"Black\" \"Female\" \"August 1, 2002\" \"Gone to Hamster Heaven\" \"Chatsworth, GA&nbsp; United States\" \"Carpet?\" \"Carpet?\" \"Doritoes\"\n",
      "\n"
     ]
    }
   ],
   "source": [
    "#Reading and displaying initial records of ent.petster-hamster\n",
    "with open('data/ent.petster-hamster') as f:\n",
    "    i = 0\n",
    "    node_type = list()\n",
    "    for line in f:\n",
    "        print(line)\n",
    "        i = i+1    \n",
    "        #Break, after reading the initial 5 records\n",
    "        if i > 5:\n",
    "            break"
   ]
  },
  {
   "cell_type": "markdown",
   "metadata": {},
   "source": [
    "From the above display, we can infer that the initial 3 lines must be ignored, although the third line represents the field names. The fields are enclosed in double quotes and the fields are separated by a single space. So to read these records into a pandas data frame, we have to use the '\" \"' as the separator. The starting quote of field-1 and the end quote of the last field also must be dropped, before creating a pandas data frame. However we are interested only in the gender and ent fields. The ent field helps us to uniquely identify a hamster, and the gender column will contain the gender of the hamster. Hence we will not drop the quote of the last field, since we are not interested in that field anyway. "
   ]
  },
  {
   "cell_type": "code",
   "execution_count": 18,
   "metadata": {},
   "outputs": [
    {
     "name": "stdout",
     "output_type": "stream",
     "text": [
      "Displaying initial records from the node_type_df data frame\n"
     ]
    },
    {
     "data": {
      "text/html": [
       "<div>\n",
       "<style>\n",
       "    .dataframe thead tr:only-child th {\n",
       "        text-align: right;\n",
       "    }\n",
       "\n",
       "    .dataframe thead th {\n",
       "        text-align: left;\n",
       "    }\n",
       "\n",
       "    .dataframe tbody tr th {\n",
       "        vertical-align: top;\n",
       "    }\n",
       "</style>\n",
       "<table border=\"1\" class=\"dataframe\">\n",
       "  <thead>\n",
       "    <tr style=\"text-align: right;\">\n",
       "      <th></th>\n",
       "      <th>node</th>\n",
       "      <th>gender</th>\n",
       "    </tr>\n",
       "  </thead>\n",
       "  <tbody>\n",
       "    <tr>\n",
       "      <th>0</th>\n",
       "      <td>1</td>\n",
       "      <td>Male</td>\n",
       "    </tr>\n",
       "    <tr>\n",
       "      <th>1</th>\n",
       "      <td>2</td>\n",
       "      <td>Female</td>\n",
       "    </tr>\n",
       "    <tr>\n",
       "      <th>2</th>\n",
       "      <td>3</td>\n",
       "      <td>Female</td>\n",
       "    </tr>\n",
       "    <tr>\n",
       "      <th>3</th>\n",
       "      <td>4</td>\n",
       "      <td>Female</td>\n",
       "    </tr>\n",
       "    <tr>\n",
       "      <th>4</th>\n",
       "      <td>5</td>\n",
       "      <td>Female</td>\n",
       "    </tr>\n",
       "  </tbody>\n",
       "</table>\n",
       "</div>"
      ],
      "text/plain": [
       "   node  gender\n",
       "0     1    Male\n",
       "1     2  Female\n",
       "2     3  Female\n",
       "3     4  Female\n",
       "4     5  Female"
      ]
     },
     "metadata": {},
     "output_type": "display_data"
    },
    {
     "name": "stdout",
     "output_type": "stream",
     "text": [
      "Does the data frame has any NA values?\n"
     ]
    },
    {
     "data": {
      "text/plain": [
       "False"
      ]
     },
     "execution_count": 18,
     "metadata": {},
     "output_type": "execute_result"
    }
   ],
   "source": [
    "##Open the file\n",
    "with open('data/ent.petster-hamster') as f:\n",
    "    i = 0\n",
    "    #Create a list object to collect the data\n",
    "    node_type = list()\n",
    "    #Iteratively read the lines in the file\n",
    "    for line in f:\n",
    "        if line.startswith(\"%\"):\n",
    "            continue\n",
    "        data = line.strip().split('\" \"')\n",
    "        \n",
    "        #Extracting only the ent field and gender field's data\n",
    "        #Also dropping the initial quote from the ent field.\n",
    "        node_type.append([int(data[0][1:]),data[5].strip()])\n",
    "        \n",
    "node_type_df = pd.DataFrame(node_type,columns=[\"node\",\"gender\"])\n",
    "print(\"Displaying initial records from the node_type_df data frame\")\n",
    "display(node_type_df.head())\n",
    "\n",
    "print(\"Does the data frame has any NA values?\")\n",
    "node_type_df.isnull().values.any()\n"
   ]
  },
  {
   "cell_type": "markdown",
   "metadata": {},
   "source": [
    "The above display confirms that the records were read correctly, and there are no NaN values in the data.\n",
    "\n",
    "The following code block will display the initial records of the file: **out.petster-hamster**"
   ]
  },
  {
   "cell_type": "code",
   "execution_count": 20,
   "metadata": {},
   "outputs": [
    {
     "name": "stdout",
     "output_type": "stream",
     "text": [
      "% sym unweighted\n",
      "\n",
      "99 98\n",
      "\n",
      "999 550\n",
      "\n",
      "999 549\n",
      "\n",
      "999 42\n",
      "\n",
      "999 25\n",
      "\n"
     ]
    }
   ],
   "source": [
    "#Reading and displaying initial records of ent.petster-hamster\n",
    "with open('data/out.petster-hamster') as f:\n",
    "    i = 0\n",
    "    node_type = list()\n",
    "    for line in f:\n",
    "        print(line)\n",
    "        i = i+1    \n",
    "        #Break, after reading the initial 5 records\n",
    "        if i > 5:\n",
    "            break"
   ]
  },
  {
   "cell_type": "markdown",
   "metadata": {},
   "source": [
    "The above display shows that there are 2 fields representing the edge between two nodes. We will skip the nitial line and read the data into a pandas data frame named: *edges_df*"
   ]
  },
  {
   "cell_type": "code",
   "execution_count": 26,
   "metadata": {},
   "outputs": [
    {
     "name": "stdout",
     "output_type": "stream",
     "text": [
      "Displaying the inital records of the edges_df\n"
     ]
    },
    {
     "data": {
      "text/html": [
       "<div>\n",
       "<style>\n",
       "    .dataframe thead tr:only-child th {\n",
       "        text-align: right;\n",
       "    }\n",
       "\n",
       "    .dataframe thead th {\n",
       "        text-align: left;\n",
       "    }\n",
       "\n",
       "    .dataframe tbody tr th {\n",
       "        vertical-align: top;\n",
       "    }\n",
       "</style>\n",
       "<table border=\"1\" class=\"dataframe\">\n",
       "  <thead>\n",
       "    <tr style=\"text-align: right;\">\n",
       "      <th></th>\n",
       "      <th>node1</th>\n",
       "      <th>node2</th>\n",
       "    </tr>\n",
       "  </thead>\n",
       "  <tbody>\n",
       "    <tr>\n",
       "      <th>0</th>\n",
       "      <td>99</td>\n",
       "      <td>98</td>\n",
       "    </tr>\n",
       "    <tr>\n",
       "      <th>1</th>\n",
       "      <td>999</td>\n",
       "      <td>550</td>\n",
       "    </tr>\n",
       "    <tr>\n",
       "      <th>2</th>\n",
       "      <td>999</td>\n",
       "      <td>549</td>\n",
       "    </tr>\n",
       "    <tr>\n",
       "      <th>3</th>\n",
       "      <td>999</td>\n",
       "      <td>42</td>\n",
       "    </tr>\n",
       "    <tr>\n",
       "      <th>4</th>\n",
       "      <td>999</td>\n",
       "      <td>25</td>\n",
       "    </tr>\n",
       "  </tbody>\n",
       "</table>\n",
       "</div>"
      ],
      "text/plain": [
       "   node1  node2\n",
       "0     99     98\n",
       "1    999    550\n",
       "2    999    549\n",
       "3    999     42\n",
       "4    999     25"
      ]
     },
     "metadata": {},
     "output_type": "display_data"
    },
    {
     "name": "stdout",
     "output_type": "stream",
     "text": [
      "Did edges_df have any NA values?\n"
     ]
    },
    {
     "data": {
      "text/plain": [
       "False"
      ]
     },
     "execution_count": 26,
     "metadata": {},
     "output_type": "execute_result"
    }
   ],
   "source": [
    "#Skip the first row and read the rest of the data into a data frame\n",
    "edges_df = pd.read_csv('data\\out.petster-hamster', skiprows=1,header=None, sep=' ')\n",
    "\n",
    "#Name the columns as node1 and node2\n",
    "edges_df.columns = [\"node1\",\"node2\"]\n",
    "\n",
    "#Displaying initial records of the edges_df data frame\n",
    "print(\"Displaying the inital records of the edges_df\")\n",
    "display(edges_df.head())\n",
    "\n",
    "#Check if the data frame has any NA values\n",
    "print(\"Did edges_df have any NA values?\")\n",
    "edges_df.isnull().values.any()\n"
   ]
  },
  {
   "cell_type": "markdown",
   "metadata": {},
   "source": [
    "## IV. Building a graph\n",
    "\n",
    "The following code block will create a graph using Networkx package. It will also add gender variable to each node."
   ]
  },
  {
   "cell_type": "code",
   "execution_count": 38,
   "metadata": {},
   "outputs": [
    {
     "name": "stdout",
     "output_type": "stream",
     "text": [
      "Graph built successfully. The graph summary is displayed below:\n",
      "Name: \n",
      "Type: Graph\n",
      "Number of nodes: 2426\n",
      "Number of edges: 16631\n",
      "Average degree:  13.7106\n"
     ]
    }
   ],
   "source": [
    "#Create a graph\n",
    "GA = net.from_pandas_dataframe(edges_df,source=\"node1\",target=\"node2\")\n",
    "\n",
    "\n",
    "#Add the gender attribute to each node\n",
    "gender_type = dict(zip(node_type_df[\"node\"],node_type_df[\"gender\"]))\n",
    "net.set_node_attributes(GA,'gender',gender_type)\n",
    "\n",
    "#Print graph summary:\n",
    "print(\"Graph built successfully. The graph summary is displayed below:\")\n",
    "print(net.info(GA))\n"
   ]
  },
  {
   "cell_type": "markdown",
   "metadata": {},
   "source": [
    "The summary shows that on an average each node (or each hamster's owner) is connected with 14 other owners. There are 2426 number of owners and 16631 number of edges or connections between them. Let us now check if there are any disconnected components or sub-graphs in the graph."
   ]
  },
  {
   "cell_type": "code",
   "execution_count": 35,
   "metadata": {},
   "outputs": [
    {
     "name": "stdout",
     "output_type": "stream",
     "text": [
      "There are 148 subgraphs\n",
      "Display summary of sub-graphs, if and only if the number of nodes > 20\n",
      "----------------------------------\n",
      "Summary details of sub-graph: 1 \n",
      "----------------------------------\n",
      "Name: \n",
      "Type: Graph\n",
      "Number of nodes: 2000\n",
      "Number of edges: 16098\n",
      "Average degree:  16.0980\n",
      "Diameter:10\n",
      "Radius:6\n"
     ]
    }
   ],
   "source": [
    "if ~net.is_connected(GA):\n",
    "    GA_list = list(net.connected_component_subgraphs(GA))\n",
    "\n",
    "    print(\"There are {0} subgraphs\".format(len(GA_list)))\n",
    "\n",
    "    x = 1\n",
    "    for i in GA_list:\n",
    "        if(len(i.nodes()) > 20):\n",
    "            print(\"Display summary of sub-graphs, if and only if the number of nodes > 20\")\n",
    "            print(\"----------------------------------\")\n",
    "            print(\"Summary details of sub-graph: {0} \".format(x))\n",
    "            print(\"----------------------------------\")\n",
    "            x += 1\n",
    "            print(net.info(i))\n",
    "            print(\"Diameter:{0}\".format(net.diameter(i)))\n",
    "            print(\"Radius:{0}\".format(net.radius(i)))\n",
    "        else:\n",
    "            x += 1\n",
    "            \n",
    "else:\n",
    "    print(\"The graph does not have any disconnected components\")"
   ]
  },
  {
   "cell_type": "markdown",
   "metadata": {},
   "source": [
    "The above display shows that there are 148 sub-graphs, and only one sub-graph has more than 20 nodes. So for the rest of the discussion/analysis, we will consider the sub-graph with highest number of nodes (2000) as the ain graph and discard the remaining sub-graphs. "
   ]
  },
  {
   "cell_type": "markdown",
   "metadata": {},
   "source": [
    "## V. Centralities\n",
    "The following code block will obtain the degree and eigen vector centralities of the graph."
   ]
  },
  {
   "cell_type": "code",
   "execution_count": 40,
   "metadata": {},
   "outputs": [],
   "source": [
    "GA = GA_list[0]\n",
    "#Get eigen vector centralities\n",
    "eigen_centrality=net.eigenvector_centrality(GA)\n",
    "\n",
    "#Get degree centralities\n",
    "degree_centrality=net.degree_centrality(GA)\n"
   ]
  },
  {
   "cell_type": "markdown",
   "metadata": {},
   "source": [
    "The top 5 nodes with highest centrality measures are displayed below:"
   ]
  },
  {
   "cell_type": "code",
   "execution_count": 45,
   "metadata": {},
   "outputs": [
    {
     "name": "stdout",
     "output_type": "stream",
     "text": [
      "Top 5 nodes based on the eigen vector centrality measure:\n"
     ]
    },
    {
     "data": {
      "text/html": [
       "<div>\n",
       "<style>\n",
       "    .dataframe thead tr:only-child th {\n",
       "        text-align: right;\n",
       "    }\n",
       "\n",
       "    .dataframe thead th {\n",
       "        text-align: left;\n",
       "    }\n",
       "\n",
       "    .dataframe tbody tr th {\n",
       "        vertical-align: top;\n",
       "    }\n",
       "</style>\n",
       "<table border=\"1\" class=\"dataframe\">\n",
       "  <thead>\n",
       "    <tr style=\"text-align: right;\">\n",
       "      <th></th>\n",
       "      <th>node</th>\n",
       "      <th>eigen_centrality_score</th>\n",
       "      <th>gender</th>\n",
       "    </tr>\n",
       "  </thead>\n",
       "  <tbody>\n",
       "    <tr>\n",
       "      <th>0</th>\n",
       "      <td>237</td>\n",
       "      <td>0.211469</td>\n",
       "      <td>Female</td>\n",
       "    </tr>\n",
       "    <tr>\n",
       "      <th>1</th>\n",
       "      <td>238</td>\n",
       "      <td>0.185886</td>\n",
       "      <td>Female</td>\n",
       "    </tr>\n",
       "    <tr>\n",
       "      <th>2</th>\n",
       "      <td>168</td>\n",
       "      <td>0.143649</td>\n",
       "      <td>Female</td>\n",
       "    </tr>\n",
       "    <tr>\n",
       "      <th>3</th>\n",
       "      <td>177</td>\n",
       "      <td>0.123658</td>\n",
       "      <td>Female</td>\n",
       "    </tr>\n",
       "    <tr>\n",
       "      <th>4</th>\n",
       "      <td>356</td>\n",
       "      <td>0.120463</td>\n",
       "      <td>Male</td>\n",
       "    </tr>\n",
       "  </tbody>\n",
       "</table>\n",
       "</div>"
      ],
      "text/plain": [
       "   node  eigen_centrality_score  gender\n",
       "0   237                0.211469  Female\n",
       "1   238                0.185886  Female\n",
       "2   168                0.143649  Female\n",
       "3   177                0.123658  Female\n",
       "4   356                0.120463    Male"
      ]
     },
     "metadata": {},
     "output_type": "display_data"
    },
    {
     "name": "stdout",
     "output_type": "stream",
     "text": [
      "Top 5 nodes based on the degree vector centrality measure:\n"
     ]
    },
    {
     "data": {
      "text/html": [
       "<div>\n",
       "<style>\n",
       "    .dataframe thead tr:only-child th {\n",
       "        text-align: right;\n",
       "    }\n",
       "\n",
       "    .dataframe thead th {\n",
       "        text-align: left;\n",
       "    }\n",
       "\n",
       "    .dataframe tbody tr th {\n",
       "        vertical-align: top;\n",
       "    }\n",
       "</style>\n",
       "<table border=\"1\" class=\"dataframe\">\n",
       "  <thead>\n",
       "    <tr style=\"text-align: right;\">\n",
       "      <th></th>\n",
       "      <th>node</th>\n",
       "      <th>degree_centrality_score</th>\n",
       "      <th>gender</th>\n",
       "    </tr>\n",
       "  </thead>\n",
       "  <tbody>\n",
       "    <tr>\n",
       "      <th>0</th>\n",
       "      <td>237</td>\n",
       "      <td>0.136568</td>\n",
       "      <td>Female</td>\n",
       "    </tr>\n",
       "    <tr>\n",
       "      <th>1</th>\n",
       "      <td>238</td>\n",
       "      <td>0.111556</td>\n",
       "      <td>Female</td>\n",
       "    </tr>\n",
       "    <tr>\n",
       "      <th>2</th>\n",
       "      <td>44</td>\n",
       "      <td>0.086543</td>\n",
       "      <td>Female</td>\n",
       "    </tr>\n",
       "    <tr>\n",
       "      <th>3</th>\n",
       "      <td>168</td>\n",
       "      <td>0.077039</td>\n",
       "      <td>Female</td>\n",
       "    </tr>\n",
       "    <tr>\n",
       "      <th>4</th>\n",
       "      <td>169</td>\n",
       "      <td>0.075538</td>\n",
       "      <td>Male</td>\n",
       "    </tr>\n",
       "  </tbody>\n",
       "</table>\n",
       "</div>"
      ],
      "text/plain": [
       "   node  degree_centrality_score  gender\n",
       "0   237                 0.136568  Female\n",
       "1   238                 0.111556  Female\n",
       "2    44                 0.086543  Female\n",
       "3   168                 0.077039  Female\n",
       "4   169                 0.075538    Male"
      ]
     },
     "metadata": {},
     "output_type": "display_data"
    }
   ],
   "source": [
    "#print(eigen_centrality)\n",
    "temp_df=pd.DataFrame(sorted(eigen_centrality.items(),key=lambda x:x[1],reverse=True)[:5],\\\n",
    "                    columns = [\"node\",\"eigen_centrality_score\"])\n",
    "\n",
    "print(\"Top 5 nodes based on the eigen vector centrality measure:\")\n",
    "display(pd.merge(temp_df,node_type_df, on=\"node\"))\n",
    "\n",
    "\n",
    "#print(degree_centrality)\n",
    "temp_df=pd.DataFrame(sorted(degree_centrality.items(),key=lambda x:x[1],reverse=True)[:5],\\\n",
    "                    columns = [\"node\",\"degree_centrality_score\"])\n",
    "\n",
    "print(\"Top 5 nodes based on the degree vector centrality measure:\")\n",
    "display(pd.merge(temp_df,node_type_df, on=\"node\"))\n"
   ]
  },
  {
   "cell_type": "code",
   "execution_count": 75,
   "metadata": {},
   "outputs": [
    {
     "name": "stdout",
     "output_type": "stream",
     "text": [
      "Name: \n",
      "Type: Graph\n",
      "Number of nodes: 2000\n",
      "Number of edges: 16098\n",
      "Average degree:  16.0980\n"
     ]
    }
   ],
   "source": [
    "print(net.info(GA))\n",
    "#net.write_gml(GA,\"subgraph0.gml\")\n",
    "from pip._vendor import pkg_resources\n",
    "\n",
    "def get_version(package):\n",
    "    package = package.lower()\n",
    "    return next((p.version for p in pkg_resources.working_set if p.project_name.lower() == package), \"No match\")\n",
    "\n",
    "get_version(\"networkx\")\n",
    "pd.DataFrame(GA.edges(),columns=[\"source\",\"target\"]).to_csv(\"subgraph0\",index=False)"
   ]
  },
  {
   "cell_type": "markdown",
   "metadata": {},
   "source": [
    "Still working ..."
   ]
  },
  {
   "cell_type": "markdown",
   "metadata": {},
   "source": [
    "### IV. References\n",
    "konect:2016:petster-hamster, Hamsterster full network dataset, http://konect.uni-koblenz.de/networks/petster-hamster"
   ]
  }
 ],
 "metadata": {
  "kernelspec": {
   "display_name": "Python 3",
   "language": "python",
   "name": "python3"
  },
  "language_info": {
   "codemirror_mode": {
    "name": "ipython",
    "version": 3
   },
   "file_extension": ".py",
   "mimetype": "text/x-python",
   "name": "python",
   "nbconvert_exporter": "python",
   "pygments_lexer": "ipython3",
   "version": "3.5.3"
  }
 },
 "nbformat": 4,
 "nbformat_minor": 2
}
