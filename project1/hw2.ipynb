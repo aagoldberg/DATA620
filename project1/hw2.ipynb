{
 "cells": [
  {
   "cell_type": "markdown",
   "metadata": {},
   "source": [
    "# DATA 620, Assignment 2, Part 2: “Centrality Measures”\n",
    "\n",
    "### Group 1 Members:\n",
    "\n",
    "* Mauricio Alarcon\n",
    "* Sekhar Mekala \n",
    "* Aadi Kalloo\n",
    "* Srinivasa Illapani\n",
    "* Param Singh \n",
    "\n",
    "### Assignment Description\n",
    "\n",
    "Centrality measures can be used to predict (positive or negative) outcomes for a node.\n",
    "\n",
    "Your task in this week’s assignment is to identify an interesting set of network data that is available on the web (either through web scraping or web APIs) that could be used for analyzing and comparing centrality measures across nodes.  As an additional constraint, there should be at least one categorical variable available for each node (such as “Male” or “Female”; “Republican”, “Democrat,” or “Undecided”, etc.)\n",
    "\n",
    "In addition to identifying your data source, you should create a high level plan that describes how you would load the data for analysis, and describe a hypothetical outcome that could be predicted from comparing degree centrality across categorical groups. \n",
    "\n",
    "For this week’s assignment, you are not required to actually load or analyze the data.  Please see also Project 1 below.\n"
   ]
  },
  {
   "cell_type": "markdown",
   "metadata": {},
   "source": [
    "# Assignment Response\n",
    "\n",
    "We identified the Amazon Co-Product dataset as a viable source for this exercise. The Amazon Co-Product data from https://snap.stanford.edu/data/amazon0302.html and https://snap.stanford.edu/data/amazon-meta.html\n",
    "\n",
    "Let's look a little closer at the datasets:"
   ]
  },
  {
   "cell_type": "code",
   "execution_count": 1,
   "metadata": {
    "collapsed": false
   },
   "outputs": [],
   "source": [
    "import graphlab as gl\n",
    "gl.canvas.set_target('ipynb') # use IPython Notebook output for GraphLab Canvas"
   ]
  },
  {
   "cell_type": "markdown",
   "metadata": {},
   "source": [
    "### Edges\n",
    "\n",
    "The list of Edges:"
   ]
  },
  {
   "cell_type": "code",
   "execution_count": 2,
   "metadata": {
    "collapsed": false
   },
   "outputs": [
    {
     "name": "stdout",
     "output_type": "stream",
     "text": [
      "# Directed graph (each unordered pair of nodes is saved once): Amazon0302.txt\n",
      "# Amazon product co-purchaisng network from March 02 2003\n",
      "# Nodes: 262111 Edges: 1234877\n",
      "# FromNodeId\tToNodeId\n",
      "0\t1\n",
      "0\t2\n",
      "0\t3\n",
      "0\t4\n",
      "0\t5\n",
      "1\t0\n",
      "1\t2\n",
      "1\t4\n",
      "1\t5\n",
      "1\t15\n",
      "2\t0\n",
      "2\t11\n",
      "2\t12\n",
      "2\t13\n",
      "2\t14\n",
      "3\t63\n"
     ]
    }
   ],
   "source": [
    "import gzip\n",
    "\n",
    "i=0\n",
    "with gzip.open('data/amazon0302.txt.gz','r') as fin:\n",
    "    for line in fin:\n",
    "        print(line.strip())\n",
    "        i+=1\n",
    "        if (i==20):\n",
    "            break"
   ]
  },
  {
   "cell_type": "markdown",
   "metadata": {},
   "source": [
    "### Vertices"
   ]
  },
  {
   "cell_type": "code",
   "execution_count": 3,
   "metadata": {
    "collapsed": false
   },
   "outputs": [
    {
     "name": "stdout",
     "output_type": "stream",
     "text": [
      "# Full information about Amazon Share the Love products\n",
      "Total items: 548552\n",
      "\n",
      "Id:   0\n",
      "ASIN: 0771044445\n",
      "discontinued product\n",
      "\n",
      "Id:   1\n",
      "ASIN: 0827229534\n",
      "title: Patterns of Preaching: A Sermon Sampler\n",
      "group: Book\n",
      "salesrank: 396585\n",
      "similar: 5  0804215715  156101074X  0687023955  0687074231  082721619X\n",
      "categories: 2\n",
      "|Books[283155]|Subjects[1000]|Religion & Spirituality[22]|Christianity[12290]|Clergy[12360]|Preaching[12368]\n",
      "|Books[283155]|Subjects[1000]|Religion & Spirituality[22]|Christianity[12290]|Clergy[12360]|Sermons[12370]\n",
      "reviews: total: 2  downloaded: 2  avg rating: 5\n",
      "2000-7-28  cutomer: A2JW67OY8U6HHK  rating: 5  votes:  10  helpful:   9\n",
      "2003-12-14  cutomer: A2VE83MZF98ITY  rating: 5  votes:   6  helpful:   5\n",
      "\n",
      "Id:   2\n",
      "ASIN: 0738700797\n",
      "title: Candlemas: Feast of Flames\n",
      "group: Book\n",
      "salesrank: 168596\n",
      "similar: 5  0738700827  1567184960  1567182836  0738700525  0738700940\n",
      "categories: 2\n",
      "|Books[283155]|Subjects[1000]|Religion & Spirituality[22]|Earth-Based Religions[12472]|Wicca[12484]\n",
      "|Books[283155]|Subjects[1000]|Religion & Spirituality[22]|Earth-Based Religions[12472]|Witchcraft[12486]\n",
      "reviews: total: 12  downloaded: 12  avg rating: 4.5\n"
     ]
    }
   ],
   "source": [
    "i=0\n",
    "with gzip.open('data/amazon-meta.txt.gz','r') as fin:\n",
    "    for line in fin:\n",
    "        print(line.strip())\n",
    "        i+=1\n",
    "        if (i==30):\n",
    "            break"
   ]
  },
  {
   "cell_type": "markdown",
   "metadata": {},
   "source": [
    "As we can see in the preview above, the vertices are data-rich. We can consider collecting the following attributes:\n",
    "\n",
    "* Group\n",
    "* Categories (first line)\n",
    "* Reviews Total\n",
    "* Reviews Avg Rating"
   ]
  },
  {
   "cell_type": "markdown",
   "metadata": {},
   "source": [
    "# Import List of Edges"
   ]
  },
  {
   "cell_type": "code",
   "execution_count": 4,
   "metadata": {
    "collapsed": false
   },
   "outputs": [
    {
     "name": "stdout",
     "output_type": "stream",
     "text": [
      "This non-commercial license of GraphLab Create for academic use is assigned to mauricio.alarcon_balan@spsmail.cuny.edu and will expire on June 05, 2018.\n"
     ]
    },
    {
     "name": "stderr",
     "output_type": "stream",
     "text": [
      "[INFO] graphlab.cython.cy_server: GraphLab Create v2.1 started. Logging: /tmp/graphlab_server_1497372256.log\n"
     ]
    },
    {
     "data": {
      "text/html": [
       "<pre>Finished parsing file /Users/malarcon/Google Drive/CUNY/DATA620/project1/data/amazon0302.txt.gz</pre>"
      ],
      "text/plain": [
       "Finished parsing file /Users/malarcon/Google Drive/CUNY/DATA620/project1/data/amazon0302.txt.gz"
      ]
     },
     "metadata": {},
     "output_type": "display_data"
    },
    {
     "data": {
      "text/html": [
       "<pre>Parsing completed. Parsed 100 lines in 0.554817 secs.</pre>"
      ],
      "text/plain": [
       "Parsing completed. Parsed 100 lines in 0.554817 secs."
      ]
     },
     "metadata": {},
     "output_type": "display_data"
    },
    {
     "name": "stdout",
     "output_type": "stream",
     "text": [
      "------------------------------------------------------\n",
      "Inferred types from first 100 line(s) of file as \n",
      "column_type_hints=[int,int]\n",
      "If parsing fails due to incorrect types, you can correct\n",
      "the inferred type list above and pass it to read_csv in\n",
      "the column_type_hints argument\n",
      "------------------------------------------------------\n"
     ]
    },
    {
     "data": {
      "text/html": [
       "<pre>Finished parsing file /Users/malarcon/Google Drive/CUNY/DATA620/project1/data/amazon0302.txt.gz</pre>"
      ],
      "text/plain": [
       "Finished parsing file /Users/malarcon/Google Drive/CUNY/DATA620/project1/data/amazon0302.txt.gz"
      ]
     },
     "metadata": {},
     "output_type": "display_data"
    },
    {
     "data": {
      "text/html": [
       "<pre>Parsing completed. Parsed 1234877 lines in 0.72285 secs.</pre>"
      ],
      "text/plain": [
       "Parsing completed. Parsed 1234877 lines in 0.72285 secs."
      ]
     },
     "metadata": {},
     "output_type": "display_data"
    }
   ],
   "source": [
    "edges = gl.SFrame.read_csv('data/amazon0302.txt.gz',delimiter='\\t',skiprows=4,header=False)"
   ]
  },
  {
   "cell_type": "code",
   "execution_count": 5,
   "metadata": {
    "collapsed": false
   },
   "outputs": [
    {
     "data": {
      "text/html": [
       "<div style=\"max-height:1000px;max-width:1500px;overflow:auto;\"><table frame=\"box\" rules=\"cols\">\n",
       "    <tr>\n",
       "        <th style=\"padding-left: 1em; padding-right: 1em; text-align: center\">src</th>\n",
       "        <th style=\"padding-left: 1em; padding-right: 1em; text-align: center\">dst</th>\n",
       "    </tr>\n",
       "    <tr>\n",
       "        <td style=\"padding-left: 1em; padding-right: 1em; text-align: center; vertical-align: top\">0</td>\n",
       "        <td style=\"padding-left: 1em; padding-right: 1em; text-align: center; vertical-align: top\">1</td>\n",
       "    </tr>\n",
       "    <tr>\n",
       "        <td style=\"padding-left: 1em; padding-right: 1em; text-align: center; vertical-align: top\">0</td>\n",
       "        <td style=\"padding-left: 1em; padding-right: 1em; text-align: center; vertical-align: top\">2</td>\n",
       "    </tr>\n",
       "    <tr>\n",
       "        <td style=\"padding-left: 1em; padding-right: 1em; text-align: center; vertical-align: top\">0</td>\n",
       "        <td style=\"padding-left: 1em; padding-right: 1em; text-align: center; vertical-align: top\">3</td>\n",
       "    </tr>\n",
       "    <tr>\n",
       "        <td style=\"padding-left: 1em; padding-right: 1em; text-align: center; vertical-align: top\">0</td>\n",
       "        <td style=\"padding-left: 1em; padding-right: 1em; text-align: center; vertical-align: top\">4</td>\n",
       "    </tr>\n",
       "    <tr>\n",
       "        <td style=\"padding-left: 1em; padding-right: 1em; text-align: center; vertical-align: top\">0</td>\n",
       "        <td style=\"padding-left: 1em; padding-right: 1em; text-align: center; vertical-align: top\">5</td>\n",
       "    </tr>\n",
       "    <tr>\n",
       "        <td style=\"padding-left: 1em; padding-right: 1em; text-align: center; vertical-align: top\">1</td>\n",
       "        <td style=\"padding-left: 1em; padding-right: 1em; text-align: center; vertical-align: top\">0</td>\n",
       "    </tr>\n",
       "    <tr>\n",
       "        <td style=\"padding-left: 1em; padding-right: 1em; text-align: center; vertical-align: top\">1</td>\n",
       "        <td style=\"padding-left: 1em; padding-right: 1em; text-align: center; vertical-align: top\">2</td>\n",
       "    </tr>\n",
       "    <tr>\n",
       "        <td style=\"padding-left: 1em; padding-right: 1em; text-align: center; vertical-align: top\">1</td>\n",
       "        <td style=\"padding-left: 1em; padding-right: 1em; text-align: center; vertical-align: top\">4</td>\n",
       "    </tr>\n",
       "    <tr>\n",
       "        <td style=\"padding-left: 1em; padding-right: 1em; text-align: center; vertical-align: top\">1</td>\n",
       "        <td style=\"padding-left: 1em; padding-right: 1em; text-align: center; vertical-align: top\">5</td>\n",
       "    </tr>\n",
       "    <tr>\n",
       "        <td style=\"padding-left: 1em; padding-right: 1em; text-align: center; vertical-align: top\">1</td>\n",
       "        <td style=\"padding-left: 1em; padding-right: 1em; text-align: center; vertical-align: top\">15</td>\n",
       "    </tr>\n",
       "</table>\n",
       "[1234877 rows x 2 columns]<br/>Note: Only the head of the SFrame is printed.<br/>You can use print_rows(num_rows=m, num_columns=n) to print more rows and columns.\n",
       "</div>"
      ],
      "text/plain": [
       "Columns:\n",
       "\tsrc\tint\n",
       "\tdst\tint\n",
       "\n",
       "Rows: 1234877\n",
       "\n",
       "Data:\n",
       "+-----+-----+\n",
       "| src | dst |\n",
       "+-----+-----+\n",
       "|  0  |  1  |\n",
       "|  0  |  2  |\n",
       "|  0  |  3  |\n",
       "|  0  |  4  |\n",
       "|  0  |  5  |\n",
       "|  1  |  0  |\n",
       "|  1  |  2  |\n",
       "|  1  |  4  |\n",
       "|  1  |  5  |\n",
       "|  1  |  15 |\n",
       "+-----+-----+\n",
       "[1234877 rows x 2 columns]\n",
       "Note: Only the head of the SFrame is printed.\n",
       "You can use print_rows(num_rows=m, num_columns=n) to print more rows and columns."
      ]
     },
     "execution_count": 5,
     "metadata": {},
     "output_type": "execute_result"
    }
   ],
   "source": [
    "edges.rename({'X1':'src', 'X2':'dst'})#.column_names([['src','dst']])\n",
    "#edges.head()"
   ]
  },
  {
   "cell_type": "code",
   "execution_count": 6,
   "metadata": {
    "collapsed": false
   },
   "outputs": [
    {
     "data": {
      "text/html": [
       "<div style=\"max-height:1000px;max-width:1500px;overflow:auto;\"><table frame=\"box\" rules=\"cols\">\n",
       "    <tr>\n",
       "        <th style=\"padding-left: 1em; padding-right: 1em; text-align: center\">src</th>\n",
       "        <th style=\"padding-left: 1em; padding-right: 1em; text-align: center\">dst</th>\n",
       "    </tr>\n",
       "    <tr>\n",
       "        <td style=\"padding-left: 1em; padding-right: 1em; text-align: center; vertical-align: top\">0</td>\n",
       "        <td style=\"padding-left: 1em; padding-right: 1em; text-align: center; vertical-align: top\">1</td>\n",
       "    </tr>\n",
       "    <tr>\n",
       "        <td style=\"padding-left: 1em; padding-right: 1em; text-align: center; vertical-align: top\">0</td>\n",
       "        <td style=\"padding-left: 1em; padding-right: 1em; text-align: center; vertical-align: top\">2</td>\n",
       "    </tr>\n",
       "    <tr>\n",
       "        <td style=\"padding-left: 1em; padding-right: 1em; text-align: center; vertical-align: top\">0</td>\n",
       "        <td style=\"padding-left: 1em; padding-right: 1em; text-align: center; vertical-align: top\">3</td>\n",
       "    </tr>\n",
       "    <tr>\n",
       "        <td style=\"padding-left: 1em; padding-right: 1em; text-align: center; vertical-align: top\">0</td>\n",
       "        <td style=\"padding-left: 1em; padding-right: 1em; text-align: center; vertical-align: top\">4</td>\n",
       "    </tr>\n",
       "    <tr>\n",
       "        <td style=\"padding-left: 1em; padding-right: 1em; text-align: center; vertical-align: top\">0</td>\n",
       "        <td style=\"padding-left: 1em; padding-right: 1em; text-align: center; vertical-align: top\">5</td>\n",
       "    </tr>\n",
       "    <tr>\n",
       "        <td style=\"padding-left: 1em; padding-right: 1em; text-align: center; vertical-align: top\">1</td>\n",
       "        <td style=\"padding-left: 1em; padding-right: 1em; text-align: center; vertical-align: top\">0</td>\n",
       "    </tr>\n",
       "    <tr>\n",
       "        <td style=\"padding-left: 1em; padding-right: 1em; text-align: center; vertical-align: top\">1</td>\n",
       "        <td style=\"padding-left: 1em; padding-right: 1em; text-align: center; vertical-align: top\">2</td>\n",
       "    </tr>\n",
       "    <tr>\n",
       "        <td style=\"padding-left: 1em; padding-right: 1em; text-align: center; vertical-align: top\">1</td>\n",
       "        <td style=\"padding-left: 1em; padding-right: 1em; text-align: center; vertical-align: top\">4</td>\n",
       "    </tr>\n",
       "    <tr>\n",
       "        <td style=\"padding-left: 1em; padding-right: 1em; text-align: center; vertical-align: top\">1</td>\n",
       "        <td style=\"padding-left: 1em; padding-right: 1em; text-align: center; vertical-align: top\">5</td>\n",
       "    </tr>\n",
       "    <tr>\n",
       "        <td style=\"padding-left: 1em; padding-right: 1em; text-align: center; vertical-align: top\">1</td>\n",
       "        <td style=\"padding-left: 1em; padding-right: 1em; text-align: center; vertical-align: top\">15</td>\n",
       "    </tr>\n",
       "</table>\n",
       "[1234877 rows x 2 columns]<br/>Note: Only the head of the SFrame is printed.<br/>You can use print_rows(num_rows=m, num_columns=n) to print more rows and columns.\n",
       "</div>"
      ],
      "text/plain": [
       "Columns:\n",
       "\tsrc\tint\n",
       "\tdst\tint\n",
       "\n",
       "Rows: 1234877\n",
       "\n",
       "Data:\n",
       "+-----+-----+\n",
       "| src | dst |\n",
       "+-----+-----+\n",
       "|  0  |  1  |\n",
       "|  0  |  2  |\n",
       "|  0  |  3  |\n",
       "|  0  |  4  |\n",
       "|  0  |  5  |\n",
       "|  1  |  0  |\n",
       "|  1  |  2  |\n",
       "|  1  |  4  |\n",
       "|  1  |  5  |\n",
       "|  1  |  15 |\n",
       "+-----+-----+\n",
       "[1234877 rows x 2 columns]\n",
       "Note: Only the head of the SFrame is printed.\n",
       "You can use print_rows(num_rows=m, num_columns=n) to print more rows and columns."
      ]
     },
     "execution_count": 6,
     "metadata": {},
     "output_type": "execute_result"
    }
   ],
   "source": [
    "edges"
   ]
  },
  {
   "cell_type": "code",
   "execution_count": null,
   "metadata": {
    "collapsed": false
   },
   "outputs": [],
   "source": [
    "import re\n",
    "import gzip\n",
    "\n",
    "v = gl.SFrame()\n",
    "i=0\n",
    "with gzip.open('data/amazon-meta.txt.gz','r') as fin:\n",
    "    id = None\n",
    "    title = None \n",
    "    group = None\n",
    "    reviews_total = None\n",
    "    reviews_downloaded = None\n",
    "    reviews_avg_rating = None\n",
    "    category= None\n",
    "    inCategory = False\n",
    "    for line in fin:\n",
    "        #Id:   1\n",
    "        id_m = re.search('Id:\\s*([0-9])', line)\n",
    "        if (id_m):\n",
    "            id = id_m.group(1).strip()\n",
    "        if (id is not None):\n",
    "            #title: Patterns of Preaching: A Sermon Sampler\n",
    "            title_m = re.search('title:\\s*(.+)', line)\n",
    "            if (title_m):\n",
    "                title = title_m.group(1).strip()\n",
    "            \n",
    "            #group: Book\n",
    "            group_m = re.search('group:\\s*(.+)', line)\n",
    "            if (group_m):\n",
    "                group = group_m.group(1).strip()\n",
    "            \n",
    "            #categories: 2\n",
    "            #|Books[283155]|Subjects[1000]|Religion & Spirituality[22]|Christianity[12290]|Clergy[12360]|Preaching[12368]\n",
    "            #|Books[283155]|Subjects[1000]|Religion & Spirituality[22]|Christianity[12290]|Clergy[12360]|Sermons[12370]\n",
    "            if (inCategory):\n",
    "                category = line.strip()\n",
    "                inCategory = False                \n",
    "            categories_m = re.search('categories:\\s*(.+)', line)\n",
    "            if (categories_m):\n",
    "                inCategory = True\n",
    "\n",
    "            #reviews: total: 2  downloaded: 2  avg rating: 5\n",
    "            reviews_m = re.search('reviews:\\s*total:\\s*([0-9]+)\\s*downloaded:\\s*([0-9]+)\\s*avg rating:\\s*([0-9.]+)', line)\n",
    "            if (reviews_m):\n",
    "                reviews_total = reviews_m.group(1).strip()\n",
    "                reviews_downloaded = reviews_m.group(2).strip()\n",
    "                reviews_avg_rating = reviews_m.group(3).strip()\n",
    "                \n",
    "            if (id is not None \n",
    "                and title is not None \n",
    "                and group is not None\n",
    "                and reviews_total is not None\n",
    "                and reviews_downloaded is not None\n",
    "                and reviews_avg_rating is not None\n",
    "                and category is not None):\n",
    "                v = v.append(gl.SFrame({'id':[id],'title':[title],'group':[group],'reviews_total':[int(reviews_total)],'reviews_downloaded':[int(reviews_downloaded)],'reviews_avg_rating':[float(reviews_avg_rating)],'category':[category]}))\n",
    "                id = None\n",
    "                title = None \n",
    "                group = None\n",
    "                reviews_total = None\n",
    "                reviews_downloaded = None\n",
    "                reviews_avg_rating = None\n",
    "                category= None\n",
    "        i+=1\n",
    "#        if (i==300):\n",
    "#            break\n"
   ]
  },
  {
   "cell_type": "code",
   "execution_count": null,
   "metadata": {
    "collapsed": false
   },
   "outputs": [],
   "source": [
    "v"
   ]
  }
 ],
 "metadata": {
  "kernelspec": {
   "display_name": "Python 2",
   "language": "python",
   "name": "python2"
  },
  "language_info": {
   "codemirror_mode": {
    "name": "ipython",
    "version": 2
   },
   "file_extension": ".py",
   "mimetype": "text/x-python",
   "name": "python",
   "nbconvert_exporter": "python",
   "pygments_lexer": "ipython2",
   "version": "2.7.11"
  }
 },
 "nbformat": 4,
 "nbformat_minor": 0
}
