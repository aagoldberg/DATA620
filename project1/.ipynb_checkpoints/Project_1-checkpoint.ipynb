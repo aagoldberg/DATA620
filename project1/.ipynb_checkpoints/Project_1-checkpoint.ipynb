{
 "cells": [
  {
   "cell_type": "markdown",
   "metadata": {},
   "source": [
    "# Web Analytics - Project-1\n",
    "\n",
    "*June 20, 2017*\n",
    "\n",
    "## Group 1 Members:\n",
    "* Mauricio Alarcon\n",
    "* Sekhar Mekala\n",
    "* Aadi Kalloo\n",
    "* Srinivasa Illapani\n",
    "* Param Singh"
   ]
  },
  {
   "cell_type": "markdown",
   "metadata": {},
   "source": [
    "## I. Background\n",
    "\n",
    "The main goal of this project is to perform analysis of a network data set which contains information about owners of hamsters and the friendships between the owners. The owners maintain the details about their  hamster(s) on a website, and the owners also maintain friendship with some of the owners on the same website. This data has a lot of potential to study relationships between people based on various attributes of hamsters they own. For instance we can identify if the gender of hamster has any relationship to the number of friends a owner can have. We can also identify if the owner of same species of hamster tend to make more friends with similar species' owners than with the owners of different species. The data for this project is present as a compressed folder at http://konect.uni-koblenz.de/networks/petster-hamster. The compressed file has 4 files described below: \n",
    "\n",
    "   * **ent.petster-hamster** - Contains hamster attributes such as ID, name, date joined, color,species, gender, birthday, age, hometown, favorite toy, favorite activity, favorite food.\n",
    "    \n",
    "   * **out.petster-hamster** - Contains mapping between IDs, representing friendship between the owners of the hamsters with respective IDs.\n",
    "    \n",
    "   * **README.petster-hamster** - Information about the files and citation requirements\n",
    "    \n",
    "   * **meta.petster-hamster** - Contains information about the data\n",
    "\n",
    "## II. Requirements\n",
    "\n",
    "For this project, we will use the files **ent.petster-hamster** and **out.petster-hamster** data sets. Specifically we want to identify if the gender of the hamster has any effect on the centrality measures of the graph. We will use degree centrality, betweenness centrality and eigen vector centrality measures for this project. The requirements of this project are given below:\n",
    "\n",
    "1. Build an undirected graph using the data present in *out.petster-hamster* data set. Each node will represent the hamster and each edge represents friendship between the owners of the hamster.\n",
    "\n",
    "2. Extract the gender of the hamster from *ent.petster-hamster*, and update each node of the graph.\n",
    "\n",
    "3. Get the degree centrality and eigen vector centrality measures of each nodes.\n",
    "\n",
    "4. Perform hypothesis testing of the following hypothesis. A confidence level of 95% should be used in these tests:\n",
    "\n",
    "    _Hypothesis:1_\n",
    "    \n",
    "    $H_0:$ The Degree Centrality has a uniform effect, irrespective of the gender of the hamster\n",
    "\n",
    "    $H_1:$ The Degree Centrality has some effect based on the gender of the hamster\n",
    "\n",
    "    _Hypothesis:2_\n",
    "    \n",
    "    $H_0:$ The Eigen vector Centrality has a uniform effect, irrespective of the gender of the hamster\n",
    "\n",
    "    $H_1:$ The Eigen vector Centrality has some effect based on the gender of the hamster\n",
    "\n",
    "    _Hypothesis:3_\n",
    "    \n",
    "    $H_0:$ The Betweenness Centrality has a uniform effect, irrespective of the gender of the hamster\n",
    "\n",
    "    $H_1:$ The Betweenness Centrality has some effect based on the gender of the hamster\n",
    "\n",
    "5. If we identify that there is a relationship between the gender and the centrality measure(s), then identify which gender dominates the higher centrality measure(s)"
   ]
  },
  {
   "cell_type": "markdown",
   "metadata": {},
   "source": [
    "## III. Data cleansing\n",
    "\n",
    "Importing all the required packages for this project."
   ]
  },
  {
   "cell_type": "code",
   "execution_count": 2,
   "metadata": {
    "collapsed": true
   },
   "outputs": [],
   "source": [
    "##Import all the required packages\n",
    "import networkx as net\n",
    "import urllib\n",
    "import matplotlib.pyplot as plt\n",
    "import pandas as pd\n",
    "import numpy as np\n",
    "import sklearn\n",
    "import scipy.stats as stats"
   ]
  },
  {
   "cell_type": "markdown",
   "metadata": {},
   "source": [
    "The following code block will display the initial records of the file: **ent.petster-hamster**"
   ]
  },
  {
   "cell_type": "code",
   "execution_count": 3,
   "metadata": {},
   "outputs": [
    {
     "name": "stdout",
     "output_type": "stream",
     "text": [
      "%\n",
      "\n",
      "%\n",
      "\n",
      "% ent dat.name dat.joined dat.species dat.coloring dat.gender dat.birthday dat.age dat.hometown dat.favorite_toy dat.favorite_activity dat.favorite_food\n",
      "\n",
      "\"1\" \"Dexter\" \"August 1, 2006\" \"Hamster (Dwarf)\" \"Blonde\" \"Male\" \"June 20, 2006\" \"Gone to Hamster Heaven\" \"Vernon Hills, IL&nbsp; United States\" \"Toilet Paper, paper towels, etc\" \"Toilet Paper, paper towels, etc\" \"Lettuce\"\n",
      "\n",
      "\"2\" \"Tonks\" \"April 15, 2004\" \"Hamster (Syrian)\" \"Golden\" \"Female\" \"June 20, 2003\" \"Gone to Hamster Heaven\" \"Windsor Mill, MD&nbsp; United States\" \"wooden hamster bunker\" \"wooden hamster bunker\" \"just about anything\"\n",
      "\n",
      "\"3\" \"Bunny-Rabbit\" \"October 27, 2004\" \"Hamster (Syrian)\" \"Black\" \"Female\" \"August 1, 2002\" \"Gone to Hamster Heaven\" \"Chatsworth, GA&nbsp; United States\" \"Carpet?\" \"Carpet?\" \"Doritoes\"\n",
      "\n"
     ]
    }
   ],
   "source": [
    "#Reading and displaying initial records of ent.petster-hamster\n",
    "with open('data/ent.petster-hamster') as f:\n",
    "    i = 0\n",
    "    node_type = list()\n",
    "    for line in f:\n",
    "        print(line)\n",
    "        i = i+1    \n",
    "        #Break, after reading the initial 5 records\n",
    "        if i > 5:\n",
    "            break"
   ]
  },
  {
   "cell_type": "markdown",
   "metadata": {},
   "source": [
    "From the above display, we can infer that the initial 3 lines must be ignored, although the third line represents the field names. The fields are enclosed in double quotes and the fields are separated by a single space. So to read these records into a pandas data frame, we have to use the '\" \"' as the separator. The starting quote of field-1 and the end quote of the last field also must be dropped, before creating a pandas data frame. However we are interested only in the gender and ent fields. The ent field helps us to uniquely identify a hamster, and the gender column will contain the gender of the hamster. Hence we will not drop the quote of the last field, since we are not interested in that field anyway. "
   ]
  },
  {
   "cell_type": "code",
   "execution_count": 4,
   "metadata": {},
   "outputs": [
    {
     "name": "stdout",
     "output_type": "stream",
     "text": [
      "Displaying initial records from the node_type_df data frame\n"
     ]
    },
    {
     "data": {
      "text/html": [
       "<div>\n",
       "<style>\n",
       "    .dataframe thead tr:only-child th {\n",
       "        text-align: right;\n",
       "    }\n",
       "\n",
       "    .dataframe thead th {\n",
       "        text-align: left;\n",
       "    }\n",
       "\n",
       "    .dataframe tbody tr th {\n",
       "        vertical-align: top;\n",
       "    }\n",
       "</style>\n",
       "<table border=\"1\" class=\"dataframe\">\n",
       "  <thead>\n",
       "    <tr style=\"text-align: right;\">\n",
       "      <th></th>\n",
       "      <th>node</th>\n",
       "      <th>species</th>\n",
       "      <th>gender</th>\n",
       "    </tr>\n",
       "  </thead>\n",
       "  <tbody>\n",
       "    <tr>\n",
       "      <th>0</th>\n",
       "      <td>1</td>\n",
       "      <td>Blonde</td>\n",
       "      <td>Male</td>\n",
       "    </tr>\n",
       "    <tr>\n",
       "      <th>1</th>\n",
       "      <td>2</td>\n",
       "      <td>Golden</td>\n",
       "      <td>Female</td>\n",
       "    </tr>\n",
       "    <tr>\n",
       "      <th>2</th>\n",
       "      <td>3</td>\n",
       "      <td>Black</td>\n",
       "      <td>Female</td>\n",
       "    </tr>\n",
       "    <tr>\n",
       "      <th>3</th>\n",
       "      <td>4</td>\n",
       "      <td>Cream</td>\n",
       "      <td>Female</td>\n",
       "    </tr>\n",
       "    <tr>\n",
       "      <th>4</th>\n",
       "      <td>5</td>\n",
       "      <td>Cream</td>\n",
       "      <td>Female</td>\n",
       "    </tr>\n",
       "  </tbody>\n",
       "</table>\n",
       "</div>"
      ],
      "text/plain": [
       "   node species  gender\n",
       "0     1  Blonde    Male\n",
       "1     2  Golden  Female\n",
       "2     3   Black  Female\n",
       "3     4   Cream  Female\n",
       "4     5   Cream  Female"
      ]
     },
     "metadata": {},
     "output_type": "display_data"
    },
    {
     "name": "stdout",
     "output_type": "stream",
     "text": [
      "Does the data frame has any NA values?\n"
     ]
    },
    {
     "data": {
      "text/plain": [
       "False"
      ]
     },
     "execution_count": 4,
     "metadata": {},
     "output_type": "execute_result"
    }
   ],
   "source": [
    "##Open the file\n",
    "with open('data/ent.petster-hamster') as f:\n",
    "    i = 0\n",
    "    #Create a list object to collect the data\n",
    "    node_type = list()\n",
    "    #Iteratively read the lines in the file\n",
    "    for line in f:\n",
    "        if line.startswith(\"%\"):\n",
    "            continue\n",
    "        data = line.strip().split('\" \"')\n",
    "        \n",
    "        #Extracting only the ent field and gender field's data\n",
    "        #Also dropping the initial quote from the ent field.\n",
    "        node_type.append([int(data[0][1:]),data[4].strip(),data[5].strip()])\n",
    "        \n",
    "        \n",
    "node_type_df = pd.DataFrame(node_type,columns=[\"node\",\"species\",\"gender\"])\n",
    "print(\"Displaying initial records from the node_type_df data frame\")\n",
    "display(node_type_df.head())\n",
    "\n",
    "print(\"Does the data frame has any NA values?\")\n",
    "node_type_df.isnull().values.any()\n"
   ]
  },
  {
   "cell_type": "markdown",
   "metadata": {},
   "source": [
    "The above display confirms that the records were read correctly, and there are no NA values in the data.\n",
    "\n",
    "The following code block will display the initial records of the file: **out.petster-hamster**"
   ]
  },
  {
   "cell_type": "code",
   "execution_count": 5,
   "metadata": {},
   "outputs": [
    {
     "name": "stdout",
     "output_type": "stream",
     "text": [
      "% sym unweighted\n",
      "\n",
      "99 98\n",
      "\n",
      "999 550\n",
      "\n",
      "999 549\n",
      "\n",
      "999 42\n",
      "\n",
      "999 25\n",
      "\n"
     ]
    }
   ],
   "source": [
    "#Reading and displaying initial records of ent.petster-hamster\n",
    "with open('data/out.petster-hamster') as f:\n",
    "    i = 0\n",
    "    node_type = list()\n",
    "    for line in f:\n",
    "        print(line)\n",
    "        i = i+1    \n",
    "        #Break, after reading the initial 5 records\n",
    "        if i > 5:\n",
    "            break"
   ]
  },
  {
   "cell_type": "markdown",
   "metadata": {},
   "source": [
    "The above display shows that there are 2 fields representing the edge between two nodes. We will skip the initial line and read the data into a pandas data frame named: *edges_df*"
   ]
  },
  {
   "cell_type": "code",
   "execution_count": 6,
   "metadata": {},
   "outputs": [
    {
     "name": "stdout",
     "output_type": "stream",
     "text": [
      "Displaying the inital records of the edges_df\n"
     ]
    },
    {
     "data": {
      "text/html": [
       "<div>\n",
       "<style>\n",
       "    .dataframe thead tr:only-child th {\n",
       "        text-align: right;\n",
       "    }\n",
       "\n",
       "    .dataframe thead th {\n",
       "        text-align: left;\n",
       "    }\n",
       "\n",
       "    .dataframe tbody tr th {\n",
       "        vertical-align: top;\n",
       "    }\n",
       "</style>\n",
       "<table border=\"1\" class=\"dataframe\">\n",
       "  <thead>\n",
       "    <tr style=\"text-align: right;\">\n",
       "      <th></th>\n",
       "      <th>node1</th>\n",
       "      <th>node2</th>\n",
       "    </tr>\n",
       "  </thead>\n",
       "  <tbody>\n",
       "    <tr>\n",
       "      <th>0</th>\n",
       "      <td>99</td>\n",
       "      <td>98</td>\n",
       "    </tr>\n",
       "    <tr>\n",
       "      <th>1</th>\n",
       "      <td>999</td>\n",
       "      <td>550</td>\n",
       "    </tr>\n",
       "    <tr>\n",
       "      <th>2</th>\n",
       "      <td>999</td>\n",
       "      <td>549</td>\n",
       "    </tr>\n",
       "    <tr>\n",
       "      <th>3</th>\n",
       "      <td>999</td>\n",
       "      <td>42</td>\n",
       "    </tr>\n",
       "    <tr>\n",
       "      <th>4</th>\n",
       "      <td>999</td>\n",
       "      <td>25</td>\n",
       "    </tr>\n",
       "  </tbody>\n",
       "</table>\n",
       "</div>"
      ],
      "text/plain": [
       "   node1  node2\n",
       "0     99     98\n",
       "1    999    550\n",
       "2    999    549\n",
       "3    999     42\n",
       "4    999     25"
      ]
     },
     "metadata": {},
     "output_type": "display_data"
    },
    {
     "name": "stdout",
     "output_type": "stream",
     "text": [
      "Did edges_df have any NA values?\n"
     ]
    },
    {
     "data": {
      "text/plain": [
       "False"
      ]
     },
     "execution_count": 6,
     "metadata": {},
     "output_type": "execute_result"
    }
   ],
   "source": [
    "#Skip the first row and read the rest of the data into a data frame\n",
    "edges_df = pd.read_csv('data\\out.petster-hamster', skiprows=1,header=None, sep=' ')\n",
    "\n",
    "#Name the columns as node1 and node2\n",
    "edges_df.columns = [\"node1\",\"node2\"]\n",
    "\n",
    "#Displaying initial records of the edges_df data frame\n",
    "print(\"Displaying the inital records of the edges_df\")\n",
    "display(edges_df.head())\n",
    "\n",
    "#Check if the data frame has any NA values\n",
    "print(\"Did edges_df have any NA values?\")\n",
    "edges_df.isnull().values.any()\n"
   ]
  },
  {
   "cell_type": "markdown",
   "metadata": {},
   "source": [
    "## IV. Building a graph\n",
    "\n",
    "The following code block will create a graph using Networkx package. It will also add gender variable and species variable to each node. If any node does not have the gender or species details, then we will remove such nodes from the graph. Although we are adding species details, we will not use this attribute in this project, but we will use this later as a part of future work."
   ]
  },
  {
   "cell_type": "code",
   "execution_count": 9,
   "metadata": {},
   "outputs": [
    {
     "name": "stdout",
     "output_type": "stream",
     "text": [
      "Removed node 1805, as the attributes are not available\n",
      "Removed node 1846, as the attributes are not available\n",
      "Removed node 2088, as the attributes are not available\n",
      "Removed node 2089, as the attributes are not available\n",
      "Removed node 2351, as the attributes are not available\n",
      "\n",
      "Graph built successfully. The graph summary is displayed below:\n",
      "Name: \n",
      "Type: Graph\n",
      "Number of nodes: 2421\n",
      "Number of edges: 16621\n",
      "Average degree:  13.7307\n"
     ]
    }
   ],
   "source": [
    "\n",
    "#Create a graph\n",
    "GA = net.from_pandas_dataframe(edges_df,source=\"node1\",target=\"node2\")\n",
    "\n",
    "#Add the gender attribute to each node\n",
    "gender_type = dict(zip(list(node_type_df[\"node\"]),list(node_type_df[\"gender\"])))\n",
    "species_type = dict(zip(list(node_type_df[\"node\"]),list(node_type_df[\"species\"])))\n",
    "net.set_node_attributes(GA,'gender',gender_type)\n",
    "net.set_node_attributes(GA,'species',species_type)\n",
    "\n",
    "#Remove the nodes, which do not have the \"gender\" and \"species\" details\n",
    "for i in GA.nodes():\n",
    "    if (len(GA.node[i].keys())) == 0:\n",
    "        GA.remove_node(i)\n",
    "        print(\"Removed node {0}, as the attributes are not available\".format(i))        \n",
    "    \n",
    "\n",
    "#Print graph summary:\n",
    "print(\"\\nGraph built successfully. The graph summary is displayed below:\")\n",
    "print(net.info(GA))"
   ]
  },
  {
   "cell_type": "markdown",
   "metadata": {},
   "source": [
    "The summary shows that on an average each node (or each hamster's owner) is connected with 14 other owners. There are 2421 number of owners and 16621 number of edges or connections between them. Let us now check if there are any disconnected components or sub-graphs in the graph."
   ]
  },
  {
   "cell_type": "code",
   "execution_count": 10,
   "metadata": {},
   "outputs": [
    {
     "name": "stdout",
     "output_type": "stream",
     "text": [
      "There are 148 component subgraphs\n",
      "Display summary of component sub-graphs, if and only if the number of nodes > 20\n",
      "----------------------------------\n",
      "Summary details of component sub-graph: 1 \n",
      "----------------------------------\n",
      "Name: \n",
      "Type: Graph\n",
      "Number of nodes: 1996\n",
      "Number of edges: 16091\n",
      "Average degree:  16.1232\n",
      "Diameter:10\n",
      "Radius:6\n"
     ]
    }
   ],
   "source": [
    "if ~net.is_connected(GA):\n",
    "    GA_list = list(net.connected_component_subgraphs(GA))\n",
    "\n",
    "    print(\"There are {0} component subgraphs\".format(len(GA_list)))\n",
    "\n",
    "    x = 1\n",
    "    for i in GA_list:\n",
    "        if(len(i.nodes()) > 20):\n",
    "            print(\"Display summary of component sub-graphs, if and only if the number of nodes > 20\")\n",
    "            print(\"----------------------------------\")\n",
    "            print(\"Summary details of component sub-graph: {0} \".format(x))\n",
    "            print(\"----------------------------------\")\n",
    "            x += 1\n",
    "            print(net.info(i))\n",
    "            print(\"Diameter:{0}\".format(net.diameter(i)))\n",
    "            print(\"Radius:{0}\".format(net.radius(i)))\n",
    "        else:\n",
    "            x += 1\n",
    "            \n",
    "else:\n",
    "    print(\"The graph does not have any disconnected components\")"
   ]
  },
  {
   "cell_type": "markdown",
   "metadata": {},
   "source": [
    "The above display shows that there are 148 component sub-graphs, and only one component sub-graph has more than 20 nodes. So for the rest of the discussion/analysis, we will consider the component sub-graph with highest number of nodes (2000) as the main graph and discard the remaining component sub-graphs (given their sizes are not big). "
   ]
  },
  {
   "cell_type": "markdown",
   "metadata": {},
   "source": [
    "Let us check if there are any self referential nodes and remove them in the graph. NOTE that we will confine our analysis to the biggest component sub-graph with 1996 nodes."
   ]
  },
  {
   "cell_type": "code",
   "execution_count": 12,
   "metadata": {},
   "outputs": [
    {
     "name": "stdout",
     "output_type": "stream",
     "text": [
      "Checking if there are any self-referential nodes...\n",
      "There are 0 self referential nodes.:\n"
     ]
    }
   ],
   "source": [
    "print(\"Checking if there are any self-referential nodes...\")\n",
    "\n",
    "print(\"There are {0} self referential nodes.:\".\n",
    "      format(sum(edges_df[\"node1\"] == edges_df[\"node2\"])))"
   ]
  },
  {
   "cell_type": "markdown",
   "metadata": {},
   "source": [
    "Hence there are no self referential nodes."
   ]
  },
  {
   "cell_type": "markdown",
   "metadata": {},
   "source": [
    "## V. Centralities\n",
    "The following code block will obtain the degree and eigen vector centralities of the graph."
   ]
  },
  {
   "cell_type": "code",
   "execution_count": 13,
   "metadata": {
    "collapsed": true
   },
   "outputs": [],
   "source": [
    "GA = GA_list[0]\n",
    "#Get eigen vector centralities\n",
    "eigen_centrality=net.eigenvector_centrality(GA)\n",
    "\n",
    "#Get degree centralities\n",
    "degree_centrality=net.degree_centrality(GA)\n",
    "\n",
    "#Get betweenness centralities\n",
    "betweenness_centrality=net.betweenness_centrality(GA)\n"
   ]
  },
  {
   "cell_type": "markdown",
   "metadata": {},
   "source": [
    "The top 5 nodes with highest centrality measures are displayed below:"
   ]
  },
  {
   "cell_type": "code",
   "execution_count": 14,
   "metadata": {},
   "outputs": [
    {
     "name": "stdout",
     "output_type": "stream",
     "text": [
      "Top 5 nodes based on the eigen vector centrality measure:\n"
     ]
    },
    {
     "data": {
      "text/html": [
       "<div>\n",
       "<style>\n",
       "    .dataframe thead tr:only-child th {\n",
       "        text-align: right;\n",
       "    }\n",
       "\n",
       "    .dataframe thead th {\n",
       "        text-align: left;\n",
       "    }\n",
       "\n",
       "    .dataframe tbody tr th {\n",
       "        vertical-align: top;\n",
       "    }\n",
       "</style>\n",
       "<table border=\"1\" class=\"dataframe\">\n",
       "  <thead>\n",
       "    <tr style=\"text-align: right;\">\n",
       "      <th></th>\n",
       "      <th>node</th>\n",
       "      <th>eigen_centrality_score</th>\n",
       "      <th>species</th>\n",
       "      <th>gender</th>\n",
       "    </tr>\n",
       "  </thead>\n",
       "  <tbody>\n",
       "    <tr>\n",
       "      <th>0</th>\n",
       "      <td>237</td>\n",
       "      <td>0.211372</td>\n",
       "      <td>Golden Banded</td>\n",
       "      <td>Female</td>\n",
       "    </tr>\n",
       "    <tr>\n",
       "      <th>1</th>\n",
       "      <td>238</td>\n",
       "      <td>0.185889</td>\n",
       "      <td>Cream</td>\n",
       "      <td>Female</td>\n",
       "    </tr>\n",
       "    <tr>\n",
       "      <th>2</th>\n",
       "      <td>168</td>\n",
       "      <td>0.143657</td>\n",
       "      <td>Orange</td>\n",
       "      <td>Female</td>\n",
       "    </tr>\n",
       "    <tr>\n",
       "      <th>3</th>\n",
       "      <td>177</td>\n",
       "      <td>0.123665</td>\n",
       "      <td>Golden</td>\n",
       "      <td>Female</td>\n",
       "    </tr>\n",
       "    <tr>\n",
       "      <th>4</th>\n",
       "      <td>356</td>\n",
       "      <td>0.120469</td>\n",
       "      <td>Cream</td>\n",
       "      <td>Male</td>\n",
       "    </tr>\n",
       "  </tbody>\n",
       "</table>\n",
       "</div>"
      ],
      "text/plain": [
       "   node  eigen_centrality_score        species  gender\n",
       "0   237                0.211372  Golden Banded  Female\n",
       "1   238                0.185889          Cream  Female\n",
       "2   168                0.143657         Orange  Female\n",
       "3   177                0.123665         Golden  Female\n",
       "4   356                0.120469          Cream    Male"
      ]
     },
     "metadata": {},
     "output_type": "display_data"
    },
    {
     "name": "stdout",
     "output_type": "stream",
     "text": [
      "Top 5 nodes based on the degree centrality measure:\n"
     ]
    },
    {
     "data": {
      "text/html": [
       "<div>\n",
       "<style>\n",
       "    .dataframe thead tr:only-child th {\n",
       "        text-align: right;\n",
       "    }\n",
       "\n",
       "    .dataframe thead th {\n",
       "        text-align: left;\n",
       "    }\n",
       "\n",
       "    .dataframe tbody tr th {\n",
       "        vertical-align: top;\n",
       "    }\n",
       "</style>\n",
       "<table border=\"1\" class=\"dataframe\">\n",
       "  <thead>\n",
       "    <tr style=\"text-align: right;\">\n",
       "      <th></th>\n",
       "      <th>node</th>\n",
       "      <th>degree_centrality_score</th>\n",
       "      <th>species</th>\n",
       "      <th>gender</th>\n",
       "    </tr>\n",
       "  </thead>\n",
       "  <tbody>\n",
       "    <tr>\n",
       "      <th>0</th>\n",
       "      <td>237</td>\n",
       "      <td>0.136341</td>\n",
       "      <td>Golden Banded</td>\n",
       "      <td>Female</td>\n",
       "    </tr>\n",
       "    <tr>\n",
       "      <th>1</th>\n",
       "      <td>238</td>\n",
       "      <td>0.111779</td>\n",
       "      <td>Cream</td>\n",
       "      <td>Female</td>\n",
       "    </tr>\n",
       "    <tr>\n",
       "      <th>2</th>\n",
       "      <td>44</td>\n",
       "      <td>0.086717</td>\n",
       "      <td>Golden Banded</td>\n",
       "      <td>Female</td>\n",
       "    </tr>\n",
       "    <tr>\n",
       "      <th>3</th>\n",
       "      <td>168</td>\n",
       "      <td>0.077193</td>\n",
       "      <td>Orange</td>\n",
       "      <td>Female</td>\n",
       "    </tr>\n",
       "    <tr>\n",
       "      <th>4</th>\n",
       "      <td>169</td>\n",
       "      <td>0.075689</td>\n",
       "      <td>Beige</td>\n",
       "      <td>Male</td>\n",
       "    </tr>\n",
       "  </tbody>\n",
       "</table>\n",
       "</div>"
      ],
      "text/plain": [
       "   node  degree_centrality_score        species  gender\n",
       "0   237                 0.136341  Golden Banded  Female\n",
       "1   238                 0.111779          Cream  Female\n",
       "2    44                 0.086717  Golden Banded  Female\n",
       "3   168                 0.077193         Orange  Female\n",
       "4   169                 0.075689          Beige    Male"
      ]
     },
     "metadata": {},
     "output_type": "display_data"
    },
    {
     "name": "stdout",
     "output_type": "stream",
     "text": [
      "Top 5 nodes based on the betweenness centrality measure:\n"
     ]
    },
    {
     "data": {
      "text/html": [
       "<div>\n",
       "<style>\n",
       "    .dataframe thead tr:only-child th {\n",
       "        text-align: right;\n",
       "    }\n",
       "\n",
       "    .dataframe thead th {\n",
       "        text-align: left;\n",
       "    }\n",
       "\n",
       "    .dataframe tbody tr th {\n",
       "        vertical-align: top;\n",
       "    }\n",
       "</style>\n",
       "<table border=\"1\" class=\"dataframe\">\n",
       "  <thead>\n",
       "    <tr style=\"text-align: right;\">\n",
       "      <th></th>\n",
       "      <th>node</th>\n",
       "      <th>betweenness_centrality_score</th>\n",
       "      <th>species</th>\n",
       "      <th>gender</th>\n",
       "    </tr>\n",
       "  </thead>\n",
       "  <tbody>\n",
       "    <tr>\n",
       "      <th>0</th>\n",
       "      <td>237</td>\n",
       "      <td>0.080376</td>\n",
       "      <td>Golden Banded</td>\n",
       "      <td>Female</td>\n",
       "    </tr>\n",
       "    <tr>\n",
       "      <th>1</th>\n",
       "      <td>169</td>\n",
       "      <td>0.060505</td>\n",
       "      <td>Beige</td>\n",
       "      <td>Male</td>\n",
       "    </tr>\n",
       "    <tr>\n",
       "      <th>2</th>\n",
       "      <td>137</td>\n",
       "      <td>0.059365</td>\n",
       "      <td>Golden Banded</td>\n",
       "      <td>Male</td>\n",
       "    </tr>\n",
       "    <tr>\n",
       "      <th>3</th>\n",
       "      <td>238</td>\n",
       "      <td>0.041005</td>\n",
       "      <td>Cream</td>\n",
       "      <td>Female</td>\n",
       "    </tr>\n",
       "    <tr>\n",
       "      <th>4</th>\n",
       "      <td>251</td>\n",
       "      <td>0.039208</td>\n",
       "      <td>Albino</td>\n",
       "      <td>Female</td>\n",
       "    </tr>\n",
       "  </tbody>\n",
       "</table>\n",
       "</div>"
      ],
      "text/plain": [
       "   node  betweenness_centrality_score        species  gender\n",
       "0   237                      0.080376  Golden Banded  Female\n",
       "1   169                      0.060505          Beige    Male\n",
       "2   137                      0.059365  Golden Banded    Male\n",
       "3   238                      0.041005          Cream  Female\n",
       "4   251                      0.039208         Albino  Female"
      ]
     },
     "metadata": {},
     "output_type": "display_data"
    }
   ],
   "source": [
    "#print(eigen_centrality)\n",
    "temp_df1=pd.DataFrame(sorted(eigen_centrality.items(),key=lambda x:x[1],reverse=True),\\\n",
    "                    columns = [\"node\",\"eigen_centrality_score\"])\n",
    "\n",
    "print(\"Top 5 nodes based on the eigen vector centrality measure:\")\n",
    "display(pd.merge(temp_df1[:5],node_type_df, on=\"node\"))\n",
    "\n",
    "\n",
    "#print(degree_centrality)\n",
    "temp_df2=pd.DataFrame(sorted(degree_centrality.items(),key=lambda x:x[1],reverse=True),\\\n",
    "                    columns = [\"node\",\"degree_centrality_score\"])\n",
    "\n",
    "print(\"Top 5 nodes based on the degree centrality measure:\")\n",
    "display(pd.merge(temp_df2[:5],node_type_df, on=\"node\"))\n",
    "\n",
    "\n",
    "#print(betweenness_centrality)\n",
    "temp_df3=pd.DataFrame(sorted(betweenness_centrality.items(),key=lambda x:x[1],reverse=True),\\\n",
    "                    columns = [\"node\",\"betweenness_centrality_score\"])\n",
    "\n",
    "print(\"Top 5 nodes based on the betweenness centrality measure:\")\n",
    "display(pd.merge(temp_df3[:5],node_type_df, on=\"node\"))\n",
    "\n",
    "##Capture every ecntrality into a common data frame, and also gender:\n",
    "combined_df = pd.merge(pd.merge(pd.merge(temp_df1,temp_df2, on=\"node\"),\\\n",
    "                  temp_df3,on=\"node\"),node_type_df,on=\"node\")"
   ]
  },
  {
   "cell_type": "markdown",
   "metadata": {},
   "source": [
    "The node 237 is present as the top node for the three centrality measures. Node 238 also present in the top 5 in three centrality measures, although the rank is not the same in each centrality measure."
   ]
  },
  {
   "cell_type": "markdown",
   "metadata": {},
   "source": [
    "## VI. Hypothesis testing\n",
    "\n",
    "In this section we will perform the hypothesis testing of the three centrality measures, to determine if there is any relationship between the gender of the hamster and its centrality measure. Unless otherwise specified, we will use 95% confidence level to conduct our hypothesis testing:\n",
    "\n",
    "### VI.I. Effect of gender on the Degree centrality\n",
    "To perform hypothesis testing of degree centrality, we will get the average centrality of males ($dc_{\\mu_m}$) and average degree centrality of females ($dc_{\\mu_f}$), and perform the following testing:\n",
    "\n",
    "$$H_0: dc_{\\mu_m} = dc_{\\mu_f}$$\n",
    "$$H_1: dc_{\\mu_m} \\ne dc_{\\mu_f}$$\n",
    "\n",
    "Or the above hypothesis can be re-written as:\n",
    "\n",
    "$$H_0: dc_{\\mu_m} - dc_{\\mu_f} = 0$$\n",
    "$$H_1: dc_{\\mu_m} - dc_{\\mu_f} \\ne 0$$\n",
    "\n",
    "The following code block will obtain the p-value based on the t-test score"
   ]
  },
  {
   "cell_type": "code",
   "execution_count": 41,
   "metadata": {},
   "outputs": [
    {
     "data": {
      "text/plain": [
       "Ttest_indResult(statistic=-1.6222276727712177, pvalue=0.10491269437447383)"
      ]
     },
     "execution_count": 41,
     "metadata": {},
     "output_type": "execute_result"
    }
   ],
   "source": [
    "male_dc = list(combined_df[(combined_df[\"gender\"]==\"Male\")][\"degree_centrality_score\"])\n",
    "female_dc = list(combined_df[(combined_df[\"gender\"]==\"Female\")][\"degree_centrality_score\"])\n",
    "stats.ttest_ind(male_dc, female_dc)"
   ]
  },
  {
   "cell_type": "markdown",
   "metadata": {},
   "source": [
    "We obtained a p-value of 10.3%, which is more than the significance level of 5% (since the confidence level is 95%, significance level will be 5%). Since the p-value is greater than significance level, we will not reject the null hypothesis, and this confirms that there is no difference of degree centrality metric for the two genders of hamsters."
   ]
  },
  {
   "cell_type": "markdown",
   "metadata": {},
   "source": [
    "### VI.II. Effect of gender on the Eigen vector centrality\n",
    "\n",
    "We will perform the following hypothesis testing to determine the effect of gender on the Eigen vector centrality score.\n",
    "\n",
    "$$H_0: ec_{\\mu_m} = ec_{\\mu_f}$$\n",
    "$$H_1: ec_{\\mu_m} \\ne ec_{\\mu_f}$$\n",
    "\n",
    "Or the above hypothesis can be re-written as:\n",
    "\n",
    "$$H_0: ec_{\\mu_m} - ec_{\\mu_f} = 0$$\n",
    "$$H_1: ec_{\\mu_m} - ec_{\\mu_f} \\ne 0$$\n",
    "\n",
    "where $ec_{\\mu_m}$ is the average eigen vector centrality of male hamsters and $ec_{\\mu_f}$ is the average eigen vector centrality of female hamsters.\n",
    "\n",
    "The following code block will obtain the p-value based on the t-test score\n"
   ]
  },
  {
   "cell_type": "code",
   "execution_count": 42,
   "metadata": {},
   "outputs": [
    {
     "data": {
      "text/plain": [
       "Ttest_indResult(statistic=-2.0711042406114308, pvalue=0.038477426128694502)"
      ]
     },
     "execution_count": 42,
     "metadata": {},
     "output_type": "execute_result"
    }
   ],
   "source": [
    "male_dc = list(combined_df[(combined_df[\"gender\"]==\"Male\")][\"eigen_centrality_score\"])\n",
    "female_dc = list(combined_df[(combined_df[\"gender\"]==\"Female\")][\"eigen_centrality_score\"])\n",
    "stats.ttest_ind(male_dc, female_dc)"
   ]
  },
  {
   "cell_type": "markdown",
   "metadata": {},
   "source": [
    "Since the p-value is 3.8%, which is less than the 5% significance level, we can conclude that there is a relationship between the gender and the eigen vector centrality."
   ]
  },
  {
   "cell_type": "markdown",
   "metadata": {},
   "source": [
    "### VI.III. Effect of gender on the betweenness centrality\n",
    "\n",
    "We will perform the following hypothesis testing to determine the effect of gender on the betweenness centrality score.\n",
    "\n",
    "$$H_0: bc_{\\mu_m} = bc_{\\mu_f}$$\n",
    "$$H_1: bc_{\\mu_m} \\ne bc_{\\mu_f}$$\n",
    "\n",
    "Or the above hypothesis can be re-written as:\n",
    "\n",
    "$$H_0: bc_{\\mu_m} - bc_{\\mu_f} = 0$$\n",
    "$$H_1: bc_{\\mu_m} - bc_{\\mu_f} \\ne 0$$\n",
    "\n",
    "where $bc_{\\mu_m}$ is the average betweenness centrality of male hamsters and $bc_{\\mu_f}$ is the average betweenness centrality of female hamsters.\n",
    "\n",
    "The following code block will obtain the p-value based on the t-test score\n"
   ]
  },
  {
   "cell_type": "code",
   "execution_count": 43,
   "metadata": {},
   "outputs": [
    {
     "data": {
      "text/plain": [
       "Ttest_indResult(statistic=-0.89368748960863142, pvalue=0.37159696907840756)"
      ]
     },
     "execution_count": 43,
     "metadata": {},
     "output_type": "execute_result"
    }
   ],
   "source": [
    "male_dc = list(combined_df[(combined_df[\"gender\"]==\"Male\")][\"betweenness_centrality_score\"])\n",
    "female_dc = list(combined_df[(combined_df[\"gender\"]==\"Female\")][\"betweenness_centrality_score\"])\n",
    "stats.ttest_ind(male_dc, female_dc)"
   ]
  },
  {
   "cell_type": "markdown",
   "metadata": {},
   "source": [
    "The p-value of 37% shows that the difference between the average betweenness values of males and female hamsters was just a pure random phenemon, and there is no relationship between the gender and the betweenness centrality scores. Hence we are unable to reject the null hypothesis (based on the 5% significance level)"
   ]
  },
  {
   "cell_type": "markdown",
   "metadata": {},
   "source": [
    "### VI.IV. What can we conclude based on the above hypothesis testing?\n",
    "\n",
    "We can conclude the following, based on the p-values obtained for the three hypothesis testing:\n",
    "\n",
    "* The gender attribute has NO relationship with the average degree centrality scores. That is the degree centrality score does not change based on the gender of the hamster. _So the number of connections for a node is not dependent on the gender attribute_.\n",
    "\n",
    "* The gender attribute has some relationship with the average eigen vector centrality. That is the eigen vector centrality score does change based on the gender of the hamster. _So the importance of a node is dependent on the gender attribute. The eigen centrality measure will identify the hidden nodes, which might not have a higher degree, but the nodes are significant, since they are attached to the nodes of higher degree centralities. In other words, nodes with significant eigen scores will be very important in the network. This importance does have some relationship to the gender attribute of the node in our graph network_.\n",
    "\n",
    "* The gender attribute has NO relationship with the average betweenness centrality scores. That is the betweenness centrality score does not change based on the gender of the hamster. _So a node with higher betweenness score can belong to a male or female hamster_.\n",
    "\n",
    "\n"
   ]
  },
  {
   "cell_type": "markdown",
   "metadata": {},
   "source": [
    "## VII. Visualizations\n",
    "\n",
    "We determined that the eigen centrality changes based on the gender, using hypothesis testing. But to confirm which gender has more eigen centrality values, we will do the following:\n",
    "\n",
    "* Using island isolation method, choose a number of nodes with higher eigen values.\n",
    "* Plot visualizations using Gephi to determine, which gender has the higher eigen centrality values.\n",
    "\n",
    "We will add eigen centrality values as an attribute to each node:"
   ]
  },
  {
   "cell_type": "code",
   "execution_count": 44,
   "metadata": {
    "collapsed": true
   },
   "outputs": [],
   "source": [
    "net.set_node_attributes(GA,'eigen_centrality',eigen_centrality)"
   ]
  },
  {
   "cell_type": "markdown",
   "metadata": {},
   "source": [
    "The following code block will create 2 functions that will implement the island method to isolate the graph into sub graphs by eliminating nodes with a eigen centrality values below a threshold."
   ]
  },
  {
   "cell_type": "code",
   "execution_count": 94,
   "metadata": {
    "collapsed": true
   },
   "outputs": [],
   "source": [
    "#Function to trim the nodes\n",
    "def trim_nodes(g, attribute,threshold=0.01):\n",
    "    #Copy the graph, so that we do not modify the actual graph with all nodes and edges\n",
    "    g2 = g.copy()\n",
    "    \n",
    "    #Removed nodes, if the eigen centrality score is below a threshold\n",
    "    for i in g2.nodes():\n",
    "        if g2.node[i][attribute] < threshold:\n",
    "            g2.remove_node(i)\n",
    "    #Return the graph        \n",
    "    return g2\n",
    "\n",
    "#Function to implement the island algorithm\n",
    "def island_method(g,attribute, iterations=5):\n",
    "    scores = [g.node[i][attribute] for i in g.nodes()]\n",
    "    #print(scores)\n",
    "    mn=(min(scores))\n",
    "    mx=(max(scores))\n",
    "    #compute the size of the step, so we get a reasonable step in iterations\n",
    "    step=((mx-mn)/iterations)\n",
    "    return [[threshold, trim_nodes(g, attribute,threshold)] for threshold in np.arange(mn,mx,step)]\n",
    "\n"
   ]
  },
  {
   "cell_type": "markdown",
   "metadata": {},
   "source": [
    "The below code will implement the island method on the complete graph."
   ]
  },
  {
   "cell_type": "code",
   "execution_count": 100,
   "metadata": {},
   "outputs": [
    {
     "name": "stdout",
     "output_type": "stream",
     "text": [
      "\n",
      "There is/are 1 component subgraph(s) when a threshold of 4.226980639763146e-09 was used\n",
      "\n",
      "Subgraph-1 summary\n",
      "--------------------\n",
      "Name: \n",
      "Type: Graph\n",
      "Number of nodes: 1996\n",
      "Number of edges: 16091\n",
      "Average degree:  16.1232\n",
      "\n",
      "There is/are 1 component subgraph(s) when a threshold of 0.04227448237305262 was used\n",
      "\n",
      "Subgraph-2 summary\n",
      "--------------------\n",
      "Name: \n",
      "Type: Graph\n",
      "Number of nodes: 123\n",
      "Number of edges: 2090\n",
      "Average degree:  33.9837\n",
      "\n",
      "There is/are 1 component subgraph(s) when a threshold of 0.0845489605191246 was used\n",
      "\n",
      "Subgraph-3 summary\n",
      "--------------------\n",
      "Name: \n",
      "Type: Graph\n",
      "Number of nodes: 42\n",
      "Number of edges: 525\n",
      "Average degree:  25.0000\n",
      "\n",
      "There is/are 1 component subgraph(s) when a threshold of 0.12682343866519655 was used\n",
      "\n",
      "Subgraph-4 summary\n",
      "--------------------\n",
      "Name: \n",
      "Type: Graph\n",
      "Number of nodes: 3\n",
      "Number of edges: 2\n",
      "Average degree:   1.3333\n",
      "\n",
      "There is/are 1 component subgraph(s) when a threshold of 0.16909791681126854 was used\n",
      "\n",
      "Subgraph-5 summary\n",
      "--------------------\n",
      "Name: \n",
      "Type: Graph\n",
      "Number of nodes: 2\n",
      "Number of edges: 1\n",
      "Average degree:   1.0000\n"
     ]
    }
   ],
   "source": [
    "islands = island_method(GA,\"eigen_centrality\")\n",
    "x = 1\n",
    "for i in islands:\n",
    "    # print the threshold level, size of the graph, and number of connected components\n",
    "    #print(i[0], net.info(i[1]))\n",
    "    i_list = list(net.connected_component_subgraphs(i[1]))\n",
    "    print(\"\\nThere is/are {0} component subgraph(s) when a threshold of {1} was used\\n\".\\\n",
    "          format(len(i_list),i[0]))\n",
    "    print(\"Subgraph-{0} summary\".format(x))\n",
    "    print(\"--------------------\")\n",
    "    x = x+1\n",
    "    print(net.info(i[1]))"
   ]
  },
  {
   "cell_type": "markdown",
   "metadata": {},
   "source": [
    "In subgraphs-2 and 3, we are able to eliminate most of the nodes. However, we did not find more than one islands for any threshold of eigen centrality score. The below figures show how these nodes (of subgraph-2 and 3) are distributed between the two genders."
   ]
  },
  {
   "cell_type": "markdown",
   "metadata": {},
   "source": [
    "### Subgraph-2 \n",
    "The subgraph-2, with 123 nodes and 2090 edges is displayed below. The pink nodes represent females and the green nodes represent males. We can infer that females dominate the graph, bsed on their number and also the eigen values. The size of the node determines the eigen value of the node.\n",
    "<img src=\"images/island1.png\" style=\"max-width:100%; width: 50%\"/>\n",
    "<img src=\"images/island_2_legend.png\" style=\"max-width:100%; width: 50%\"/>\n",
    "\n",
    "### Subgraph-3\n",
    "The subgraph-3, with 42 nodes and 525 edges is displayed below. The pink nodes represent females and \n",
    "<img src=\"images/island2.png\" style=\"max-width:100%; width: 50%\"/>\n",
    "<img src=\"images/island_1_legend.png\" style=\"max-width:100%; width: 50%\"/>\n",
    "In subgraph-3 also females dominate."
   ]
  },
  {
   "cell_type": "markdown",
   "metadata": {},
   "source": [
    "## VIII. Conclusion\n",
    "\n",
    "* In this project we analyzed a network data set containing the friendships between the owners of hamsters. \n",
    "\n",
    "* We studied the effect of hamster's _gender_ on the centrality measures of the graph. We  obtained 3 centrality measures: _Degree centrality, Betweenness centrality_ and _Eigen vector centrality_ for all the nodes of a network data set. \n",
    "\n",
    "* The Eigen centrality is related to the gender of the hamster, while the other 2 centrality measures are not related to the gender. \n",
    "\n",
    "* Through visualizations we concluded that the female gender nodes have more eigen values and most of the higher eigen value nodes belong to females. \n",
    "\n",
    "* Since the eigen centrality measure determines the importance of nodes based on the centrality measures of all other nodes in the network, we can conclude that _on an average_, if the hamster is a female, then its importance is more than a male hamster. "
   ]
  },
  {
   "cell_type": "markdown",
   "metadata": {},
   "source": [
    "### IX. References\n",
    "konect:2016:petster-hamster, Hamsterster full network dataset, http://konect.uni-koblenz.de/networks/petster-hamster"
   ]
  }
 ],
 "metadata": {
  "kernelspec": {
   "display_name": "Python 3",
   "language": "python",
   "name": "python3"
  },
  "language_info": {
   "codemirror_mode": {
    "name": "ipython",
    "version": 3
   },
   "file_extension": ".py",
   "mimetype": "text/x-python",
   "name": "python",
   "nbconvert_exporter": "python",
   "pygments_lexer": "ipython3",
   "version": "3.5.3"
  }
 },
 "nbformat": 4,
 "nbformat_minor": 2
}
