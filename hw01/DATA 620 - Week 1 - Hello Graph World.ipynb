{
 "cells": [
  {
   "cell_type": "markdown",
   "metadata": {},
   "source": [
    "# DATA 620, Assignment 1: “hello, graph world”\n",
    "#### June 10, 2017\n",
    "\n",
    "### Group 1 Members:\n",
    "\n",
    "* Mauricio Alarcon\n",
    "* Sekhar Mekala\n",
    "* Aadi Kalloo\n",
    "* Srinivasa Illapani\n",
    "* Param Singh\n"
   ]
  },
  {
   "cell_type": "markdown",
   "metadata": {},
   "source": [
    "In this assignment we will be creating a basic network graph using the NetworkX pacakge for Python.\n",
    "First we will load the required pacakges."
   ]
  },
  {
   "cell_type": "code",
   "execution_count": 7,
   "metadata": {
    "collapsed": true
   },
   "outputs": [],
   "source": [
    "%matplotlib inline\n",
    "import networkx as nx\n",
    "import matplotlib.pyplot as plt"
   ]
  },
  {
   "cell_type": "markdown",
   "metadata": {},
   "source": [
    "Create an empty graph, G."
   ]
  },
  {
   "cell_type": "code",
   "execution_count": 8,
   "metadata": {
    "collapsed": true
   },
   "outputs": [],
   "source": [
    "G = nx.Graph()"
   ]
  },
  {
   "cell_type": "markdown",
   "metadata": {},
   "source": [
    "And add a node set to the graph"
   ]
  },
  {
   "cell_type": "code",
   "execution_count": 9,
   "metadata": {
    "collapsed": true
   },
   "outputs": [],
   "source": [
    "nodes = ['Andrew', 'Bill', 'Casey', 'Don', \n",
    "        'Ed', 'Francis', 'Holly', 'Ira', 'John']\n",
    "G.add_nodes_from(nodes)"
   ]
  },
  {
   "cell_type": "markdown",
   "metadata": {},
   "source": [
    "We will next add our edge set to the graph."
   ]
  },
  {
   "cell_type": "code",
   "execution_count": 10,
   "metadata": {
    "collapsed": false
   },
   "outputs": [],
   "source": [
    "edges = [('Andrew', 'Bill'),\n",
    "         ('Andrew', 'Casey'),\n",
    "         ('Andrew', 'Don'),\n",
    "         ('Andrew', 'Francis'),\n",
    "         ('Bill', 'Don'),\n",
    "         ('Bill', 'Gary'),\n",
    "         ('Bill', 'Ed'),\n",
    "         ('Casey', 'Francis'),\n",
    "         ('Casey', 'Don'),\n",
    "         ('Ed', 'Don'),\n",
    "         ('Ed', 'Gary'),\n",
    "         ('Don', 'Francis'),\n",
    "         ('Don', 'Gary'),\n",
    "         ('Francis','Gary'),\n",
    "         ('Holly', 'Francis'),\n",
    "         ('Holly', 'Gary'),\n",
    "         ('Holly', 'Ira'),\n",
    "         ('Ira','John' )\n",
    "        ]\n",
    "G.add_edges_from(edges)"
   ]
  },
  {
   "cell_type": "markdown",
   "metadata": {},
   "source": [
    "Now that we have created our graph in NetworkX lets look at the degree of each of the vertices and connect our graph G."
   ]
  },
  {
   "cell_type": "code",
   "execution_count": 11,
   "metadata": {
    "collapsed": false
   },
   "outputs": [
    {
     "data": {
      "text/plain": [
       "{'Andrew': 4,\n",
       " 'Bill': 4,\n",
       " 'Casey': 3,\n",
       " 'Don': 6,\n",
       " 'Ed': 3,\n",
       " 'Francis': 5,\n",
       " 'Gary': 5,\n",
       " 'Holly': 3,\n",
       " 'Ira': 2,\n",
       " 'John': 1}"
      ]
     },
     "execution_count": 11,
     "metadata": {},
     "output_type": "execute_result"
    }
   ],
   "source": [
    "nx.degree(G)"
   ]
  },
  {
   "cell_type": "markdown",
   "metadata": {},
   "source": [
    "Finally, lets draw the graph to confirm that we have our graph in the system."
   ]
  },
  {
   "cell_type": "code",
   "execution_count": 12,
   "metadata": {
    "collapsed": false
   },
   "outputs": [
    {
     "data": {
      "image/png": "[encoded data removed]",
      "text/plain": [
       "<matplotlib.figure.Figure at 0x4111dd8>"
      ]
     },
     "metadata": {},
     "output_type": "display_data"
    }
   ],
   "source": [
    "pos=nx.spring_layout(G)\n",
    "nx.draw(G,pos)\n",
    "labels=nx.draw_networkx_labels(G,pos)\n",
    "plt.show()\n"
   ]
  }
 ],
 "metadata": {
  "anaconda-cloud": {},
  "kernelspec": {
   "display_name": "Python 2",
   "language": "python",
   "name": "python2"
  },
  "language_info": {
   "codemirror_mode": {
    "name": "ipython",
    "version": 2
   },
   "file_extension": ".py",
   "mimetype": "text/x-python",
   "name": "python",
   "nbconvert_exporter": "python",
   "pygments_lexer": "ipython2",
   "version": "2.7.11"
  }
 },
 "nbformat": 4,
 "nbformat_minor": 0
}
