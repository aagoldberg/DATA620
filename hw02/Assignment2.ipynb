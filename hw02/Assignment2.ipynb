{
 "cells": [
  {
   "cell_type": "markdown",
   "metadata": {},
   "source": [
    "# Web Analytics - Assignment 2\n",
    "\n",
    "*June 10, 2017*\n",
    "\n",
    "## Group 1 Members:\n",
    "* Mauricio Alarcon\n",
    "* Sekhar Mekala\n",
    "* Aadi Kalloo\n",
    "* Srinivasa Illapani\n",
    "* Param Singh"
   ]
  },
  {
   "cell_type": "markdown",
   "metadata": {},
   "source": [
    "In this assignment, we will be creating a graph based on the Super Heros data set available at https://www.kaggle.com/csanhueza/the-marvel-universe-social-network. In this assignment we will be identifying the important super hero in Marvel Comics based on 2 measures of centrality. \n",
    "\n",
    "Importing all the required packages."
   ]
  },
  {
   "cell_type": "code",
   "execution_count": 1,
   "metadata": {},
   "outputs": [],
   "source": [
    "import networkx as net\n",
    "import urllib\n",
    "import matplotlib.pyplot as plt\n",
    "import pandas as pd\n",
    "import numpy as np\n",
    "#import sklearn"
   ]
  },
  {
   "cell_type": "markdown",
   "metadata": {},
   "source": [
    "## Data\n",
    "We downloaded the following 3 datasets from  https://www.kaggle.com/csanhueza/the-marvel-universe-social-network.\n",
    "\n",
    "* nodes.csv - Contains comma separated values of character and the character type. The type of the character can be either *hero* or *comic*.\n",
    "\n",
    "* edges.csv - Contains comma separated values of the hero's name, and the comic book name.\n",
    "\n",
    "* hero-network.csv - Contains comma separated values of the hero1 and hero2 who appeared together in a comic.\n",
    "\n",
    "In this assignment we will be using the file *hero-network.csv* to determine who is the important superhero, based on 2 measures of centrality."
   ]
  },
  {
   "cell_type": "markdown",
   "metadata": {},
   "source": [
    "We will build an undirected graph using the data present in *hero-network.csv* file. It has 2 columns *hero1* and *hero2*. The data in this file represents the superheros who appeared together in a comic book."
   ]
  },
  {
   "cell_type": "markdown",
   "metadata": {},
   "source": [
    "### Reading and cleansing the data\n",
    "We will read the data into a data frame and perform some sanity checks to make sure that the data is suitable for building a graph."
   ]
  },
  {
   "cell_type": "code",
   "execution_count": 7,
   "metadata": {},
   "outputs": [],
   "source": [
    "#Read the data into a pandas data frame:\n",
    "ga_edges = pd.read_csv('./data/hero-network.csv')\n",
    "\n",
    "#print(\"Sample rows...\")\n",
    "#display(ga_edges.head())\n",
    "\n",
    "#print(\"Summary information of the data is displayed below:\")\n",
    "#display(ga_edges.describe())\n",
    "\n",
    "#print(\"\\nThe above summary confirms that there are no NA values in the data set, \\\n",
    "#\\nand CAPTAIN AMERICA has co-appeared most of the times along with other comic characters.\")\n",
    "\n",
    "#print(\"\\nMaking sure that the same character is NOT listed as hero1 and hero2 for a given row:\")\n",
    "\n",
    "ga_edges.loc[(ga_edges[\"hero1\"] == ga_edges[\"hero2\"])].head()\n",
    "\n",
    "#print(\"There are some rows which have both the same hero listed as hero1 and hero2 in the same comic.\\n\\\n",
    "#There are {0} such rows. These rows might refer to the comics in which the hero might have \\\n",
    "#appeared in \\nmore than one role.\\nBut for this project we will eliminate those rows from the data set.\\\n",
    "#\".format(sum(ga_edges[\"hero1\"] == ga_edges[\"hero2\"])))\n",
    "\n",
    "ga_edges = ga_edges.loc[~(ga_edges[\"hero1\"] == ga_edges[\"hero2\"])]\n",
    "\n",
    "#print(\"\\nThe summary and sample records of the final, cleansed data set are displayed below:\")\n",
    "#display(ga_edges.describe())\n",
    "#display(ga_edges.head())\n"
   ]
  },
  {
   "cell_type": "markdown",
   "metadata": {},
   "source": [
    "### Building the graph\n",
    "Using the cleansed data, we will build a network graph of super heros."
   ]
  },
  {
   "cell_type": "code",
   "execution_count": 8,
   "metadata": {},
   "outputs": [
    {
     "name": "stdout",
     "output_type": "stream",
     "text": [
      "Name: \n",
      "Type: Graph\n",
      "Number of nodes: 6426\n",
      "Number of edges: 167207\n",
      "Average degree:  52.0408\n"
     ]
    }
   ],
   "source": [
    "GA = net.from_pandas_dataframe(ga_edges,source=\"hero1\",target=\"hero2\")\n",
    "print(net.info(GA))"
   ]
  },
  {
   "cell_type": "code",
   "execution_count": null,
   "metadata": {
    "collapsed": true
   },
   "outputs": [],
   "source": [
    "## Analysis"
   ]
  },
  {
   "cell_type": "markdown",
   "metadata": {},
   "source": [
    "We created a graph with 6426 nodes and 167207 edges. Now we will find the following metrics of this graph:\n",
    "\n",
    "**Diameter**\n",
    "The diameter of a graph is the greatest distance between any pair of vertices. It can be found by first finding the shortest path between each pair of vertices, the greatest of these paths is the diameter of the graph.\n",
    "\n",
    "**Degree Centrality**\n",
    "    The _degree_ of a node is the number of other nodes to which it is connected. NetworkX's _degree centrality_ is calculated by taking the degree of the node and dividing by $n-1$, where $n$ is the number of nodes in the graph.\n",
    "    $$C_D(u) = \\frac{deg(u)}{n-1}$$\n",
    "    \n",
    "**Closeness Centrality**\n",
    "    Closeness Centrality measures how many \"hops\" it would take to reach every other node in a network (taking the shortest path). It can be informally thought of as \"average distance\" to all other nodes. In NetworkX, it is the reciprocal of the average value, which normalizes the value in a 0 to 1 range.\n",
    "    $$C_C(u) = \\frac{n-1}{\\sum_{v=1,v\\ne u}^{n-1}d(v,u)}$$\n",
    "    \n",
    "If you take the reciprocal, then you will find the average distance to all other nodes. \n",
    "\n",
    "The colseness centrality metric of a node measures the average distance of all other nodes from that node. Lesser the value, better is the node's position to reach most of the nodes. But NetworkX will use the reciprocal of this value, so greater the value of the closeness metric (calculated using NetworkX), closer the node to all other nodes on average. "
   ]
  },
  {
   "cell_type": "code",
   "execution_count": 9,
   "metadata": {},
   "outputs": [
    {
     "data": {
      "text/plain": [
       "4"
      ]
     },
     "execution_count": 9,
     "metadata": {},
     "output_type": "execute_result"
    }
   ],
   "source": [
    "net.is_connected(GA)\n",
    "net.number_connected_components(GA)\n",
    "#only 4 components are connected"
   ]
  },
  {
   "cell_type": "code",
   "execution_count": 10,
   "metadata": {},
   "outputs": [
    {
     "data": {
      "text/plain": [
       "5"
      ]
     },
     "execution_count": 10,
     "metadata": {},
     "output_type": "execute_result"
    }
   ],
   "source": [
    "max_g = max(net.connected_component_subgraphs(GA), key=len)\n",
    "net.diameter(max_g)\n",
    "#5"
   ]
  },
  {
   "cell_type": "code",
   "execution_count": 11,
   "metadata": {},
   "outputs": [
    {
     "data": {
      "text/plain": [
       "[('CAPTAIN AMERICA', 0.2966536964980545),\n",
       " ('SPIDER-MAN/PETER PAR', 0.2703501945525292),\n",
       " ('IRON MAN/TONY STARK ', 0.23688715953307396),\n",
       " ('THING/BENJAMIN J. GR', 0.2203891050583658),\n",
       " ('MR. FANTASTIC/REED R', 0.21463035019455254)]"
      ]
     },
     "execution_count": 11,
     "metadata": {},
     "output_type": "execute_result"
    }
   ],
   "source": [
    "dc = net.degree_centrality(GA)\n",
    "sorted(dc.items(),key=lambda x:x[1],reverse=True)[:5]"
   ]
  },
  {
   "cell_type": "markdown",
   "metadata": {},
   "source": [
    "As per the *Degree Centrality*, CAPTAIN AMERICA has co-appeared with most of the other MARVEL characters, followed by SPIDER-MAN and IRON MAN.  "
   ]
  },
  {
   "cell_type": "code",
   "execution_count": null,
   "metadata": {
    "collapsed": true
   },
   "outputs": [],
   "source": [
    "cc = net.closeness_centrality(GA)"
   ]
  },
  {
   "cell_type": "code",
   "execution_count": null,
   "metadata": {
    "collapsed": true
   },
   "outputs": [],
   "source": [
    "sorted(cc.items(),key=lambda x:x[1],reverse=True)[:5]"
   ]
  },
  {
   "cell_type": "markdown",
   "metadata": {},
   "source": [
    "The closeness centrality measure also showed the same characters we obtained using Degree Centrality."
   ]
  },
  {
   "cell_type": "code",
   "execution_count": 47,
   "metadata": {},
   "outputs": [
    {
     "name": "stdout",
     "output_type": "stream",
     "text": [
      "Average distance to all other characters from CAPTAIN AMERICA is 1.7132436382099152 characters\n",
      "Average distance to all other characters from SPIDER MAN is 1.7418863922563625 characters\n",
      "Average distance to all other characters from IRON MAN is 1.7811723554566812 characters\n"
     ]
    }
   ],
   "source": [
    "print(\"Average distance to all other characters from CAPTAIN AMERICA is {0} characters\".format(1/cc['CAPTAIN AMERICA']))\n",
    "print(\"Average distance to all other characters from SPIDER MAN is {0} characters\".format(1/cc['SPIDER-MAN/PETER PAR']))\n",
    "print(\"Average distance to all other characters from IRON MAN is {0} characters\".format(1/cc['IRON MAN/TONY STARK ']))"
   ]
  },
  {
   "cell_type": "markdown",
   "metadata": {},
   "source": [
    "We can note that there is no significant average distance to all other comic characters from CAPTAIN AMERICA, SPIDER MAN and IRON MAN."
   ]
  },
  {
   "cell_type": "code",
   "execution_count": 48,
   "metadata": {},
   "outputs": [
    {
     "data": {
      "image/png": "[encoded data removed]",
      "text/plain": [
       "<matplotlib.figure.Figure at 0x1f9672260f0>"
      ]
     },
     "metadata": {},
     "output_type": "display_data"
    }
   ],
   "source": [
    "#Example code to draw graph\n",
    "g=net.Graph()\n",
    "g.add_edge('a','b')\n",
    "g.add_edge('a','c')\n",
    "#g.add_edge('b','c')\n",
    "layout = net.spring_layout(g)\n",
    "net.draw_networkx_nodes(g,layout)\n",
    "net.draw_networkx_labels(g,pos=layout)\n",
    "net.draw_networkx_edges(g,pos=layout)\n",
    "plt.axis(\"off\")\n",
    "plt.show()"
   ]
  },
  {
   "cell_type": "code",
   "execution_count": 23,
   "metadata": {},
   "outputs": [
    {
     "name": "stdout",
     "output_type": "stream",
     "text": [
      "Name: \n",
      "Type: Graph\n",
      "Number of nodes: 3\n",
      "Number of edges: 2\n",
      "Average degree:   1.3333\n"
     ]
    }
   ],
   "source": [
    "print(net.info(g))"
   ]
  },
  {
   "cell_type": "code",
   "execution_count": null,
   "metadata": {
    "collapsed": true
   },
   "outputs": [],
   "source": []
  }
 ],
 "metadata": {
  "kernelspec": {
   "display_name": "Python 2",
   "language": "python",
   "name": "python2"
  },
  "language_info": {
   "codemirror_mode": {
    "name": "ipython",
    "version": 2
   },
   "file_extension": ".py",
   "mimetype": "text/x-python",
   "name": "python",
   "nbconvert_exporter": "python",
   "pygments_lexer": "ipython2",
   "version": "2.7.13"
  }
 },
 "nbformat": 4,
 "nbformat_minor": 2
}
