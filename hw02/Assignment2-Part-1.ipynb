{
 "cells": [
  {
   "cell_type": "markdown",
   "metadata": {},
   "source": [
    "# Web Analytics - Assignment 2\n",
    "\n",
    "*June 14, 2017*\n",
    "\n",
    "## Group 1 Members:\n",
    "* Mauricio Alarcon\n",
    "* Sekhar Mekala\n",
    "* Aadi Kalloo\n",
    "* Srinivasa Illapani\n",
    "* Param Singh"
   ]
  },
  {
   "cell_type": "markdown",
   "metadata": {},
   "source": [
    "*The requirements of this assignment are given below:*\n",
    "\n",
    "Load a graph database of your choosing from a text file or other source.  If you take a large network dataset from the web (such as fromhttps://snap.stanford.edu/data/), please feel free at this point to load just a small subset of the nodes and edges.\n",
    "\n",
    "Create basic analysis on the graph, including the graph’s diameter, and at least one other metric of your choosing.  You may either code the functions by hand (to build your intuition and insight), or use functions in an existing package. \n",
    "\n",
    "Use a visualization tool of your choice (Neo4j, Gephi, etc.) to display information.\n",
    "Please record a short video (~ 5 minutes), and submit a link to the video in advance of our meet-up."
   ]
  },
  {
   "cell_type": "markdown",
   "metadata": {},
   "source": [
    "### Approach\n",
    "\n",
    "In this assignment, we will be creating a graph based on the Super Heros data set available at https://www.kaggle.com/csanhueza/the-marvel-universe-social-network. We will identify the diameter of the graph and the radius of the graph, along with the graph's center nodes. \n",
    "\n",
    "Importing all the required packages."
   ]
  },
  {
   "cell_type": "code",
   "execution_count": 2,
   "metadata": {
    "collapsed": true
   },
   "outputs": [],
   "source": [
    "import networkx as net\n",
    "import urllib\n",
    "import matplotlib.pyplot as plt\n",
    "import pandas as pd\n",
    "import numpy as np\n",
    "import sklearn"
   ]
  },
  {
   "cell_type": "markdown",
   "metadata": {},
   "source": [
    "## Data\n",
    "We downloaded the following 3 datasets from  https://www.kaggle.com/csanhueza/the-marvel-universe-social-network.\n",
    "\n",
    "* nodes.csv - Contains comma separated values of character and the character type. The type of the character can be either *hero* or *comic*.\n",
    "\n",
    "* edges.csv - Contains comma separated values of the hero's name, and the comic book name.\n",
    "\n",
    "* hero-network.csv - Contains comma separated values of the hero1 and hero2 who appeared together in a comic.\n",
    "\n",
    "In this assignment we will be using the file *hero-network.csv* to build the graph of super heroes network based on the Marvel comics."
   ]
  },
  {
   "cell_type": "markdown",
   "metadata": {},
   "source": [
    "We will build an undirected graph using the data present in *hero-network.csv* file. It has 2 columns *hero1* and *hero2*. The data in this file represents the superheroes who appeared together in a comic book."
   ]
  },
  {
   "cell_type": "markdown",
   "metadata": {},
   "source": [
    "### Reading and cleansing the data\n",
    "We will read the data into a data frame and perform some sanity checks to make sure that the data is suitable for building a graph.\n",
    "\n",
    "_Sample records of the hero-network.csv are displayed below:_"
   ]
  },
  {
   "cell_type": "code",
   "execution_count": 3,
   "metadata": {},
   "outputs": [
    {
     "data": {
      "text/html": [
       "<div>\n",
       "<style>\n",
       "    .dataframe thead tr:only-child th {\n",
       "        text-align: right;\n",
       "    }\n",
       "\n",
       "    .dataframe thead th {\n",
       "        text-align: left;\n",
       "    }\n",
       "\n",
       "    .dataframe tbody tr th {\n",
       "        vertical-align: top;\n",
       "    }\n",
       "</style>\n",
       "<table border=\"1\" class=\"dataframe\">\n",
       "  <thead>\n",
       "    <tr style=\"text-align: right;\">\n",
       "      <th></th>\n",
       "      <th>hero1</th>\n",
       "      <th>hero2</th>\n",
       "    </tr>\n",
       "  </thead>\n",
       "  <tbody>\n",
       "    <tr>\n",
       "      <th>0</th>\n",
       "      <td>LITTLE, ABNER</td>\n",
       "      <td>PRINCESS ZANDA</td>\n",
       "    </tr>\n",
       "    <tr>\n",
       "      <th>1</th>\n",
       "      <td>LITTLE, ABNER</td>\n",
       "      <td>BLACK PANTHER/T'CHAL</td>\n",
       "    </tr>\n",
       "    <tr>\n",
       "      <th>2</th>\n",
       "      <td>BLACK PANTHER/T'CHAL</td>\n",
       "      <td>PRINCESS ZANDA</td>\n",
       "    </tr>\n",
       "    <tr>\n",
       "      <th>3</th>\n",
       "      <td>LITTLE, ABNER</td>\n",
       "      <td>PRINCESS ZANDA</td>\n",
       "    </tr>\n",
       "    <tr>\n",
       "      <th>4</th>\n",
       "      <td>LITTLE, ABNER</td>\n",
       "      <td>BLACK PANTHER/T'CHAL</td>\n",
       "    </tr>\n",
       "  </tbody>\n",
       "</table>\n",
       "</div>"
      ],
      "text/plain": [
       "                  hero1                 hero2\n",
       "0         LITTLE, ABNER        PRINCESS ZANDA\n",
       "1         LITTLE, ABNER  BLACK PANTHER/T'CHAL\n",
       "2  BLACK PANTHER/T'CHAL        PRINCESS ZANDA\n",
       "3         LITTLE, ABNER        PRINCESS ZANDA\n",
       "4         LITTLE, ABNER  BLACK PANTHER/T'CHAL"
      ]
     },
     "metadata": {},
     "output_type": "display_data"
    }
   ],
   "source": [
    "#Read the data into a pandas data frame:\n",
    "ga_edges = pd.read_csv('./data/hero-network.csv')\n",
    "\n",
    "#print(\"Sample rows...\")\n",
    "display(ga_edges.head())\n"
   ]
  },
  {
   "cell_type": "markdown",
   "metadata": {},
   "source": [
    "_Summary information of the data set is displayed below:_"
   ]
  },
  {
   "cell_type": "code",
   "execution_count": 6,
   "metadata": {},
   "outputs": [
    {
     "data": {
      "text/html": [
       "<div>\n",
       "<style>\n",
       "    .dataframe thead tr:only-child th {\n",
       "        text-align: right;\n",
       "    }\n",
       "\n",
       "    .dataframe thead th {\n",
       "        text-align: left;\n",
       "    }\n",
       "\n",
       "    .dataframe tbody tr th {\n",
       "        vertical-align: top;\n",
       "    }\n",
       "</style>\n",
       "<table border=\"1\" class=\"dataframe\">\n",
       "  <thead>\n",
       "    <tr style=\"text-align: right;\">\n",
       "      <th></th>\n",
       "      <th>hero1</th>\n",
       "      <th>hero2</th>\n",
       "    </tr>\n",
       "  </thead>\n",
       "  <tbody>\n",
       "    <tr>\n",
       "      <th>count</th>\n",
       "      <td>574467</td>\n",
       "      <td>574467</td>\n",
       "    </tr>\n",
       "    <tr>\n",
       "      <th>unique</th>\n",
       "      <td>6211</td>\n",
       "      <td>6173</td>\n",
       "    </tr>\n",
       "    <tr>\n",
       "      <th>top</th>\n",
       "      <td>CAPTAIN AMERICA</td>\n",
       "      <td>CAPTAIN AMERICA</td>\n",
       "    </tr>\n",
       "    <tr>\n",
       "      <th>freq</th>\n",
       "      <td>8149</td>\n",
       "      <td>8350</td>\n",
       "    </tr>\n",
       "  </tbody>\n",
       "</table>\n",
       "</div>"
      ],
      "text/plain": [
       "                  hero1            hero2\n",
       "count            574467           574467\n",
       "unique             6211             6173\n",
       "top     CAPTAIN AMERICA  CAPTAIN AMERICA\n",
       "freq               8149             8350"
      ]
     },
     "metadata": {},
     "output_type": "display_data"
    }
   ],
   "source": [
    "\n",
    "#print(\"Summary information of the data is displayed below:\")\n",
    "display(ga_edges.describe())\n",
    "\n",
    "#print(\"\\nThe above summary confirms that there are no NA values in the data set, \\\n",
    "#\\nand CAPTAIN AMERICA has co-appeared most of the times along with other comic characters.\")\n"
   ]
  },
  {
   "cell_type": "markdown",
   "metadata": {},
   "source": [
    "The above summary confirms that there are no NA values in the data set, \n",
    "and CAPTAIN AMERICA has co-appeared most of the times along with other comic characters."
   ]
  },
  {
   "cell_type": "markdown",
   "metadata": {},
   "source": [
    "_Do we have any self referential nodes?_\n",
    "\n",
    "We will eliminate self-referential records (if any) present in the data set, since we are not interested in analyzing such nodes in this project."
   ]
  },
  {
   "cell_type": "code",
   "execution_count": 43,
   "metadata": {},
   "outputs": [
    {
     "name": "stdout",
     "output_type": "stream",
     "text": [
      "There are 2232 rows which have both the same hero listed as hero1 and hero2 in the same comic\n",
      "Some of these rows are displayed below:\n"
     ]
    },
    {
     "data": {
      "text/html": [
       "<div>\n",
       "<style>\n",
       "    .dataframe thead tr:only-child th {\n",
       "        text-align: right;\n",
       "    }\n",
       "\n",
       "    .dataframe thead th {\n",
       "        text-align: left;\n",
       "    }\n",
       "\n",
       "    .dataframe tbody tr th {\n",
       "        vertical-align: top;\n",
       "    }\n",
       "</style>\n",
       "<table border=\"1\" class=\"dataframe\">\n",
       "  <thead>\n",
       "    <tr style=\"text-align: right;\">\n",
       "      <th></th>\n",
       "      <th>hero1</th>\n",
       "      <th>hero2</th>\n",
       "    </tr>\n",
       "  </thead>\n",
       "  <tbody>\n",
       "    <tr>\n",
       "      <th>8888</th>\n",
       "      <td>MISS AMERICA/MADELIN</td>\n",
       "      <td>MISS AMERICA/MADELIN</td>\n",
       "    </tr>\n",
       "    <tr>\n",
       "      <th>8889</th>\n",
       "      <td>MISS AMERICA/MADELIN</td>\n",
       "      <td>MISS AMERICA/MADELIN</td>\n",
       "    </tr>\n",
       "    <tr>\n",
       "      <th>8890</th>\n",
       "      <td>MISS AMERICA/MADELIN</td>\n",
       "      <td>MISS AMERICA/MADELIN</td>\n",
       "    </tr>\n",
       "    <tr>\n",
       "      <th>8891</th>\n",
       "      <td>MISS AMERICA/MADELIN</td>\n",
       "      <td>MISS AMERICA/MADELIN</td>\n",
       "    </tr>\n",
       "    <tr>\n",
       "      <th>8892</th>\n",
       "      <td>MISS AMERICA/MADELIN</td>\n",
       "      <td>MISS AMERICA/MADELIN</td>\n",
       "    </tr>\n",
       "  </tbody>\n",
       "</table>\n",
       "</div>"
      ],
      "text/plain": [
       "                     hero1                 hero2\n",
       "8888  MISS AMERICA/MADELIN  MISS AMERICA/MADELIN\n",
       "8889  MISS AMERICA/MADELIN  MISS AMERICA/MADELIN\n",
       "8890  MISS AMERICA/MADELIN  MISS AMERICA/MADELIN\n",
       "8891  MISS AMERICA/MADELIN  MISS AMERICA/MADELIN\n",
       "8892  MISS AMERICA/MADELIN  MISS AMERICA/MADELIN"
      ]
     },
     "metadata": {},
     "output_type": "display_data"
    }
   ],
   "source": [
    "\n",
    "#print(\"\\nMaking sure that the same character is NOT listed as hero1 and hero2 for a given row:\")\n",
    "\n",
    "print(\"There are {0} rows which have both the same hero listed as hero1 and hero2 in the same comic\\n\\\n",
    "Some of these rows are displayed below:\".\n",
    "      format(sum(ga_edges[\"hero1\"] == ga_edges[\"hero2\"])))\n",
    "\n",
    "\n",
    "display(ga_edges.loc[(ga_edges[\"hero1\"] == ga_edges[\"hero2\"])].head())\n",
    "\n"
   ]
  },
  {
   "cell_type": "markdown",
   "metadata": {},
   "source": [
    "There are 2232 rows which are self referencing. We will eliminate these rows from the data frame, and build the graph using the remaining rows."
   ]
  },
  {
   "cell_type": "code",
   "execution_count": 14,
   "metadata": {
    "collapsed": true
   },
   "outputs": [],
   "source": [
    "#Deleting the self referential endges from the data frame\n",
    "ga_edges = ga_edges.loc[~(ga_edges[\"hero1\"] == ga_edges[\"hero2\"])]"
   ]
  },
  {
   "cell_type": "markdown",
   "metadata": {},
   "source": [
    "_Summary information of the final data frame, along with some sample records are displayed below:_"
   ]
  },
  {
   "cell_type": "code",
   "execution_count": 17,
   "metadata": {},
   "outputs": [
    {
     "name": "stdout",
     "output_type": "stream",
     "text": [
      "\n",
      "The summary information of the final data frame:\n"
     ]
    },
    {
     "data": {
      "text/html": [
       "<div>\n",
       "<style>\n",
       "    .dataframe thead tr:only-child th {\n",
       "        text-align: right;\n",
       "    }\n",
       "\n",
       "    .dataframe thead th {\n",
       "        text-align: left;\n",
       "    }\n",
       "\n",
       "    .dataframe tbody tr th {\n",
       "        vertical-align: top;\n",
       "    }\n",
       "</style>\n",
       "<table border=\"1\" class=\"dataframe\">\n",
       "  <thead>\n",
       "    <tr style=\"text-align: right;\">\n",
       "      <th></th>\n",
       "      <th>hero1</th>\n",
       "      <th>hero2</th>\n",
       "    </tr>\n",
       "  </thead>\n",
       "  <tbody>\n",
       "    <tr>\n",
       "      <th>count</th>\n",
       "      <td>572235</td>\n",
       "      <td>572235</td>\n",
       "    </tr>\n",
       "    <tr>\n",
       "      <th>unique</th>\n",
       "      <td>6211</td>\n",
       "      <td>6173</td>\n",
       "    </tr>\n",
       "    <tr>\n",
       "      <th>top</th>\n",
       "      <td>CAPTAIN AMERICA</td>\n",
       "      <td>CAPTAIN AMERICA</td>\n",
       "    </tr>\n",
       "    <tr>\n",
       "      <th>freq</th>\n",
       "      <td>8029</td>\n",
       "      <td>8230</td>\n",
       "    </tr>\n",
       "  </tbody>\n",
       "</table>\n",
       "</div>"
      ],
      "text/plain": [
       "                  hero1            hero2\n",
       "count            572235           572235\n",
       "unique             6211             6173\n",
       "top     CAPTAIN AMERICA  CAPTAIN AMERICA\n",
       "freq               8029             8230"
      ]
     },
     "metadata": {},
     "output_type": "display_data"
    },
    {
     "name": "stdout",
     "output_type": "stream",
     "text": [
      "Sample records of the final, cleansed data set are displayed below:\n"
     ]
    },
    {
     "data": {
      "text/html": [
       "<div>\n",
       "<style>\n",
       "    .dataframe thead tr:only-child th {\n",
       "        text-align: right;\n",
       "    }\n",
       "\n",
       "    .dataframe thead th {\n",
       "        text-align: left;\n",
       "    }\n",
       "\n",
       "    .dataframe tbody tr th {\n",
       "        vertical-align: top;\n",
       "    }\n",
       "</style>\n",
       "<table border=\"1\" class=\"dataframe\">\n",
       "  <thead>\n",
       "    <tr style=\"text-align: right;\">\n",
       "      <th></th>\n",
       "      <th>hero1</th>\n",
       "      <th>hero2</th>\n",
       "    </tr>\n",
       "  </thead>\n",
       "  <tbody>\n",
       "    <tr>\n",
       "      <th>0</th>\n",
       "      <td>LITTLE, ABNER</td>\n",
       "      <td>PRINCESS ZANDA</td>\n",
       "    </tr>\n",
       "    <tr>\n",
       "      <th>1</th>\n",
       "      <td>LITTLE, ABNER</td>\n",
       "      <td>BLACK PANTHER/T'CHAL</td>\n",
       "    </tr>\n",
       "    <tr>\n",
       "      <th>2</th>\n",
       "      <td>BLACK PANTHER/T'CHAL</td>\n",
       "      <td>PRINCESS ZANDA</td>\n",
       "    </tr>\n",
       "    <tr>\n",
       "      <th>3</th>\n",
       "      <td>LITTLE, ABNER</td>\n",
       "      <td>PRINCESS ZANDA</td>\n",
       "    </tr>\n",
       "    <tr>\n",
       "      <th>4</th>\n",
       "      <td>LITTLE, ABNER</td>\n",
       "      <td>BLACK PANTHER/T'CHAL</td>\n",
       "    </tr>\n",
       "  </tbody>\n",
       "</table>\n",
       "</div>"
      ],
      "text/plain": [
       "                  hero1                 hero2\n",
       "0         LITTLE, ABNER        PRINCESS ZANDA\n",
       "1         LITTLE, ABNER  BLACK PANTHER/T'CHAL\n",
       "2  BLACK PANTHER/T'CHAL        PRINCESS ZANDA\n",
       "3         LITTLE, ABNER        PRINCESS ZANDA\n",
       "4         LITTLE, ABNER  BLACK PANTHER/T'CHAL"
      ]
     },
     "metadata": {},
     "output_type": "display_data"
    }
   ],
   "source": [
    "print(\"\\nThe summary information of the final data frame:\")\n",
    "\n",
    "display(ga_edges.describe())\n",
    "print(\"Sample records of the final, cleansed data set are displayed below:\")\n",
    "display(ga_edges.head())\n"
   ]
  },
  {
   "cell_type": "markdown",
   "metadata": {},
   "source": [
    "### Building the graph\n",
    "Using the cleansed data, we will build a network graph of super heros."
   ]
  },
  {
   "cell_type": "code",
   "execution_count": 4,
   "metadata": {},
   "outputs": [
    {
     "name": "stdout",
     "output_type": "stream",
     "text": [
      "Graph built sucessfully\n"
     ]
    }
   ],
   "source": [
    "#Building a graph directly using pandas data frame:\n",
    "try:\n",
    "    GA = net.from_pandas_dataframe(ga_edges,source=\"hero1\",target=\"hero2\")\n",
    "    print(\"Graph built sucessfully\")\n",
    "except:\n",
    "    print(\"Error in building the graph\")"
   ]
  },
  {
   "cell_type": "markdown",
   "metadata": {},
   "source": [
    "\n",
    "## Analysis\n",
    "\n",
    "The summary information of the graph built is given below:"
   ]
  },
  {
   "cell_type": "code",
   "execution_count": 31,
   "metadata": {},
   "outputs": [
    {
     "name": "stdout",
     "output_type": "stream",
     "text": [
      "Name: \n",
      "Type: Graph\n",
      "Number of nodes: 6426\n",
      "Number of edges: 167219\n",
      "Average degree:  52.0445\n"
     ]
    }
   ],
   "source": [
    "print(net.info(GA))"
   ]
  },
  {
   "cell_type": "markdown",
   "metadata": {},
   "source": [
    "The above summary confirms that our graph has 6426 nodes and 167207 edges. The average degree of nodes is 52.0408. This means, each node has approximately 52 connections with other nodes. This also signifies that each comic character has paired up with other comic characters for 52 times, on an average.\n",
    "\n",
    "Before we discuss about the metrics of interest, let us define some terms:\n",
    "\n",
    "_Eccentricity_ The eccentricity of a node $n$ in a graph represents the _maximum_ of the shortest path distances from $n$ to all other graphs\n",
    "\n",
    "_Diameter_ The diameter of a graph is the _maximum_ eccentricity of all the nodes in the graph\n",
    "\n",
    "_Radius_ The radius of a graph is the _minimum_ eccentricity of all the nodes in the graph\n",
    "\n",
    "_Graph center_ The set of all nodes whose eccentricity is equal to the graph's radius\n",
    "\n",
    "_Graph periphery_ The set of all nodes whose eccentricity is equal to the diameter of the graph\n",
    "\n",
    "In this assignment we will obtain the following metrics of the graph:\n",
    "\n",
    "* Diameter\n",
    "* Radius\n",
    "* Graph Center\n",
    "* Graph Periphery\n",
    "\n"
   ]
  },
  {
   "cell_type": "markdown",
   "metadata": {},
   "source": [
    "_Let us identify if we have any disconnected components in our graph_\n",
    "If we have any disconnected components in our graph, we will separate them into subgraphs."
   ]
  },
  {
   "cell_type": "code",
   "execution_count": 5,
   "metadata": {},
   "outputs": [
    {
     "data": {
      "text/plain": [
       "False"
      ]
     },
     "execution_count": 5,
     "metadata": {},
     "output_type": "execute_result"
    }
   ],
   "source": [
    "net.is_connected(GA)"
   ]
  },
  {
   "cell_type": "markdown",
   "metadata": {},
   "source": [
    "The above block's output confirms that we have some disconnected components. Let us identify the disconnected components and collect them into a list of sub-graphs"
   ]
  },
  {
   "cell_type": "code",
   "execution_count": 6,
   "metadata": {},
   "outputs": [
    {
     "name": "stdout",
     "output_type": "stream",
     "text": [
      "There are 4 subgraphs\n",
      "----------------------------------\n",
      "Summary details of sub-graph: 1 \n",
      "----------------------------------\n",
      "Name: \n",
      "Type: Graph\n",
      "Number of nodes: 6408\n",
      "Number of edges: 167163\n",
      "Average degree:  52.1732\n",
      "----------------------------------\n",
      "Summary details of sub-graph: 2 \n",
      "----------------------------------\n",
      "Name: \n",
      "Type: Graph\n",
      "Number of nodes: 9\n",
      "Number of edges: 34\n",
      "Average degree:   7.5556\n",
      "----------------------------------\n",
      "Summary details of sub-graph: 3 \n",
      "----------------------------------\n",
      "Name: \n",
      "Type: Graph\n",
      "Number of nodes: 7\n",
      "Number of edges: 21\n",
      "Average degree:   6.0000\n",
      "----------------------------------\n",
      "Summary details of sub-graph: 4 \n",
      "----------------------------------\n",
      "Name: \n",
      "Type: Graph\n",
      "Number of nodes: 2\n",
      "Number of edges: 1\n",
      "Average degree:   1.0000\n"
     ]
    }
   ],
   "source": [
    "GA_list = list(net.connected_component_subgraphs(GA))\n",
    "print(\"There are {0} subgraphs\".format(len(GA_list)))\n",
    "\n",
    "x = 1\n",
    "for i in GA_list:\n",
    "    print(\"----------------------------------\")\n",
    "    print(\"Summary details of sub-graph: {0} \".format(x))\n",
    "    print(\"----------------------------------\")\n",
    "    x += 1\n",
    "    print(net.info(i))\n",
    "#net.diameter(GA)"
   ]
  },
  {
   "cell_type": "markdown",
   "metadata": {},
   "source": [
    "The following code will save the 4 sub-graphs as _gml_ files, so that we can use Gephi to visualize the graphs."
   ]
  },
  {
   "cell_type": "code",
   "execution_count": 53,
   "metadata": {
    "collapsed": true
   },
   "outputs": [],
   "source": [
    "net.write_gml(GA_list[0],\"subgraph0.gml\")\n",
    "net.write_gml(GA_list[1],\"subgraph1.gml\")\n",
    "net.write_gml(GA_list[2],\"subgraph2.gml\")\n",
    "net.write_gml(GA_list[3],\"subgraph3.gml\")"
   ]
  },
  {
   "cell_type": "markdown",
   "metadata": {},
   "source": [
    "### Sub-graph 1\n",
    "The summary details and the graph of Subgraph 1 are displayed below:\n",
    "\n"
   ]
  },
  {
   "cell_type": "code",
   "execution_count": 9,
   "metadata": {},
   "outputs": [
    {
     "name": "stdout",
     "output_type": "stream",
     "text": [
      "Name: \n",
      "Type: Graph\n",
      "Number of nodes: 2\n",
      "Number of edges: 1\n",
      "Average degree:   1.0000\n",
      "The diameter of sub-graph1 is 2\n"
     ]
    }
   ],
   "source": [
    "print(net.info(i))\n",
    "print(\"The diameter of sub-graph1 is {}\".format(net.diameter(GA_list[1])))"
   ]
  },
  {
   "cell_type": "markdown",
   "metadata": {},
   "source": [
    "<img src=\"images/subgraph2.png\">"
   ]
  },
  {
   "cell_type": "markdown",
   "metadata": {},
   "source": [
    "## Still working ... the below blocks are just WIP"
   ]
  },
  {
   "cell_type": "code",
   "execution_count": 50,
   "metadata": {},
   "outputs": [
    {
     "data": {
      "image/png": "[encoded data removed]",
      "text/plain": [
       "<matplotlib.figure.Figure at 0x167f9d92390>"
      ]
     },
     "metadata": {},
     "output_type": "display_data"
    }
   ],
   "source": [
    "#Example code to draw graph\n",
    "g=net.Graph()\n",
    "#g.add_edge('a','b')\n",
    "#g.add_edge('a','c')\n",
    "#g.add_edge('b','c')\n",
    "g = GA_list[0]\n",
    "layout = net.spring_layout(g)\n",
    "net.draw_networkx_nodes(g,layout)\n",
    "net.draw_networkx_labels(g,pos=layout)\n",
    "net.draw_networkx_edges(g,pos=layout)\n",
    "plt.axis(\"off\")\n",
    "plt.show()"
   ]
  },
  {
   "cell_type": "code",
   "execution_count": 37,
   "metadata": {},
   "outputs": [
    {
     "data": {
      "text/plain": [
       "[('CAPTAIN AMERICA', 0.2966536964980545),\n",
       " ('SPIDER-MAN/PETER PAR', 0.2703501945525292),\n",
       " ('IRON MAN/TONY STARK ', 0.23688715953307396),\n",
       " ('THING/BENJAMIN J. GR', 0.2203891050583658),\n",
       " ('MR. FANTASTIC/REED R', 0.21463035019455254)]"
      ]
     },
     "execution_count": 37,
     "metadata": {},
     "output_type": "execute_result"
    }
   ],
   "source": [
    "dc = net.degree_centrality(GA)\n",
    "sorted(dc.items(),key=lambda x:x[1],reverse=True)[:5]"
   ]
  },
  {
   "cell_type": "markdown",
   "metadata": {},
   "source": [
    "As per the *Degree Centrality*, CAPTAIN AMERICA has co-appeared with most of the other MARVEL characters, followed by SPIDER-MAN and IRON MAN.  "
   ]
  },
  {
   "cell_type": "code",
   "execution_count": 38,
   "metadata": {
    "collapsed": true
   },
   "outputs": [],
   "source": [
    "cc = net.closeness_centrality(GA)"
   ]
  },
  {
   "cell_type": "code",
   "execution_count": 39,
   "metadata": {},
   "outputs": [
    {
     "data": {
      "text/plain": [
       "[('CAPTAIN AMERICA', 0.583688144346388),\n",
       " ('SPIDER-MAN/PETER PAR', 0.5740902532137266),\n",
       " ('IRON MAN/TONY STARK ', 0.5614279813721937),\n",
       " ('THING/BENJAMIN J. GR', 0.5577521106953788),\n",
       " ('MR. FANTASTIC/REED R', 0.556053126894305)]"
      ]
     },
     "execution_count": 39,
     "metadata": {},
     "output_type": "execute_result"
    }
   ],
   "source": [
    "sorted(cc.items(),key=lambda x:x[1],reverse=True)[:5]"
   ]
  },
  {
   "cell_type": "markdown",
   "metadata": {},
   "source": [
    "The closeness centrality measure also showed the same characters we obtained using Degree Centrality."
   ]
  },
  {
   "cell_type": "code",
   "execution_count": 47,
   "metadata": {},
   "outputs": [
    {
     "name": "stdout",
     "output_type": "stream",
     "text": [
      "Average distance to all other characters from CAPTAIN AMERICA is 1.7132436382099152 characters\n",
      "Average distance to all other characters from SPIDER MAN is 1.7418863922563625 characters\n",
      "Average distance to all other characters from IRON MAN is 1.7811723554566812 characters\n"
     ]
    }
   ],
   "source": [
    "print(\"Average distance to all other characters from CAPTAIN AMERICA is {0} characters\".format(1/cc['CAPTAIN AMERICA']))\n",
    "print(\"Average distance to all other characters from SPIDER MAN is {0} characters\".format(1/cc['SPIDER-MAN/PETER PAR']))\n",
    "print(\"Average distance to all other characters from IRON MAN is {0} characters\".format(1/cc['IRON MAN/TONY STARK ']))"
   ]
  },
  {
   "cell_type": "markdown",
   "metadata": {},
   "source": [
    "We can note that there is no significant difference of average distances to all other comic characters from CAPTAIN AMERICA, SPIDER MAN and IRON MAN."
   ]
  },
  {
   "cell_type": "code",
   "execution_count": 48,
   "metadata": {},
   "outputs": [
    {
     "data": {
      "image/png": "[encoded data removed]",
      "text/plain": [
       "<matplotlib.figure.Figure at 0x1f9672260f0>"
      ]
     },
     "metadata": {},
     "output_type": "display_data"
    }
   ],
   "source": [
    "#Example code to draw graph\n",
    "g=net.Graph()\n",
    "g.add_edge('a','b')\n",
    "g.add_edge('a','c')\n",
    "#g.add_edge('b','c')\n",
    "layout = net.spring_layout(g)\n",
    "net.draw_networkx_nodes(g,layout)\n",
    "net.draw_networkx_labels(g,pos=layout)\n",
    "net.draw_networkx_edges(g,pos=layout)\n",
    "plt.axis(\"off\")\n",
    "plt.show()"
   ]
  },
  {
   "cell_type": "code",
   "execution_count": 23,
   "metadata": {},
   "outputs": [
    {
     "name": "stdout",
     "output_type": "stream",
     "text": [
      "Name: \n",
      "Type: Graph\n",
      "Number of nodes: 3\n",
      "Number of edges: 2\n",
      "Average degree:   1.3333\n"
     ]
    }
   ],
   "source": [
    "print(net.info(g))"
   ]
  },
  {
   "cell_type": "code",
   "execution_count": null,
   "metadata": {
    "collapsed": true
   },
   "outputs": [],
   "source": []
  }
 ],
 "metadata": {
  "kernelspec": {
   "display_name": "Python 3",
   "language": "python",
   "name": "python3"
  },
  "language_info": {
   "codemirror_mode": {
    "name": "ipython",
    "version": 3
   },
   "file_extension": ".py",
   "mimetype": "text/x-python",
   "name": "python",
   "nbconvert_exporter": "python",
   "pygments_lexer": "ipython3",
   "version": "3.5.3"
  }
 },
 "nbformat": 4,
 "nbformat_minor": 2
}
