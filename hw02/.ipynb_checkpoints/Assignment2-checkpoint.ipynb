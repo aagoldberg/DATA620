{
 "cells": [
  {
   "cell_type": "markdown",
   "metadata": {},
   "source": [
    "# Web Analytics - Assignment 2\n",
    "\n",
    "*June 10, 2017*\n",
    "\n",
    "## Group 1 Members:\n",
    "* Mauricio Alarcon\n",
    "* Sekhar Mekala\n",
    "* Aadi Kalloo\n",
    "* Srinivasa Illapani\n",
    "* Param Singh"
   ]
  },
  {
   "cell_type": "markdown",
   "metadata": {},
   "source": [
    "In this assignment, we will be creating a graph based on the Super Heros data set available at https://www.kaggle.com/csanhueza/the-marvel-universe-social-network. In this assignment we will be identifying the important super hero in Marvel Comics based on 2 measures of centrality. \n",
    "\n",
    "Importing all the required packages."
   ]
  },
  {
   "cell_type": "code",
   "execution_count": 1,
   "metadata": {
    "collapsed": true
   },
   "outputs": [],
   "source": [
    "import networkx as net\n",
    "import urllib\n",
    "import matplotlib.pyplot as plt\n",
    "import pandas as pd\n",
    "import numpy as np\n",
    "import sklearn"
   ]
  },
  {
   "cell_type": "markdown",
   "metadata": {},
   "source": [
    "## Data\n",
    "We downloaded the following 3 datasets from  https://www.kaggle.com/csanhueza/the-marvel-universe-social-network.\n",
    "\n",
    "* nodes.csv - Contains comma separated values of character and the character type. The type of the character can be either *hero* or *comic*.\n",
    "\n",
    "* edges.csv - Contains comma separated values of the hero's name, and the comic book name.\n",
    "\n",
    "* hero-network.csv - Contains comma separated values of the hero1 and hero2 who appeared together in a comic.\n",
    "\n",
    "In this assignment we will be using the file *hero-network.csv* to determine who is the important superhero, based on 2 measures of centrality."
   ]
  },
  {
   "cell_type": "markdown",
   "metadata": {},
   "source": [
    "### Building the graph\n",
    "We will build an undirected graph using the data present in *hero-network.csv* file. It has 2 columns *hero1* and *hero2*. The data in this file represents the superheros who appeared together in a comic book."
   ]
  },
  {
   "cell_type": "code",
   "execution_count": 5,
   "metadata": {},
   "outputs": [
    {
     "name": "stdout",
     "output_type": "stream",
     "text": [
      "Sample rows...\n"
     ]
    },
    {
     "data": {
      "text/html": [
       "<div>\n",
       "<style>\n",
       "    .dataframe thead tr:only-child th {\n",
       "        text-align: right;\n",
       "    }\n",
       "\n",
       "    .dataframe thead th {\n",
       "        text-align: left;\n",
       "    }\n",
       "\n",
       "    .dataframe tbody tr th {\n",
       "        vertical-align: top;\n",
       "    }\n",
       "</style>\n",
       "<table border=\"1\" class=\"dataframe\">\n",
       "  <thead>\n",
       "    <tr style=\"text-align: right;\">\n",
       "      <th></th>\n",
       "      <th>hero1</th>\n",
       "      <th>hero2</th>\n",
       "    </tr>\n",
       "  </thead>\n",
       "  <tbody>\n",
       "    <tr>\n",
       "      <th>count</th>\n",
       "      <td>574467</td>\n",
       "      <td>574467</td>\n",
       "    </tr>\n",
       "    <tr>\n",
       "      <th>unique</th>\n",
       "      <td>6211</td>\n",
       "      <td>6173</td>\n",
       "    </tr>\n",
       "    <tr>\n",
       "      <th>top</th>\n",
       "      <td>CAPTAIN AMERICA</td>\n",
       "      <td>CAPTAIN AMERICA</td>\n",
       "    </tr>\n",
       "    <tr>\n",
       "      <th>freq</th>\n",
       "      <td>8149</td>\n",
       "      <td>8350</td>\n",
       "    </tr>\n",
       "  </tbody>\n",
       "</table>\n",
       "</div>"
      ],
      "text/plain": [
       "                  hero1            hero2\n",
       "count            574467           574467\n",
       "unique             6211             6173\n",
       "top     CAPTAIN AMERICA  CAPTAIN AMERICA\n",
       "freq               8149             8350"
      ]
     },
     "execution_count": 5,
     "metadata": {},
     "output_type": "execute_result"
    }
   ],
   "source": [
    "#Read the data into a pandas data frame:\n",
    "ga_edges = pd.read_csv('./data/hero-network.csv')\n",
    "\n",
    "print(\"Sample rows...\")\n",
    "ga_edges.head()\n",
    "ga_edges.describe()\n",
    "\n",
    "#Building an undirected graph\n"
   ]
  },
  {
   "cell_type": "code",
   "execution_count": 22,
   "metadata": {},
   "outputs": [
    {
     "data": {
      "image/png": "[encoded data removed]",
      "text/plain": [
       "<matplotlib.figure.Figure at 0x1f1172be828>"
      ]
     },
     "metadata": {},
     "output_type": "display_data"
    }
   ],
   "source": [
    "g=net.Graph()\n",
    "g.add_edge('a','b')\n",
    "g.add_edge('a','c')\n",
    "#g.add_edge('b','c')\n",
    "layout = net.spring_layout(g)\n",
    "net.draw_networkx_nodes(g,layout)\n",
    "net.draw_networkx_labels(g,pos=layout)\n",
    "net.draw_networkx_edges(g,pos=layout)\n",
    "plt.axis(\"off\")\n",
    "plt.show()"
   ]
  },
  {
   "cell_type": "code",
   "execution_count": 23,
   "metadata": {},
   "outputs": [
    {
     "name": "stdout",
     "output_type": "stream",
     "text": [
      "Name: \n",
      "Type: Graph\n",
      "Number of nodes: 3\n",
      "Number of edges: 2\n",
      "Average degree:   1.3333\n"
     ]
    }
   ],
   "source": [
    "print(net.info(g))"
   ]
  },
  {
   "cell_type": "code",
   "execution_count": null,
   "metadata": {
    "collapsed": true
   },
   "outputs": [],
   "source": []
  }
 ],
 "metadata": {
  "kernelspec": {
   "display_name": "Python 3",
   "language": "python",
   "name": "python3"
  },
  "language_info": {
   "codemirror_mode": {
    "name": "ipython",
    "version": 3
   },
   "file_extension": ".py",
   "mimetype": "text/x-python",
   "name": "python",
   "nbconvert_exporter": "python",
   "pygments_lexer": "ipython3",
   "version": "3.5.3"
  }
 },
 "nbformat": 4,
 "nbformat_minor": 2
}
