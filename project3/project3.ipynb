{
 "cells": [
  {
   "cell_type": "markdown",
   "metadata": {},
   "source": [
    "# DATA 620, Project 3\n",
    "\n",
    "### Groups and Members\n",
    "\n",
    "####Team 1: *Mauricio Alarcon, Sekhar Mekala, Aadi Kalloo, Srinivasa Illapani, Param Singh*\n",
    "####Team 2: *Christophe Hunt, Joel Park, Ilya Kats, Pavan Akula, Nathan (Seoungyoon) Lim*\n",
    "\n",
    "### Project Requirements\n",
    "\n",
    "**This is a Team Project!  For this project, please work with the entire class as one collaborative group!  Your project should be submitted (as an IPython Notebook via GitHub) by end of day on Monday, July 10th.  The group should present their code and findings in our meet-up on Tuesday July 11th.**\n",
    "\n",
    "\n",
    "Using any of the three classifiers described in chapter 6 of Natural Language Processing with Python, and any features you can think of, build the best name gender classifier you can. Begin by splitting the Names Corpus into three subsets: 500 words for the test set, 500 words for the dev-test set, and the remaining 6900 words for the training set. Then, starting with the example name gender classifier, make incremental improvements. Use the dev-test set to check your progress. Once you are satisfied with your classifier, check its final performance on the test set. How does the performance on the test set compare to the performance on the dev-test set? Is this what you'd expect? "
   ]
  },
  {
   "cell_type": "code",
   "execution_count": 1,
   "metadata": {
    "collapsed": false
   },
   "outputs": [
    {
     "name": "stdout",
     "output_type": "stream",
     "text": [
      "[nltk_data] Downloading package names to\n",
      "[nltk_data]     C:\\Users\\akula\\AppData\\Roaming\\nltk_data...\n",
      "[nltk_data]   Package names is already up-to-date!\n"
     ]
    },
    {
     "data": {
      "text/plain": [
       "True"
      ]
     },
     "execution_count": 1,
     "metadata": {},
     "output_type": "execute_result"
    }
   ],
   "source": [
    "from nltk.corpus import names as names_ntlk\n",
    "import nltk\n",
    "import pandas as pd\n",
    "import matplotlib\n",
    "import statistics\n",
    "import scipy\n",
    "\n",
    "\n",
    "nltk.download(\"names\")"
   ]
  },
  {
   "cell_type": "code",
   "execution_count": 2,
   "metadata": {
    "collapsed": true
   },
   "outputs": [],
   "source": [
    "%matplotlib inline"
   ]
  },
  {
   "cell_type": "code",
   "execution_count": 3,
   "metadata": {
    "collapsed": true
   },
   "outputs": [],
   "source": [
    "matplotlib.style.use('ggplot')"
   ]
  },
  {
   "cell_type": "markdown",
   "metadata": {},
   "source": [
    "## Data Loading"
   ]
  },
  {
   "cell_type": "code",
   "execution_count": 4,
   "metadata": {
    "collapsed": false
   },
   "outputs": [
    {
     "name": "stdout",
     "output_type": "stream",
     "text": [
      "[(u'Garwin', 'male'), (u'Cindie', 'female'), (u'Juanita', 'male'), (u'Dael', 'female'), (u'Jillayne', 'female'), (u'Sean', 'male'), (u'Nell', 'female'), (u'Christie', 'male'), (u'Shannen', 'female'), (u'Jessamine', 'female')]\n"
     ]
    }
   ],
   "source": [
    "import random\n",
    "names = ([( name, 'male') for name in names_ntlk.words('male.txt')] + [( name, 'female') for name in names_ntlk.words('female.txt')]) \n",
    "random.seed(1234)\n",
    "random.shuffle(names)\n",
    "print names[:10]\n"
   ]
  },
  {
   "cell_type": "code",
   "execution_count": 5,
   "metadata": {
    "collapsed": false
   },
   "outputs": [
    {
     "data": {
      "text/plain": [
       "7944"
      ]
     },
     "execution_count": 5,
     "metadata": {},
     "output_type": "execute_result"
    }
   ],
   "source": [
    "len(names)"
   ]
  },
  {
   "cell_type": "code",
   "execution_count": 6,
   "metadata": {
    "collapsed": false
   },
   "outputs": [
    {
     "name": "stdout",
     "output_type": "stream",
     "text": [
      "test_dataset:  500\n",
      "devtest_dataset:  500\n",
      "train_dataset:  6944\n"
     ]
    }
   ],
   "source": [
    "test_dataset = names[:500]\n",
    "print \"test_dataset: \", len(test_dataset)\n",
    "devtest_dataset = names[500:1000]\n",
    "print \"devtest_dataset: \", len(devtest_dataset)\n",
    "train_dataset = names[1000:]\n",
    "print \"train_dataset: \", len(train_dataset)"
   ]
  },
  {
   "cell_type": "markdown",
   "metadata": {},
   "source": [
    "## Model Building\n",
    "\n",
    "### Baseline Model"
   ]
  },
  {
   "cell_type": "markdown",
   "metadata": {},
   "source": [
    "Let's calculate the accuracy for the initial model as described in the book"
   ]
  },
  {
   "cell_type": "code",
   "execution_count": 7,
   "metadata": {
    "collapsed": false,
    "scrolled": true
   },
   "outputs": [
    {
     "name": "stdout",
     "output_type": "stream",
     "text": [
      "Accuracy: 0.75\n"
     ]
    }
   ],
   "source": [
    "# Book's classifier - baseline\n",
    "def gender_features( word):\n",
    "    w = word.lower()\n",
    "    return {'last_letter': w[-1]} \n",
    "\n",
    "test_featureset = [(gender_features(n),g) for (n,g) in test_dataset]\n",
    "devtest_featureset = [(gender_features(n),g) for (n,g) in devtest_dataset]\n",
    "train_featureset = [(gender_features(n),g) for (n,g) in train_dataset]\n",
    "\n",
    "classifier = nltk.NaiveBayesClassifier.train( train_featureset)\n",
    "\n",
    "print ('Accuracy: %4.2f' %nltk.classify.accuracy( classifier, devtest_featureset))\n"
   ]
  },
  {
   "cell_type": "markdown",
   "metadata": {},
   "source": [
    "Let's now add some features to it such as:\n",
    "\n",
    "* Entropy\n",
    "* First Trigram\n",
    "* Last Trigram\n",
    "\n",
    "by adding a feature at a time and see what happens\n",
    "\n",
    "### Baseline + Last Trigram"
   ]
  },
  {
   "cell_type": "code",
   "execution_count": 8,
   "metadata": {
    "collapsed": false
   },
   "outputs": [
    {
     "name": "stdout",
     "output_type": "stream",
     "text": [
      "({'last_letter': u'e', 'last_trigram': u'die'}, 'female')\n",
      "Accuracy: 0.77\n"
     ]
    }
   ],
   "source": [
    "#from nltk.classify import apply_features\n",
    "def gender_features( word):\n",
    "    w = word.lower()\n",
    "    return {'last_letter': w[-1],'last_trigram': w[-3:]} #,'last_bigram': word[-2:]\n",
    "\n",
    "test_featureset = [(gender_features(n),g) for (n,g) in test_dataset]\n",
    "devtest_featureset = [(gender_features(n),g) for (n,g) in devtest_dataset]\n",
    "train_featureset = [(gender_features(n),g) for (n,g) in train_dataset]\n",
    "print test_featureset[1]\n",
    "classifier = nltk.NaiveBayesClassifier.train( train_featureset)\n",
    "\n",
    "print 'Accuracy: %4.2f' %nltk.classify.accuracy( classifier, devtest_featureset)\n"
   ]
  },
  {
   "cell_type": "markdown",
   "metadata": {},
   "source": [
    "### Baseline + Last Trigram + First Trigram"
   ]
  },
  {
   "cell_type": "code",
   "execution_count": 9,
   "metadata": {
    "collapsed": false
   },
   "outputs": [
    {
     "name": "stdout",
     "output_type": "stream",
     "text": [
      "({'first_trigram': u'cin', 'last_letter': u'e', 'last_trigram': u'die'}, 'female')\n",
      "Accuracy: 0.81\n"
     ]
    }
   ],
   "source": [
    "#from nltk.classify import apply_features\n",
    "def gender_features( word):\n",
    "    w = word.lower()\n",
    "    return {'last_letter': w[-1],'last_trigram': w[-3:],'first_trigram': w[:3]} #,'last_bigram': word[-2:]\n",
    "\n",
    "test_featureset = [(gender_features(n),g) for (n,g) in test_dataset]\n",
    "devtest_featureset = [(gender_features(n),g) for (n,g) in devtest_dataset]\n",
    "train_featureset = [(gender_features(n),g) for (n,g) in train_dataset]\n",
    "print test_featureset[1]\n",
    "classifier = nltk.NaiveBayesClassifier.train( train_featureset)\n",
    "\n",
    "print 'Accuracy: %4.2f' %nltk.classify.accuracy( classifier, devtest_featureset)\n"
   ]
  },
  {
   "cell_type": "markdown",
   "metadata": {},
   "source": [
    "### Baseline + Last Trigram + First Trigram + Entropy"
   ]
  },
  {
   "cell_type": "markdown",
   "metadata": {},
   "source": [
    "PS - not sure that we need to include Entropy at all in this. \n",
    "\n",
    "Per the text and section on the NLTK site entropy measures how disorganized the input variables are. This can however be used as an alternative method for identifying the most informative features by creating stumps for each branch of the decision tree and comparing the organization levels before and after via the entropy method. For this project, likely not needed as we will utilize the show_most_informative_features() NLTK method."
   ]
  },
  {
   "cell_type": "code",
   "execution_count": 10,
   "metadata": {
    "collapsed": false
   },
   "outputs": [
    {
     "name": "stdout",
     "output_type": "stream",
     "text": [
      "({'first_trigram': u'cin', 'entropy': 2.2516291673878226, 'last_letter': u'e', 'last_trigram': u'die'}, 'female')\n",
      "Accuracy: 0.82\n"
     ]
    }
   ],
   "source": [
    "#from nltk.classify import apply_features\n",
    "#textbook method\n",
    "import math \n",
    "def entropy( labels): \n",
    "    freqdist = nltk.FreqDist( labels) \n",
    "    probs = [freqdist.freq( l) for l in nltk.FreqDist( labels)] \n",
    "    return -sum([ p * math.log( p, 2) for p in probs])\n",
    "\n",
    "    \n",
    "def gender_features( word):\n",
    "    w = word.lower()\n",
    "    return {'last_letter': w[-1],'last_trigram': w[-3:],'first_trigram': w[:3], 'entropy': entropy(list(w))} #,'last_bigram': word[-2:]\n",
    "\n",
    "test_featureset = [(gender_features(n),g) for (n,g) in test_dataset]\n",
    "devtest_featureset = [(gender_features(n),g) for (n,g) in devtest_dataset]\n",
    "train_featureset = [(gender_features(n),g) for (n,g) in train_dataset]\n",
    "print test_featureset[1]\n",
    "classifier = nltk.NaiveBayesClassifier.train( train_featureset)\n",
    "\n",
    "print 'Accuracy: %4.2f' %nltk.classify.accuracy( classifier, devtest_featureset)\n"
   ]
  },
  {
   "cell_type": "markdown",
   "metadata": {},
   "source": [
    "### Looking at Entropy and Model Performance"
   ]
  },
  {
   "cell_type": "code",
   "execution_count": 11,
   "metadata": {
    "collapsed": false
   },
   "outputs": [
    {
     "name": "stdout",
     "output_type": "stream",
     "text": [
      "-0.0\n",
      "0.811278124459\n",
      "1.0\n",
      "0.811278124459\n",
      "-0.0\n"
     ]
    }
   ],
   "source": [
    "#sample entropy from text\n",
    "print entropy(['male','male','male','male'])\n",
    "print entropy(['male','female','male','male'])\n",
    "print entropy(['female','male','female','male'])\n",
    "print entropy(['female','female','male','female'])\n",
    "print entropy(['female','female','female','female'])"
   ]
  },
  {
   "cell_type": "markdown",
   "metadata": {},
   "source": [
    "Entropy for input labels"
   ]
  },
  {
   "cell_type": "code",
   "execution_count": 12,
   "metadata": {
    "collapsed": false
   },
   "outputs": [
    {
     "name": "stdout",
     "output_type": "stream",
     "text": [
      "0.951030970455\n"
     ]
    }
   ],
   "source": [
    "entropy_input = [item[1] for item in names]\n",
    "#entropy_input[:10] -- sanity check for input\n",
    "\n",
    "print entropy(entropy_input)"
   ]
  },
  {
   "cell_type": "markdown",
   "metadata": {},
   "source": [
    "Entropy is close to to 1 and is considered high. This means that there is a wide variety of labels and they are at a \"medium\" frequency - P(l) and log2P(l) are not small. Attempting to run entropy against a single decision stump (only one level) based on the first classifier with the text's gender features"
   ]
  },
  {
   "cell_type": "code",
   "execution_count": 13,
   "metadata": {
    "collapsed": false
   },
   "outputs": [
    {
     "data": {
      "text/plain": [
       "'male'"
      ]
     },
     "execution_count": 13,
     "metadata": {},
     "output_type": "execute_result"
    }
   ],
   "source": [
    "classifier.classify( gender_features('Mauricio'))\n"
   ]
  },
  {
   "cell_type": "code",
   "execution_count": 14,
   "metadata": {
    "collapsed": false
   },
   "outputs": [
    {
     "data": {
      "text/html": [
       "<div>\n",
       "<table border=\"1\" class=\"dataframe\">\n",
       "  <thead>\n",
       "    <tr style=\"text-align: right;\">\n",
       "      <th>predicted</th>\n",
       "      <th>female</th>\n",
       "      <th>male</th>\n",
       "    </tr>\n",
       "    <tr>\n",
       "      <th>observed</th>\n",
       "      <th></th>\n",
       "      <th></th>\n",
       "    </tr>\n",
       "  </thead>\n",
       "  <tbody>\n",
       "    <tr>\n",
       "      <th>female</th>\n",
       "      <td>273</td>\n",
       "      <td>50</td>\n",
       "    </tr>\n",
       "    <tr>\n",
       "      <th>male</th>\n",
       "      <td>39</td>\n",
       "      <td>138</td>\n",
       "    </tr>\n",
       "  </tbody>\n",
       "</table>\n",
       "</div>"
      ],
      "text/plain": [
       "predicted  female  male\n",
       "observed               \n",
       "female        273    50\n",
       "male           39   138"
      ]
     },
     "execution_count": 14,
     "metadata": {},
     "output_type": "execute_result"
    }
   ],
   "source": [
    "preds = pd.DataFrame({'observed':[gender for (f,gender) in devtest_dataset],'predicted': [classifier.classify(gender_features(n)) for (n,g) in devtest_dataset]})\n",
    "pd.crosstab(preds.observed,preds.predicted)"
   ]
  },
  {
   "cell_type": "code",
   "execution_count": 15,
   "metadata": {
    "collapsed": true
   },
   "outputs": [],
   "source": [
    "\n",
    "#print 'Precision: %4.2f' %nltk.classify.precision( classifier, devtest_featureset)\n",
    "cm = nltk.ConfusionMatrix([gender for (f,gender) in devtest_featureset], [classifier.classify(gender_features(n)) for (n,g) in devtest_dataset])\n",
    "#[(gender_features(n),g) for (n,g) in devtest_dataset]"
   ]
  },
  {
   "cell_type": "code",
   "execution_count": 16,
   "metadata": {
    "collapsed": false
   },
   "outputs": [
    {
     "data": {
      "text/plain": [
       "<ConfusionMatrix: 411/500 correct>"
      ]
     },
     "execution_count": 16,
     "metadata": {},
     "output_type": "execute_result"
    }
   ],
   "source": [
    "cm"
   ]
  },
  {
   "cell_type": "code",
   "execution_count": 17,
   "metadata": {
    "collapsed": false
   },
   "outputs": [
    {
     "name": "stdout",
     "output_type": "stream",
     "text": [
      "Most Informative Features\n",
      "             last_letter = u'a'           female : male   =     42.4 : 1.0\n",
      "            last_trigram = u'nne'         female : male   =     31.1 : 1.0\n",
      "             last_letter = u'k'             male : female =     29.8 : 1.0\n",
      "            last_trigram = u'ita'         female : male   =     24.2 : 1.0\n",
      "            last_trigram = u'ana'         female : male   =     23.4 : 1.0\n",
      "            last_trigram = u'tta'         female : male   =     22.5 : 1.0\n",
      "            last_trigram = u'ard'           male : female =     20.2 : 1.0\n",
      "            last_trigram = u'vin'           male : female =     18.2 : 1.0\n",
      "            last_trigram = u'old'           male : female =     15.0 : 1.0\n",
      "             last_letter = u'f'             male : female =     14.6 : 1.0\n"
     ]
    }
   ],
   "source": [
    "classifier.show_most_informative_features()\n"
   ]
  },
  {
   "cell_type": "code",
   "execution_count": 18,
   "metadata": {
    "collapsed": false
   },
   "outputs": [
    {
     "data": {
      "text/plain": [
       "[('last_letter', u'a'),\n",
       " ('last_trigram', u'nne'),\n",
       " ('last_letter', u'k'),\n",
       " ('last_trigram', u'ita'),\n",
       " ('last_trigram', u'ana'),\n",
       " ('last_trigram', u'tta'),\n",
       " ('last_trigram', u'ard'),\n",
       " ('last_trigram', u'vin'),\n",
       " ('last_trigram', u'old'),\n",
       " ('last_letter', u'f'),\n",
       " ('first_trigram', u'gar'),\n",
       " ('first_trigram', u'tha'),\n",
       " ('last_trigram', u'ria'),\n",
       " ('last_trigram', u'dra'),\n",
       " ('first_trigram', u'cat'),\n",
       " ('last_trigram', u'ter'),\n",
       " ('last_trigram', u'ert'),\n",
       " ('last_trigram', u'son'),\n",
       " ('last_letter', u'v'),\n",
       " ('last_letter', u'm'),\n",
       " ('last_letter', u'p'),\n",
       " ('last_trigram', u'nni'),\n",
       " ('last_letter', u'd'),\n",
       " ('first_trigram', u'dor'),\n",
       " ('first_trigram', u'wal'),\n",
       " ('first_trigram', u'ros'),\n",
       " ('last_trigram', u'cia'),\n",
       " ('first_trigram', u'par'),\n",
       " ('last_trigram', u'ler'),\n",
       " ('last_trigram', u'van'),\n",
       " ('last_trigram', u'dor'),\n",
       " ('last_trigram', u'den'),\n",
       " ('last_trigram', u'ias'),\n",
       " ('entropy', 1.8423709931771088),\n",
       " ('last_letter', u'o'),\n",
       " ('last_trigram', u'lli'),\n",
       " ('last_trigram', u'isa'),\n",
       " ('first_trigram', u'cli'),\n",
       " ('last_trigram', u'ene'),\n",
       " ('last_trigram', u'und'),\n",
       " ('last_trigram', u'ven'),\n",
       " ('last_trigram', u'ssy'),\n",
       " ('last_trigram', u'bel'),\n",
       " ('first_trigram', u'arl'),\n",
       " ('last_letter', u'r'),\n",
       " ('last_trigram', u'lle'),\n",
       " ('last_trigram', u'iah'),\n",
       " ('last_trigram', u'ine'),\n",
       " ('last_trigram', u'and'),\n",
       " ('first_trigram', u'mik'),\n",
       " ('first_trigram', u'god'),\n",
       " ('first_trigram', u'nev'),\n",
       " ('first_trigram', u'bur'),\n",
       " ('first_trigram', u'dom'),\n",
       " ('last_trigram', u'uel'),\n",
       " ('last_trigram', u'nan'),\n",
       " ('first_trigram', u'ama'),\n",
       " ('first_trigram', u'mal'),\n",
       " ('first_trigram', u'mel'),\n",
       " ('last_trigram', u'ree'),\n",
       " ('first_trigram', u'lor'),\n",
       " ('first_trigram', u'flo'),\n",
       " ('first_trigram', u'lyn'),\n",
       " ('first_trigram', u'bro'),\n",
       " ('last_letter', u'g'),\n",
       " ('last_trigram', u'sie'),\n",
       " ('last_trigram', u'cie'),\n",
       " ('first_trigram', u'hel'),\n",
       " ('first_trigram', u'rod'),\n",
       " ('first_trigram', u'gio'),\n",
       " ('first_trigram', u'nea'),\n",
       " ('first_trigram', u'say'),\n",
       " ('first_trigram', u'ser'),\n",
       " ('last_trigram', u'per'),\n",
       " ('last_trigram', u'nus'),\n",
       " ('last_trigram', u'las'),\n",
       " ('last_trigram', u'lee'),\n",
       " ('last_trigram', u'her'),\n",
       " ('last_trigram', u'lyn'),\n",
       " ('last_trigram', u'tha'),\n",
       " ('first_trigram', u'jan'),\n",
       " ('last_trigram', u'sta'),\n",
       " ('last_trigram', u'ryn'),\n",
       " ('entropy', 2.7219280948873625),\n",
       " ('first_trigram', u'alf'),\n",
       " ('last_trigram', u'han'),\n",
       " ('last_trigram', u'lan'),\n",
       " ('last_trigram', u'ott'),\n",
       " ('last_trigram', u'ise'),\n",
       " ('first_trigram', u'jen'),\n",
       " ('first_trigram', u'tho'),\n",
       " ('last_trigram', u'ale'),\n",
       " ('last_letter', u'z'),\n",
       " ('first_trigram', u'kar'),\n",
       " ('entropy', 3.321928094887362),\n",
       " ('last_trigram', u'ndi'),\n",
       " ('last_trigram', u'ika'),\n",
       " ('last_trigram', u'tti'),\n",
       " ('last_trigram', u'nah'),\n",
       " ('first_trigram', u'sar')]"
      ]
     },
     "execution_count": 18,
     "metadata": {},
     "output_type": "execute_result"
    }
   ],
   "source": [
    "classifier.most_informative_features()"
   ]
  },
  {
   "cell_type": "markdown",
   "metadata": {},
   "source": [
    "Not sure if this entropy business means anything, perhaps the entropy distribution for male/female names is different"
   ]
  },
  {
   "cell_type": "code",
   "execution_count": 19,
   "metadata": {
    "collapsed": false
   },
   "outputs": [
    {
     "name": "stdout",
     "output_type": "stream",
     "text": [
      "Male Mean: 2.32\n",
      "Male SD: 0.35\n"
     ]
    },
    {
     "data": {
      "text/plain": [
       "<matplotlib.axes._subplots.AxesSubplot at 0xb8879b0>"
      ]
     },
     "execution_count": 19,
     "metadata": {},
     "output_type": "execute_result"
    },
    {
     "data": {
      "image/png": "[encoded data removed]",
      "text/plain": [
       "<matplotlib.figure.Figure at 0xb8871d0>"
      ]
     },
     "metadata": {},
     "output_type": "display_data"
    }
   ],
   "source": [
    "\n",
    "e_male = filter(None,[gender_features(n)['entropy'] if (g=='male') else None for (n,g) in devtest_dataset])\n",
    "print (\"Male Mean: %4.2f\" %statistics.mean(e_male))\n",
    "print (\"Male SD: %4.2f\" %statistics.stdev(e_male))\n",
    "pd.DataFrame(e_male).plot.hist()"
   ]
  },
  {
   "cell_type": "code",
   "execution_count": 20,
   "metadata": {
    "collapsed": false
   },
   "outputs": [
    {
     "name": "stdout",
     "output_type": "stream",
     "text": [
      "Female Mean: 2.27\n",
      "Female SD: 0.37\n"
     ]
    },
    {
     "data": {
      "text/plain": [
       "<matplotlib.axes._subplots.AxesSubplot at 0xbed06d8>"
      ]
     },
     "execution_count": 20,
     "metadata": {},
     "output_type": "execute_result"
    },
    {
     "data": {
      "image/png": "[encoded data removed]",
      "text/plain": [
       "<matplotlib.figure.Figure at 0xbe98f98>"
      ]
     },
     "metadata": {},
     "output_type": "display_data"
    }
   ],
   "source": [
    "e_female = filter(None,[gender_features(n)['entropy'] if (g=='female') else None for (n,g) in devtest_dataset])\n",
    "print 'Female Mean: %4.2f' %statistics.mean(e_female)\n",
    "print 'Female SD: %4.2f' %statistics.stdev(e_female)\n",
    "pd.DataFrame(e_female).plot.hist()"
   ]
  },
  {
   "cell_type": "code",
   "execution_count": 21,
   "metadata": {
    "collapsed": false
   },
   "outputs": [
    {
     "data": {
      "text/plain": [
       "Ttest_indResult(statistic=1.4909191968274809, pvalue=0.13661582489681476)"
      ]
     },
     "execution_count": 21,
     "metadata": {},
     "output_type": "execute_result"
    }
   ],
   "source": [
    "\n",
    "scipy.stats.ttest_ind(e_male,e_female)"
   ]
  },
  {
   "cell_type": "markdown",
   "metadata": {},
   "source": [
    "Although there is no statistical difference in the distribution of entropy values, the histograms appear to have a different configuration."
   ]
  },
  {
   "cell_type": "markdown",
   "metadata": {},
   "source": [
    "### Predictions\n",
    "\n",
    "Let's run some predicitons now:"
   ]
  },
  {
   "cell_type": "code",
   "execution_count": 22,
   "metadata": {
    "collapsed": true
   },
   "outputs": [],
   "source": [
    "preds = pd.DataFrame({'name':[f for (f,gender) in test_dataset],'observed':[gender for (f,gender) in test_dataset],'predicted': [classifier.classify(gender_features(n)) for (n,g) in test_dataset]})"
   ]
  },
  {
   "cell_type": "code",
   "execution_count": 23,
   "metadata": {
    "collapsed": false
   },
   "outputs": [
    {
     "data": {
      "text/html": [
       "<div>\n",
       "<table border=\"1\" class=\"dataframe\">\n",
       "  <thead>\n",
       "    <tr style=\"text-align: right;\">\n",
       "      <th>predicted</th>\n",
       "      <th>female</th>\n",
       "      <th>male</th>\n",
       "    </tr>\n",
       "    <tr>\n",
       "      <th>observed</th>\n",
       "      <th></th>\n",
       "      <th></th>\n",
       "    </tr>\n",
       "  </thead>\n",
       "  <tbody>\n",
       "    <tr>\n",
       "      <th>female</th>\n",
       "      <td>267</td>\n",
       "      <td>39</td>\n",
       "    </tr>\n",
       "    <tr>\n",
       "      <th>male</th>\n",
       "      <td>37</td>\n",
       "      <td>157</td>\n",
       "    </tr>\n",
       "  </tbody>\n",
       "</table>\n",
       "</div>"
      ],
      "text/plain": [
       "predicted  female  male\n",
       "observed               \n",
       "female        267    39\n",
       "male           37   157"
      ]
     },
     "execution_count": 23,
     "metadata": {},
     "output_type": "execute_result"
    }
   ],
   "source": [
    "pd.crosstab(preds.observed,preds.predicted)"
   ]
  },
  {
   "cell_type": "code",
   "execution_count": 24,
   "metadata": {
    "collapsed": false
   },
   "outputs": [
    {
     "data": {
      "text/plain": [
       "<matplotlib.text.Text at 0xcec5e10>"
      ]
     },
     "execution_count": 24,
     "metadata": {},
     "output_type": "execute_result"
    },
    {
     "data": {
      "image/png": "[encoded data removed]",
      "text/plain": [
       "<matplotlib.figure.Figure at 0xce78588>"
      ]
     },
     "metadata": {},
     "output_type": "display_data"
    }
   ],
   "source": [
    "import seaborn as sn\n",
    "import matplotlib.pyplot as plt\n",
    "import numpy as np\n",
    "genderDf = pd.crosstab(preds.observed,preds.predicted)\n",
    "\n",
    "genderDf = pd.DataFrame(genderDf)\n",
    "genderArray = np.array([[genderDf.at['female','female'], genderDf.at['female','male']],\n",
    "                   [genderDf.at['male','female'], genderDf.at['male','male']]])\n",
    "\n",
    "genderCM = pd.DataFrame(genderArray, index = ['female','male'],\n",
    "                  columns = ['female','male'])\n",
    "plt.figure(figsize = (5,4))\n",
    "ax = plt.axes()\n",
    "sn.heatmap(genderCM, annot=True,cmap='YlGnBu', fmt='g', ax = ax)\n",
    "\n",
    "ax.set_title('Actual Vs. Predicted')"
   ]
  }
 ],
 "metadata": {
  "kernelspec": {
   "display_name": "Python 2",
   "language": "python",
   "name": "python2"
  },
  "language_info": {
   "codemirror_mode": {
    "name": "ipython",
    "version": 2
   },
   "file_extension": ".py",
   "mimetype": "text/x-python",
   "name": "python",
   "nbconvert_exporter": "python",
   "pygments_lexer": "ipython2",
   "version": "2.7.11"
  }
 },
 "nbformat": 4,
 "nbformat_minor": 1
}
